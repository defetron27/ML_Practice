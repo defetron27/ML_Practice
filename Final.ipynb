{
  "nbformat": 4,
  "nbformat_minor": 0,
  "metadata": {
    "colab": {
      "name": "Copy of Final_Product_Recommendation (1).ipynb",
      "provenance": [],
      "collapsed_sections": [
        "Bb8BbVyXlVcg",
        "2XxW0FEnVQ9H",
        "puTlxZFnlvCB",
        "5g5yNoR3ux6f",
        "x3dxSwUhwRTC",
        "rUBcPzn_wkXq",
        "m7QK3CCLxS98",
        "gc3skLK1259m",
        "_x76uC0VX-Mk",
        "sdyKbugzJAj7",
        "sgp6DHhZIJgb"
      ]
    },
    "kernelspec": {
      "display_name": "Python 3",
      "name": "python3"
    },
    "language_info": {
      "name": "python"
    }
  },
  "cells": [
    {
      "cell_type": "markdown",
      "metadata": {
        "id": "Bb8BbVyXlVcg"
      },
      "source": [
        "# Import Packages"
      ]
    },
    {
      "cell_type": "code",
      "metadata": {
        "id": "myi9AyZUQhC1"
      },
      "source": [
        "import numpy as np\n",
        "import pandas as pd\n",
        "import matplotlib.pyplot as plt\n",
        "import seaborn as sns\n",
        "from sklearn.preprocessing import LabelEncoder\n",
        "from sklearn.metrics import accuracy_score\n",
        "from sklearn.neighbors import KNeighborsClassifier\n",
        "from sklearn.ensemble import RandomForestClassifier\n",
        "from sklearn.metrics import accuracy_score, classification_report\n",
        "import xgboost as xgb"
      ],
      "execution_count": 2,
      "outputs": []
    },
    {
      "cell_type": "markdown",
      "metadata": {
        "id": "2XxW0FEnVQ9H"
      },
      "source": [
        "# Initialize The Data Source"
      ]
    },
    {
      "cell_type": "code",
      "metadata": {
        "colab": {
          "base_uri": "https://localhost:8080/"
        },
        "id": "DLcz50ruluPy",
        "outputId": "70c5e318-8944-437c-ea0b-0a8db9d2f502"
      },
      "source": [
        "from google.colab import drive\n",
        " \n",
        "drive.mount(\"/content/drive\")"
      ],
      "execution_count": 3,
      "outputs": [
        {
          "output_type": "stream",
          "text": [
            "Go to this URL in a browser: https://accounts.google.com/o/oauth2/auth?client_id=947318989803-6bn6qk8qdgf4n4g3pfee6491hc0brc4i.apps.googleusercontent.com&redirect_uri=urn%3aietf%3awg%3aoauth%3a2.0%3aoob&scope=email%20https%3a%2f%2fwww.googleapis.com%2fauth%2fdocs.test%20https%3a%2f%2fwww.googleapis.com%2fauth%2fdrive%20https%3a%2f%2fwww.googleapis.com%2fauth%2fdrive.photos.readonly%20https%3a%2f%2fwww.googleapis.com%2fauth%2fpeopleapi.readonly%20https%3a%2f%2fwww.googleapis.com%2fauth%2fdrive.activity.readonly%20https%3a%2f%2fwww.googleapis.com%2fauth%2fexperimentsandconfigs%20https%3a%2f%2fwww.googleapis.com%2fauth%2fphotos.native&response_type=code\n",
            "\n",
            "Enter your authorization code:\n",
            "4/1AY0e-g51_v1tNmAAGSBP5-ixeChy56Xvn35VurX8wEJw36TP3baNRmoQ5-c\n",
            "Mounted at /content/drive\n"
          ],
          "name": "stdout"
        }
      ]
    },
    {
      "cell_type": "markdown",
      "metadata": {
        "id": "puTlxZFnlvCB"
      },
      "source": [
        "# Read Dataset"
      ]
    },
    {
      "cell_type": "code",
      "metadata": {
        "colab": {
          "base_uri": "https://localhost:8080/"
        },
        "id": "6TlmMIPkl_fq",
        "outputId": "e88afe75-58ca-4616-f760-f7a335386332"
      },
      "source": [
        "data = pd.read_csv(\"/content/drive/MyDrive/train_ver2.csv\")"
      ],
      "execution_count": 4,
      "outputs": [
        {
          "output_type": "stream",
          "text": [
            "/usr/local/lib/python3.7/dist-packages/IPython/core/interactiveshell.py:2718: DtypeWarning: Columns (5,8,11,15) have mixed types.Specify dtype option on import or set low_memory=False.\n",
            "  interactivity=interactivity, compiler=compiler, result=result)\n"
          ],
          "name": "stderr"
        }
      ]
    },
    {
      "cell_type": "markdown",
      "metadata": {
        "id": "5g5yNoR3ux6f"
      },
      "source": [
        "# Data Filtering"
      ]
    },
    {
      "cell_type": "code",
      "metadata": {
        "id": "n4Xz2l2OCN9m"
      },
      "source": [
        "data = data[(data['fecha_dato'] == '2015-06-28') | (data['fecha_dato'] == '2016-06-28')]"
      ],
      "execution_count": 5,
      "outputs": []
    },
    {
      "cell_type": "code",
      "metadata": {
        "colab": {
          "base_uri": "https://localhost:8080/"
        },
        "id": "a6FiQn5OF8Uv",
        "outputId": "62751597-4ff5-48b1-a9cd-bfc43f488aeb"
      },
      "source": [
        "data.shape"
      ],
      "execution_count": 6,
      "outputs": [
        {
          "output_type": "execute_result",
          "data": {
            "text/plain": [
              "(632110, 48)"
            ]
          },
          "metadata": {
            "tags": []
          },
          "execution_count": 6
        }
      ]
    },
    {
      "cell_type": "code",
      "metadata": {
        "colab": {
          "base_uri": "https://localhost:8080/",
          "height": 299
        },
        "id": "TihAj-dfmH47",
        "outputId": "1901fb2a-4928-499d-9fd7-67d01644b103"
      },
      "source": [
        "data.head()"
      ],
      "execution_count": 7,
      "outputs": [
        {
          "output_type": "execute_result",
          "data": {
            "text/html": [
              "<div>\n",
              "<style scoped>\n",
              "    .dataframe tbody tr th:only-of-type {\n",
              "        vertical-align: middle;\n",
              "    }\n",
              "\n",
              "    .dataframe tbody tr th {\n",
              "        vertical-align: top;\n",
              "    }\n",
              "\n",
              "    .dataframe thead th {\n",
              "        text-align: right;\n",
              "    }\n",
              "</style>\n",
              "<table border=\"1\" class=\"dataframe\">\n",
              "  <thead>\n",
              "    <tr style=\"text-align: right;\">\n",
              "      <th></th>\n",
              "      <th>fecha_dato</th>\n",
              "      <th>ncodpers</th>\n",
              "      <th>ind_empleado</th>\n",
              "      <th>pais_residencia</th>\n",
              "      <th>sexo</th>\n",
              "      <th>age</th>\n",
              "      <th>fecha_alta</th>\n",
              "      <th>ind_nuevo</th>\n",
              "      <th>antiguedad</th>\n",
              "      <th>indrel</th>\n",
              "      <th>ult_fec_cli_1t</th>\n",
              "      <th>indrel_1mes</th>\n",
              "      <th>tiprel_1mes</th>\n",
              "      <th>indresi</th>\n",
              "      <th>indext</th>\n",
              "      <th>conyuemp</th>\n",
              "      <th>canal_entrada</th>\n",
              "      <th>indfall</th>\n",
              "      <th>tipodom</th>\n",
              "      <th>cod_prov</th>\n",
              "      <th>nomprov</th>\n",
              "      <th>ind_actividad_cliente</th>\n",
              "      <th>renta</th>\n",
              "      <th>segmento</th>\n",
              "      <th>ind_ahor_fin_ult1</th>\n",
              "      <th>ind_aval_fin_ult1</th>\n",
              "      <th>ind_cco_fin_ult1</th>\n",
              "      <th>ind_cder_fin_ult1</th>\n",
              "      <th>ind_cno_fin_ult1</th>\n",
              "      <th>ind_ctju_fin_ult1</th>\n",
              "      <th>ind_ctma_fin_ult1</th>\n",
              "      <th>ind_ctop_fin_ult1</th>\n",
              "      <th>ind_ctpp_fin_ult1</th>\n",
              "      <th>ind_deco_fin_ult1</th>\n",
              "      <th>ind_deme_fin_ult1</th>\n",
              "      <th>ind_dela_fin_ult1</th>\n",
              "      <th>ind_ecue_fin_ult1</th>\n",
              "      <th>ind_fond_fin_ult1</th>\n",
              "      <th>ind_hip_fin_ult1</th>\n",
              "      <th>ind_plan_fin_ult1</th>\n",
              "      <th>ind_pres_fin_ult1</th>\n",
              "      <th>ind_reca_fin_ult1</th>\n",
              "      <th>ind_tjcr_fin_ult1</th>\n",
              "      <th>ind_valo_fin_ult1</th>\n",
              "      <th>ind_viv_fin_ult1</th>\n",
              "      <th>ind_nomina_ult1</th>\n",
              "      <th>ind_nom_pens_ult1</th>\n",
              "      <th>ind_recibo_ult1</th>\n",
              "    </tr>\n",
              "  </thead>\n",
              "  <tbody>\n",
              "    <tr>\n",
              "      <th>3144384</th>\n",
              "      <td>2015-06-28</td>\n",
              "      <td>16132</td>\n",
              "      <td>N</td>\n",
              "      <td>ES</td>\n",
              "      <td>V</td>\n",
              "      <td>48</td>\n",
              "      <td>1995-03-08</td>\n",
              "      <td>0.0</td>\n",
              "      <td>244</td>\n",
              "      <td>1.0</td>\n",
              "      <td>NaN</td>\n",
              "      <td>1</td>\n",
              "      <td>A</td>\n",
              "      <td>S</td>\n",
              "      <td>N</td>\n",
              "      <td>NaN</td>\n",
              "      <td>KAT</td>\n",
              "      <td>N</td>\n",
              "      <td>1.0</td>\n",
              "      <td>28.0</td>\n",
              "      <td>MADRID</td>\n",
              "      <td>0.0</td>\n",
              "      <td>160900.95</td>\n",
              "      <td>02 - PARTICULARES</td>\n",
              "      <td>0</td>\n",
              "      <td>0</td>\n",
              "      <td>1</td>\n",
              "      <td>0</td>\n",
              "      <td>0</td>\n",
              "      <td>0</td>\n",
              "      <td>0</td>\n",
              "      <td>0</td>\n",
              "      <td>0</td>\n",
              "      <td>0</td>\n",
              "      <td>0</td>\n",
              "      <td>0</td>\n",
              "      <td>0</td>\n",
              "      <td>0</td>\n",
              "      <td>0</td>\n",
              "      <td>0</td>\n",
              "      <td>0</td>\n",
              "      <td>0</td>\n",
              "      <td>0</td>\n",
              "      <td>0</td>\n",
              "      <td>0</td>\n",
              "      <td>0.0</td>\n",
              "      <td>0.0</td>\n",
              "      <td>0</td>\n",
              "    </tr>\n",
              "    <tr>\n",
              "      <th>3144385</th>\n",
              "      <td>2015-06-28</td>\n",
              "      <td>1063040</td>\n",
              "      <td>N</td>\n",
              "      <td>ES</td>\n",
              "      <td>V</td>\n",
              "      <td>25</td>\n",
              "      <td>2012-09-19</td>\n",
              "      <td>0.0</td>\n",
              "      <td>34</td>\n",
              "      <td>1.0</td>\n",
              "      <td>NaN</td>\n",
              "      <td>1</td>\n",
              "      <td>A</td>\n",
              "      <td>S</td>\n",
              "      <td>N</td>\n",
              "      <td>NaN</td>\n",
              "      <td>KHE</td>\n",
              "      <td>N</td>\n",
              "      <td>1.0</td>\n",
              "      <td>46.0</td>\n",
              "      <td>VALENCIA</td>\n",
              "      <td>1.0</td>\n",
              "      <td>74693.67</td>\n",
              "      <td>03 - UNIVERSITARIO</td>\n",
              "      <td>0</td>\n",
              "      <td>0</td>\n",
              "      <td>1</td>\n",
              "      <td>0</td>\n",
              "      <td>0</td>\n",
              "      <td>0</td>\n",
              "      <td>0</td>\n",
              "      <td>0</td>\n",
              "      <td>0</td>\n",
              "      <td>0</td>\n",
              "      <td>0</td>\n",
              "      <td>0</td>\n",
              "      <td>0</td>\n",
              "      <td>0</td>\n",
              "      <td>0</td>\n",
              "      <td>0</td>\n",
              "      <td>0</td>\n",
              "      <td>0</td>\n",
              "      <td>0</td>\n",
              "      <td>0</td>\n",
              "      <td>0</td>\n",
              "      <td>0.0</td>\n",
              "      <td>0.0</td>\n",
              "      <td>1</td>\n",
              "    </tr>\n",
              "    <tr>\n",
              "      <th>3144386</th>\n",
              "      <td>2015-06-28</td>\n",
              "      <td>1063041</td>\n",
              "      <td>N</td>\n",
              "      <td>ES</td>\n",
              "      <td>H</td>\n",
              "      <td>24</td>\n",
              "      <td>2012-09-19</td>\n",
              "      <td>0.0</td>\n",
              "      <td>34</td>\n",
              "      <td>1.0</td>\n",
              "      <td>NaN</td>\n",
              "      <td>1</td>\n",
              "      <td>A</td>\n",
              "      <td>S</td>\n",
              "      <td>N</td>\n",
              "      <td>NaN</td>\n",
              "      <td>KHE</td>\n",
              "      <td>N</td>\n",
              "      <td>1.0</td>\n",
              "      <td>23.0</td>\n",
              "      <td>JAEN</td>\n",
              "      <td>1.0</td>\n",
              "      <td>35053.77</td>\n",
              "      <td>03 - UNIVERSITARIO</td>\n",
              "      <td>0</td>\n",
              "      <td>0</td>\n",
              "      <td>1</td>\n",
              "      <td>0</td>\n",
              "      <td>0</td>\n",
              "      <td>0</td>\n",
              "      <td>0</td>\n",
              "      <td>0</td>\n",
              "      <td>0</td>\n",
              "      <td>0</td>\n",
              "      <td>0</td>\n",
              "      <td>0</td>\n",
              "      <td>0</td>\n",
              "      <td>0</td>\n",
              "      <td>0</td>\n",
              "      <td>0</td>\n",
              "      <td>0</td>\n",
              "      <td>0</td>\n",
              "      <td>0</td>\n",
              "      <td>0</td>\n",
              "      <td>0</td>\n",
              "      <td>0.0</td>\n",
              "      <td>0.0</td>\n",
              "      <td>0</td>\n",
              "    </tr>\n",
              "    <tr>\n",
              "      <th>3144387</th>\n",
              "      <td>2015-06-28</td>\n",
              "      <td>1063042</td>\n",
              "      <td>N</td>\n",
              "      <td>ES</td>\n",
              "      <td>H</td>\n",
              "      <td>26</td>\n",
              "      <td>2012-09-19</td>\n",
              "      <td>0.0</td>\n",
              "      <td>34</td>\n",
              "      <td>1.0</td>\n",
              "      <td>NaN</td>\n",
              "      <td>1</td>\n",
              "      <td>I</td>\n",
              "      <td>S</td>\n",
              "      <td>N</td>\n",
              "      <td>NaN</td>\n",
              "      <td>KHE</td>\n",
              "      <td>N</td>\n",
              "      <td>1.0</td>\n",
              "      <td>11.0</td>\n",
              "      <td>CADIZ</td>\n",
              "      <td>0.0</td>\n",
              "      <td>72386.49</td>\n",
              "      <td>03 - UNIVERSITARIO</td>\n",
              "      <td>0</td>\n",
              "      <td>0</td>\n",
              "      <td>1</td>\n",
              "      <td>0</td>\n",
              "      <td>0</td>\n",
              "      <td>0</td>\n",
              "      <td>0</td>\n",
              "      <td>0</td>\n",
              "      <td>0</td>\n",
              "      <td>0</td>\n",
              "      <td>0</td>\n",
              "      <td>0</td>\n",
              "      <td>0</td>\n",
              "      <td>0</td>\n",
              "      <td>0</td>\n",
              "      <td>0</td>\n",
              "      <td>0</td>\n",
              "      <td>0</td>\n",
              "      <td>0</td>\n",
              "      <td>0</td>\n",
              "      <td>0</td>\n",
              "      <td>0.0</td>\n",
              "      <td>0.0</td>\n",
              "      <td>0</td>\n",
              "    </tr>\n",
              "    <tr>\n",
              "      <th>3144388</th>\n",
              "      <td>2015-06-28</td>\n",
              "      <td>1063043</td>\n",
              "      <td>N</td>\n",
              "      <td>ES</td>\n",
              "      <td>V</td>\n",
              "      <td>23</td>\n",
              "      <td>2012-09-19</td>\n",
              "      <td>0.0</td>\n",
              "      <td>34</td>\n",
              "      <td>1.0</td>\n",
              "      <td>NaN</td>\n",
              "      <td>1</td>\n",
              "      <td>I</td>\n",
              "      <td>S</td>\n",
              "      <td>N</td>\n",
              "      <td>NaN</td>\n",
              "      <td>KHE</td>\n",
              "      <td>N</td>\n",
              "      <td>1.0</td>\n",
              "      <td>36.0</td>\n",
              "      <td>PONTEVEDRA</td>\n",
              "      <td>1.0</td>\n",
              "      <td>NaN</td>\n",
              "      <td>03 - UNIVERSITARIO</td>\n",
              "      <td>0</td>\n",
              "      <td>0</td>\n",
              "      <td>1</td>\n",
              "      <td>0</td>\n",
              "      <td>0</td>\n",
              "      <td>0</td>\n",
              "      <td>0</td>\n",
              "      <td>0</td>\n",
              "      <td>0</td>\n",
              "      <td>0</td>\n",
              "      <td>0</td>\n",
              "      <td>0</td>\n",
              "      <td>0</td>\n",
              "      <td>0</td>\n",
              "      <td>0</td>\n",
              "      <td>0</td>\n",
              "      <td>0</td>\n",
              "      <td>0</td>\n",
              "      <td>0</td>\n",
              "      <td>0</td>\n",
              "      <td>0</td>\n",
              "      <td>0.0</td>\n",
              "      <td>0.0</td>\n",
              "      <td>0</td>\n",
              "    </tr>\n",
              "  </tbody>\n",
              "</table>\n",
              "</div>"
            ],
            "text/plain": [
              "         fecha_dato  ncodpers  ... ind_nom_pens_ult1 ind_recibo_ult1\n",
              "3144384  2015-06-28     16132  ...               0.0               0\n",
              "3144385  2015-06-28   1063040  ...               0.0               1\n",
              "3144386  2015-06-28   1063041  ...               0.0               0\n",
              "3144387  2015-06-28   1063042  ...               0.0               0\n",
              "3144388  2015-06-28   1063043  ...               0.0               0\n",
              "\n",
              "[5 rows x 48 columns]"
            ]
          },
          "metadata": {
            "tags": []
          },
          "execution_count": 7
        }
      ]
    },
    {
      "cell_type": "code",
      "metadata": {
        "colab": {
          "base_uri": "https://localhost:8080/"
        },
        "id": "YpKBp9Wmukb7",
        "outputId": "f9e4d783-4dd5-41e2-8837-a04e3ca922fa"
      },
      "source": [
        "data.info()"
      ],
      "execution_count": 8,
      "outputs": [
        {
          "output_type": "stream",
          "text": [
            "<class 'pandas.core.frame.DataFrame'>\n",
            "Int64Index: 632110 entries, 3144384 to 3776493\n",
            "Data columns (total 48 columns):\n",
            " #   Column                 Non-Null Count   Dtype  \n",
            "---  ------                 --------------   -----  \n",
            " 0   fecha_dato             632110 non-null  object \n",
            " 1   ncodpers               632110 non-null  int64  \n",
            " 2   ind_empleado           630249 non-null  object \n",
            " 3   pais_residencia        630249 non-null  object \n",
            " 4   sexo                   630246 non-null  object \n",
            " 5   age                    632110 non-null  object \n",
            " 6   fecha_alta             630249 non-null  object \n",
            " 7   ind_nuevo              630249 non-null  float64\n",
            " 8   antiguedad             632110 non-null  object \n",
            " 9   indrel                 630249 non-null  float64\n",
            " 10  ult_fec_cli_1t         782 non-null     object \n",
            " 11  indrel_1mes            630249 non-null  object \n",
            " 12  tiprel_1mes            630249 non-null  object \n",
            " 13  indresi                630249 non-null  object \n",
            " 14  indext                 630249 non-null  object \n",
            " 15  conyuemp               89 non-null      object \n",
            " 16  canal_entrada          630228 non-null  object \n",
            " 17  indfall                630249 non-null  object \n",
            " 18  tipodom                630249 non-null  float64\n",
            " 19  cod_prov               626574 non-null  float64\n",
            " 20  nomprov                626574 non-null  object \n",
            " 21  ind_actividad_cliente  630249 non-null  float64\n",
            " 22  renta                  523671 non-null  float64\n",
            " 23  segmento               630242 non-null  object \n",
            " 24  ind_ahor_fin_ult1      632110 non-null  int64  \n",
            " 25  ind_aval_fin_ult1      632110 non-null  int64  \n",
            " 26  ind_cco_fin_ult1       632110 non-null  int64  \n",
            " 27  ind_cder_fin_ult1      632110 non-null  int64  \n",
            " 28  ind_cno_fin_ult1       632110 non-null  int64  \n",
            " 29  ind_ctju_fin_ult1      632110 non-null  int64  \n",
            " 30  ind_ctma_fin_ult1      632110 non-null  int64  \n",
            " 31  ind_ctop_fin_ult1      632110 non-null  int64  \n",
            " 32  ind_ctpp_fin_ult1      632110 non-null  int64  \n",
            " 33  ind_deco_fin_ult1      632110 non-null  int64  \n",
            " 34  ind_deme_fin_ult1      632110 non-null  int64  \n",
            " 35  ind_dela_fin_ult1      632110 non-null  int64  \n",
            " 36  ind_ecue_fin_ult1      632110 non-null  int64  \n",
            " 37  ind_fond_fin_ult1      632110 non-null  int64  \n",
            " 38  ind_hip_fin_ult1       632110 non-null  int64  \n",
            " 39  ind_plan_fin_ult1      632110 non-null  int64  \n",
            " 40  ind_pres_fin_ult1      632110 non-null  int64  \n",
            " 41  ind_reca_fin_ult1      632110 non-null  int64  \n",
            " 42  ind_tjcr_fin_ult1      632110 non-null  int64  \n",
            " 43  ind_valo_fin_ult1      632110 non-null  int64  \n",
            " 44  ind_viv_fin_ult1       632110 non-null  int64  \n",
            " 45  ind_nomina_ult1        630284 non-null  float64\n",
            " 46  ind_nom_pens_ult1      630284 non-null  float64\n",
            " 47  ind_recibo_ult1        632110 non-null  int64  \n",
            "dtypes: float64(8), int64(23), object(17)\n",
            "memory usage: 236.3+ MB\n"
          ],
          "name": "stdout"
        }
      ]
    },
    {
      "cell_type": "code",
      "metadata": {
        "colab": {
          "base_uri": "https://localhost:8080/"
        },
        "id": "16_6Batioy81",
        "outputId": "85a6a0d6-44a3-4738-f824-d46f48c0b0dd"
      },
      "source": [
        "data.columns"
      ],
      "execution_count": 9,
      "outputs": [
        {
          "output_type": "execute_result",
          "data": {
            "text/plain": [
              "Index(['fecha_dato', 'ncodpers', 'ind_empleado', 'pais_residencia', 'sexo',\n",
              "       'age', 'fecha_alta', 'ind_nuevo', 'antiguedad', 'indrel',\n",
              "       'ult_fec_cli_1t', 'indrel_1mes', 'tiprel_1mes', 'indresi', 'indext',\n",
              "       'conyuemp', 'canal_entrada', 'indfall', 'tipodom', 'cod_prov',\n",
              "       'nomprov', 'ind_actividad_cliente', 'renta', 'segmento',\n",
              "       'ind_ahor_fin_ult1', 'ind_aval_fin_ult1', 'ind_cco_fin_ult1',\n",
              "       'ind_cder_fin_ult1', 'ind_cno_fin_ult1', 'ind_ctju_fin_ult1',\n",
              "       'ind_ctma_fin_ult1', 'ind_ctop_fin_ult1', 'ind_ctpp_fin_ult1',\n",
              "       'ind_deco_fin_ult1', 'ind_deme_fin_ult1', 'ind_dela_fin_ult1',\n",
              "       'ind_ecue_fin_ult1', 'ind_fond_fin_ult1', 'ind_hip_fin_ult1',\n",
              "       'ind_plan_fin_ult1', 'ind_pres_fin_ult1', 'ind_reca_fin_ult1',\n",
              "       'ind_tjcr_fin_ult1', 'ind_valo_fin_ult1', 'ind_viv_fin_ult1',\n",
              "       'ind_nomina_ult1', 'ind_nom_pens_ult1', 'ind_recibo_ult1'],\n",
              "      dtype='object')"
            ]
          },
          "metadata": {
            "tags": []
          },
          "execution_count": 9
        }
      ]
    },
    {
      "cell_type": "markdown",
      "metadata": {
        "id": "x3dxSwUhwRTC"
      },
      "source": [
        "# Data Backup"
      ]
    },
    {
      "cell_type": "code",
      "metadata": {
        "id": "b4DwFI6BJ9Sg"
      },
      "source": [
        "df = pd.DataFrame(data=data, columns=data.columns, index=data.index)"
      ],
      "execution_count": 10,
      "outputs": []
    },
    {
      "cell_type": "code",
      "metadata": {
        "colab": {
          "base_uri": "https://localhost:8080/",
          "height": 0
        },
        "id": "Ti2VbVNUwg-2",
        "outputId": "90984307-f0e4-486d-ee10-14650328fe12"
      },
      "source": [
        "df.head()"
      ],
      "execution_count": 11,
      "outputs": [
        {
          "output_type": "execute_result",
          "data": {
            "text/html": [
              "<div>\n",
              "<style scoped>\n",
              "    .dataframe tbody tr th:only-of-type {\n",
              "        vertical-align: middle;\n",
              "    }\n",
              "\n",
              "    .dataframe tbody tr th {\n",
              "        vertical-align: top;\n",
              "    }\n",
              "\n",
              "    .dataframe thead th {\n",
              "        text-align: right;\n",
              "    }\n",
              "</style>\n",
              "<table border=\"1\" class=\"dataframe\">\n",
              "  <thead>\n",
              "    <tr style=\"text-align: right;\">\n",
              "      <th></th>\n",
              "      <th>fecha_dato</th>\n",
              "      <th>ncodpers</th>\n",
              "      <th>ind_empleado</th>\n",
              "      <th>pais_residencia</th>\n",
              "      <th>sexo</th>\n",
              "      <th>age</th>\n",
              "      <th>fecha_alta</th>\n",
              "      <th>ind_nuevo</th>\n",
              "      <th>antiguedad</th>\n",
              "      <th>indrel</th>\n",
              "      <th>ult_fec_cli_1t</th>\n",
              "      <th>indrel_1mes</th>\n",
              "      <th>tiprel_1mes</th>\n",
              "      <th>indresi</th>\n",
              "      <th>indext</th>\n",
              "      <th>conyuemp</th>\n",
              "      <th>canal_entrada</th>\n",
              "      <th>indfall</th>\n",
              "      <th>tipodom</th>\n",
              "      <th>cod_prov</th>\n",
              "      <th>nomprov</th>\n",
              "      <th>ind_actividad_cliente</th>\n",
              "      <th>renta</th>\n",
              "      <th>segmento</th>\n",
              "      <th>ind_ahor_fin_ult1</th>\n",
              "      <th>ind_aval_fin_ult1</th>\n",
              "      <th>ind_cco_fin_ult1</th>\n",
              "      <th>ind_cder_fin_ult1</th>\n",
              "      <th>ind_cno_fin_ult1</th>\n",
              "      <th>ind_ctju_fin_ult1</th>\n",
              "      <th>ind_ctma_fin_ult1</th>\n",
              "      <th>ind_ctop_fin_ult1</th>\n",
              "      <th>ind_ctpp_fin_ult1</th>\n",
              "      <th>ind_deco_fin_ult1</th>\n",
              "      <th>ind_deme_fin_ult1</th>\n",
              "      <th>ind_dela_fin_ult1</th>\n",
              "      <th>ind_ecue_fin_ult1</th>\n",
              "      <th>ind_fond_fin_ult1</th>\n",
              "      <th>ind_hip_fin_ult1</th>\n",
              "      <th>ind_plan_fin_ult1</th>\n",
              "      <th>ind_pres_fin_ult1</th>\n",
              "      <th>ind_reca_fin_ult1</th>\n",
              "      <th>ind_tjcr_fin_ult1</th>\n",
              "      <th>ind_valo_fin_ult1</th>\n",
              "      <th>ind_viv_fin_ult1</th>\n",
              "      <th>ind_nomina_ult1</th>\n",
              "      <th>ind_nom_pens_ult1</th>\n",
              "      <th>ind_recibo_ult1</th>\n",
              "    </tr>\n",
              "  </thead>\n",
              "  <tbody>\n",
              "    <tr>\n",
              "      <th>3144384</th>\n",
              "      <td>2015-06-28</td>\n",
              "      <td>16132</td>\n",
              "      <td>N</td>\n",
              "      <td>ES</td>\n",
              "      <td>V</td>\n",
              "      <td>48</td>\n",
              "      <td>1995-03-08</td>\n",
              "      <td>0.0</td>\n",
              "      <td>244</td>\n",
              "      <td>1.0</td>\n",
              "      <td>NaN</td>\n",
              "      <td>1</td>\n",
              "      <td>A</td>\n",
              "      <td>S</td>\n",
              "      <td>N</td>\n",
              "      <td>NaN</td>\n",
              "      <td>KAT</td>\n",
              "      <td>N</td>\n",
              "      <td>1.0</td>\n",
              "      <td>28.0</td>\n",
              "      <td>MADRID</td>\n",
              "      <td>0.0</td>\n",
              "      <td>160900.95</td>\n",
              "      <td>02 - PARTICULARES</td>\n",
              "      <td>0</td>\n",
              "      <td>0</td>\n",
              "      <td>1</td>\n",
              "      <td>0</td>\n",
              "      <td>0</td>\n",
              "      <td>0</td>\n",
              "      <td>0</td>\n",
              "      <td>0</td>\n",
              "      <td>0</td>\n",
              "      <td>0</td>\n",
              "      <td>0</td>\n",
              "      <td>0</td>\n",
              "      <td>0</td>\n",
              "      <td>0</td>\n",
              "      <td>0</td>\n",
              "      <td>0</td>\n",
              "      <td>0</td>\n",
              "      <td>0</td>\n",
              "      <td>0</td>\n",
              "      <td>0</td>\n",
              "      <td>0</td>\n",
              "      <td>0.0</td>\n",
              "      <td>0.0</td>\n",
              "      <td>0</td>\n",
              "    </tr>\n",
              "    <tr>\n",
              "      <th>3144385</th>\n",
              "      <td>2015-06-28</td>\n",
              "      <td>1063040</td>\n",
              "      <td>N</td>\n",
              "      <td>ES</td>\n",
              "      <td>V</td>\n",
              "      <td>25</td>\n",
              "      <td>2012-09-19</td>\n",
              "      <td>0.0</td>\n",
              "      <td>34</td>\n",
              "      <td>1.0</td>\n",
              "      <td>NaN</td>\n",
              "      <td>1</td>\n",
              "      <td>A</td>\n",
              "      <td>S</td>\n",
              "      <td>N</td>\n",
              "      <td>NaN</td>\n",
              "      <td>KHE</td>\n",
              "      <td>N</td>\n",
              "      <td>1.0</td>\n",
              "      <td>46.0</td>\n",
              "      <td>VALENCIA</td>\n",
              "      <td>1.0</td>\n",
              "      <td>74693.67</td>\n",
              "      <td>03 - UNIVERSITARIO</td>\n",
              "      <td>0</td>\n",
              "      <td>0</td>\n",
              "      <td>1</td>\n",
              "      <td>0</td>\n",
              "      <td>0</td>\n",
              "      <td>0</td>\n",
              "      <td>0</td>\n",
              "      <td>0</td>\n",
              "      <td>0</td>\n",
              "      <td>0</td>\n",
              "      <td>0</td>\n",
              "      <td>0</td>\n",
              "      <td>0</td>\n",
              "      <td>0</td>\n",
              "      <td>0</td>\n",
              "      <td>0</td>\n",
              "      <td>0</td>\n",
              "      <td>0</td>\n",
              "      <td>0</td>\n",
              "      <td>0</td>\n",
              "      <td>0</td>\n",
              "      <td>0.0</td>\n",
              "      <td>0.0</td>\n",
              "      <td>1</td>\n",
              "    </tr>\n",
              "    <tr>\n",
              "      <th>3144386</th>\n",
              "      <td>2015-06-28</td>\n",
              "      <td>1063041</td>\n",
              "      <td>N</td>\n",
              "      <td>ES</td>\n",
              "      <td>H</td>\n",
              "      <td>24</td>\n",
              "      <td>2012-09-19</td>\n",
              "      <td>0.0</td>\n",
              "      <td>34</td>\n",
              "      <td>1.0</td>\n",
              "      <td>NaN</td>\n",
              "      <td>1</td>\n",
              "      <td>A</td>\n",
              "      <td>S</td>\n",
              "      <td>N</td>\n",
              "      <td>NaN</td>\n",
              "      <td>KHE</td>\n",
              "      <td>N</td>\n",
              "      <td>1.0</td>\n",
              "      <td>23.0</td>\n",
              "      <td>JAEN</td>\n",
              "      <td>1.0</td>\n",
              "      <td>35053.77</td>\n",
              "      <td>03 - UNIVERSITARIO</td>\n",
              "      <td>0</td>\n",
              "      <td>0</td>\n",
              "      <td>1</td>\n",
              "      <td>0</td>\n",
              "      <td>0</td>\n",
              "      <td>0</td>\n",
              "      <td>0</td>\n",
              "      <td>0</td>\n",
              "      <td>0</td>\n",
              "      <td>0</td>\n",
              "      <td>0</td>\n",
              "      <td>0</td>\n",
              "      <td>0</td>\n",
              "      <td>0</td>\n",
              "      <td>0</td>\n",
              "      <td>0</td>\n",
              "      <td>0</td>\n",
              "      <td>0</td>\n",
              "      <td>0</td>\n",
              "      <td>0</td>\n",
              "      <td>0</td>\n",
              "      <td>0.0</td>\n",
              "      <td>0.0</td>\n",
              "      <td>0</td>\n",
              "    </tr>\n",
              "    <tr>\n",
              "      <th>3144387</th>\n",
              "      <td>2015-06-28</td>\n",
              "      <td>1063042</td>\n",
              "      <td>N</td>\n",
              "      <td>ES</td>\n",
              "      <td>H</td>\n",
              "      <td>26</td>\n",
              "      <td>2012-09-19</td>\n",
              "      <td>0.0</td>\n",
              "      <td>34</td>\n",
              "      <td>1.0</td>\n",
              "      <td>NaN</td>\n",
              "      <td>1</td>\n",
              "      <td>I</td>\n",
              "      <td>S</td>\n",
              "      <td>N</td>\n",
              "      <td>NaN</td>\n",
              "      <td>KHE</td>\n",
              "      <td>N</td>\n",
              "      <td>1.0</td>\n",
              "      <td>11.0</td>\n",
              "      <td>CADIZ</td>\n",
              "      <td>0.0</td>\n",
              "      <td>72386.49</td>\n",
              "      <td>03 - UNIVERSITARIO</td>\n",
              "      <td>0</td>\n",
              "      <td>0</td>\n",
              "      <td>1</td>\n",
              "      <td>0</td>\n",
              "      <td>0</td>\n",
              "      <td>0</td>\n",
              "      <td>0</td>\n",
              "      <td>0</td>\n",
              "      <td>0</td>\n",
              "      <td>0</td>\n",
              "      <td>0</td>\n",
              "      <td>0</td>\n",
              "      <td>0</td>\n",
              "      <td>0</td>\n",
              "      <td>0</td>\n",
              "      <td>0</td>\n",
              "      <td>0</td>\n",
              "      <td>0</td>\n",
              "      <td>0</td>\n",
              "      <td>0</td>\n",
              "      <td>0</td>\n",
              "      <td>0.0</td>\n",
              "      <td>0.0</td>\n",
              "      <td>0</td>\n",
              "    </tr>\n",
              "    <tr>\n",
              "      <th>3144388</th>\n",
              "      <td>2015-06-28</td>\n",
              "      <td>1063043</td>\n",
              "      <td>N</td>\n",
              "      <td>ES</td>\n",
              "      <td>V</td>\n",
              "      <td>23</td>\n",
              "      <td>2012-09-19</td>\n",
              "      <td>0.0</td>\n",
              "      <td>34</td>\n",
              "      <td>1.0</td>\n",
              "      <td>NaN</td>\n",
              "      <td>1</td>\n",
              "      <td>I</td>\n",
              "      <td>S</td>\n",
              "      <td>N</td>\n",
              "      <td>NaN</td>\n",
              "      <td>KHE</td>\n",
              "      <td>N</td>\n",
              "      <td>1.0</td>\n",
              "      <td>36.0</td>\n",
              "      <td>PONTEVEDRA</td>\n",
              "      <td>1.0</td>\n",
              "      <td>NaN</td>\n",
              "      <td>03 - UNIVERSITARIO</td>\n",
              "      <td>0</td>\n",
              "      <td>0</td>\n",
              "      <td>1</td>\n",
              "      <td>0</td>\n",
              "      <td>0</td>\n",
              "      <td>0</td>\n",
              "      <td>0</td>\n",
              "      <td>0</td>\n",
              "      <td>0</td>\n",
              "      <td>0</td>\n",
              "      <td>0</td>\n",
              "      <td>0</td>\n",
              "      <td>0</td>\n",
              "      <td>0</td>\n",
              "      <td>0</td>\n",
              "      <td>0</td>\n",
              "      <td>0</td>\n",
              "      <td>0</td>\n",
              "      <td>0</td>\n",
              "      <td>0</td>\n",
              "      <td>0</td>\n",
              "      <td>0.0</td>\n",
              "      <td>0.0</td>\n",
              "      <td>0</td>\n",
              "    </tr>\n",
              "  </tbody>\n",
              "</table>\n",
              "</div>"
            ],
            "text/plain": [
              "         fecha_dato  ncodpers  ... ind_nom_pens_ult1 ind_recibo_ult1\n",
              "3144384  2015-06-28     16132  ...               0.0               0\n",
              "3144385  2015-06-28   1063040  ...               0.0               1\n",
              "3144386  2015-06-28   1063041  ...               0.0               0\n",
              "3144387  2015-06-28   1063042  ...               0.0               0\n",
              "3144388  2015-06-28   1063043  ...               0.0               0\n",
              "\n",
              "[5 rows x 48 columns]"
            ]
          },
          "metadata": {
            "tags": []
          },
          "execution_count": 11
        }
      ]
    },
    {
      "cell_type": "markdown",
      "metadata": {
        "id": "rUBcPzn_wkXq"
      },
      "source": [
        "# Remove NAN Values"
      ]
    },
    {
      "cell_type": "code",
      "metadata": {
        "colab": {
          "base_uri": "https://localhost:8080/"
        },
        "id": "cLGbH_SmwpO9",
        "outputId": "daba0549-ffa3-4983-b0fd-df35c3745d37"
      },
      "source": [
        "df.info()"
      ],
      "execution_count": 12,
      "outputs": [
        {
          "output_type": "stream",
          "text": [
            "<class 'pandas.core.frame.DataFrame'>\n",
            "Int64Index: 632110 entries, 3144384 to 3776493\n",
            "Data columns (total 48 columns):\n",
            " #   Column                 Non-Null Count   Dtype  \n",
            "---  ------                 --------------   -----  \n",
            " 0   fecha_dato             632110 non-null  object \n",
            " 1   ncodpers               632110 non-null  int64  \n",
            " 2   ind_empleado           630249 non-null  object \n",
            " 3   pais_residencia        630249 non-null  object \n",
            " 4   sexo                   630246 non-null  object \n",
            " 5   age                    632110 non-null  object \n",
            " 6   fecha_alta             630249 non-null  object \n",
            " 7   ind_nuevo              630249 non-null  float64\n",
            " 8   antiguedad             632110 non-null  object \n",
            " 9   indrel                 630249 non-null  float64\n",
            " 10  ult_fec_cli_1t         782 non-null     object \n",
            " 11  indrel_1mes            630249 non-null  object \n",
            " 12  tiprel_1mes            630249 non-null  object \n",
            " 13  indresi                630249 non-null  object \n",
            " 14  indext                 630249 non-null  object \n",
            " 15  conyuemp               89 non-null      object \n",
            " 16  canal_entrada          630228 non-null  object \n",
            " 17  indfall                630249 non-null  object \n",
            " 18  tipodom                630249 non-null  float64\n",
            " 19  cod_prov               626574 non-null  float64\n",
            " 20  nomprov                626574 non-null  object \n",
            " 21  ind_actividad_cliente  630249 non-null  float64\n",
            " 22  renta                  523671 non-null  float64\n",
            " 23  segmento               630242 non-null  object \n",
            " 24  ind_ahor_fin_ult1      632110 non-null  int64  \n",
            " 25  ind_aval_fin_ult1      632110 non-null  int64  \n",
            " 26  ind_cco_fin_ult1       632110 non-null  int64  \n",
            " 27  ind_cder_fin_ult1      632110 non-null  int64  \n",
            " 28  ind_cno_fin_ult1       632110 non-null  int64  \n",
            " 29  ind_ctju_fin_ult1      632110 non-null  int64  \n",
            " 30  ind_ctma_fin_ult1      632110 non-null  int64  \n",
            " 31  ind_ctop_fin_ult1      632110 non-null  int64  \n",
            " 32  ind_ctpp_fin_ult1      632110 non-null  int64  \n",
            " 33  ind_deco_fin_ult1      632110 non-null  int64  \n",
            " 34  ind_deme_fin_ult1      632110 non-null  int64  \n",
            " 35  ind_dela_fin_ult1      632110 non-null  int64  \n",
            " 36  ind_ecue_fin_ult1      632110 non-null  int64  \n",
            " 37  ind_fond_fin_ult1      632110 non-null  int64  \n",
            " 38  ind_hip_fin_ult1       632110 non-null  int64  \n",
            " 39  ind_plan_fin_ult1      632110 non-null  int64  \n",
            " 40  ind_pres_fin_ult1      632110 non-null  int64  \n",
            " 41  ind_reca_fin_ult1      632110 non-null  int64  \n",
            " 42  ind_tjcr_fin_ult1      632110 non-null  int64  \n",
            " 43  ind_valo_fin_ult1      632110 non-null  int64  \n",
            " 44  ind_viv_fin_ult1       632110 non-null  int64  \n",
            " 45  ind_nomina_ult1        630284 non-null  float64\n",
            " 46  ind_nom_pens_ult1      630284 non-null  float64\n",
            " 47  ind_recibo_ult1        632110 non-null  int64  \n",
            "dtypes: float64(8), int64(23), object(17)\n",
            "memory usage: 236.3+ MB\n"
          ],
          "name": "stdout"
        }
      ]
    },
    {
      "cell_type": "code",
      "metadata": {
        "id": "sNHY71gxw3NR"
      },
      "source": [
        "df.drop(['conyuemp', 'ult_fec_cli_1t', 'fecha_alta'], inplace=True, axis=1)"
      ],
      "execution_count": 13,
      "outputs": []
    },
    {
      "cell_type": "code",
      "metadata": {
        "colab": {
          "base_uri": "https://localhost:8080/"
        },
        "id": "vJQ8OLCIw-P4",
        "outputId": "8efad99d-56ef-4bbd-8c01-be9bf9d20964"
      },
      "source": [
        "df.info()"
      ],
      "execution_count": 14,
      "outputs": [
        {
          "output_type": "stream",
          "text": [
            "<class 'pandas.core.frame.DataFrame'>\n",
            "Int64Index: 632110 entries, 3144384 to 3776493\n",
            "Data columns (total 45 columns):\n",
            " #   Column                 Non-Null Count   Dtype  \n",
            "---  ------                 --------------   -----  \n",
            " 0   fecha_dato             632110 non-null  object \n",
            " 1   ncodpers               632110 non-null  int64  \n",
            " 2   ind_empleado           630249 non-null  object \n",
            " 3   pais_residencia        630249 non-null  object \n",
            " 4   sexo                   630246 non-null  object \n",
            " 5   age                    632110 non-null  object \n",
            " 6   ind_nuevo              630249 non-null  float64\n",
            " 7   antiguedad             632110 non-null  object \n",
            " 8   indrel                 630249 non-null  float64\n",
            " 9   indrel_1mes            630249 non-null  object \n",
            " 10  tiprel_1mes            630249 non-null  object \n",
            " 11  indresi                630249 non-null  object \n",
            " 12  indext                 630249 non-null  object \n",
            " 13  canal_entrada          630228 non-null  object \n",
            " 14  indfall                630249 non-null  object \n",
            " 15  tipodom                630249 non-null  float64\n",
            " 16  cod_prov               626574 non-null  float64\n",
            " 17  nomprov                626574 non-null  object \n",
            " 18  ind_actividad_cliente  630249 non-null  float64\n",
            " 19  renta                  523671 non-null  float64\n",
            " 20  segmento               630242 non-null  object \n",
            " 21  ind_ahor_fin_ult1      632110 non-null  int64  \n",
            " 22  ind_aval_fin_ult1      632110 non-null  int64  \n",
            " 23  ind_cco_fin_ult1       632110 non-null  int64  \n",
            " 24  ind_cder_fin_ult1      632110 non-null  int64  \n",
            " 25  ind_cno_fin_ult1       632110 non-null  int64  \n",
            " 26  ind_ctju_fin_ult1      632110 non-null  int64  \n",
            " 27  ind_ctma_fin_ult1      632110 non-null  int64  \n",
            " 28  ind_ctop_fin_ult1      632110 non-null  int64  \n",
            " 29  ind_ctpp_fin_ult1      632110 non-null  int64  \n",
            " 30  ind_deco_fin_ult1      632110 non-null  int64  \n",
            " 31  ind_deme_fin_ult1      632110 non-null  int64  \n",
            " 32  ind_dela_fin_ult1      632110 non-null  int64  \n",
            " 33  ind_ecue_fin_ult1      632110 non-null  int64  \n",
            " 34  ind_fond_fin_ult1      632110 non-null  int64  \n",
            " 35  ind_hip_fin_ult1       632110 non-null  int64  \n",
            " 36  ind_plan_fin_ult1      632110 non-null  int64  \n",
            " 37  ind_pres_fin_ult1      632110 non-null  int64  \n",
            " 38  ind_reca_fin_ult1      632110 non-null  int64  \n",
            " 39  ind_tjcr_fin_ult1      632110 non-null  int64  \n",
            " 40  ind_valo_fin_ult1      632110 non-null  int64  \n",
            " 41  ind_viv_fin_ult1       632110 non-null  int64  \n",
            " 42  ind_nomina_ult1        630284 non-null  float64\n",
            " 43  ind_nom_pens_ult1      630284 non-null  float64\n",
            " 44  ind_recibo_ult1        632110 non-null  int64  \n",
            "dtypes: float64(8), int64(23), object(14)\n",
            "memory usage: 221.8+ MB\n"
          ],
          "name": "stdout"
        }
      ]
    },
    {
      "cell_type": "code",
      "metadata": {
        "id": "rrF-Wav6MRrr"
      },
      "source": [
        "df.dropna(inplace=True)"
      ],
      "execution_count": 15,
      "outputs": []
    },
    {
      "cell_type": "code",
      "metadata": {
        "colab": {
          "base_uri": "https://localhost:8080/"
        },
        "id": "ELJeFLadxMSU",
        "outputId": "41d3980d-6dea-4b22-ca08-08c0bb0a4173"
      },
      "source": [
        "df.info()"
      ],
      "execution_count": 16,
      "outputs": [
        {
          "output_type": "stream",
          "text": [
            "<class 'pandas.core.frame.DataFrame'>\n",
            "Int64Index: 523650 entries, 3144384 to 3776492\n",
            "Data columns (total 45 columns):\n",
            " #   Column                 Non-Null Count   Dtype  \n",
            "---  ------                 --------------   -----  \n",
            " 0   fecha_dato             523650 non-null  object \n",
            " 1   ncodpers               523650 non-null  int64  \n",
            " 2   ind_empleado           523650 non-null  object \n",
            " 3   pais_residencia        523650 non-null  object \n",
            " 4   sexo                   523650 non-null  object \n",
            " 5   age                    523650 non-null  object \n",
            " 6   ind_nuevo              523650 non-null  float64\n",
            " 7   antiguedad             523650 non-null  object \n",
            " 8   indrel                 523650 non-null  float64\n",
            " 9   indrel_1mes            523650 non-null  object \n",
            " 10  tiprel_1mes            523650 non-null  object \n",
            " 11  indresi                523650 non-null  object \n",
            " 12  indext                 523650 non-null  object \n",
            " 13  canal_entrada          523650 non-null  object \n",
            " 14  indfall                523650 non-null  object \n",
            " 15  tipodom                523650 non-null  float64\n",
            " 16  cod_prov               523650 non-null  float64\n",
            " 17  nomprov                523650 non-null  object \n",
            " 18  ind_actividad_cliente  523650 non-null  float64\n",
            " 19  renta                  523650 non-null  float64\n",
            " 20  segmento               523650 non-null  object \n",
            " 21  ind_ahor_fin_ult1      523650 non-null  int64  \n",
            " 22  ind_aval_fin_ult1      523650 non-null  int64  \n",
            " 23  ind_cco_fin_ult1       523650 non-null  int64  \n",
            " 24  ind_cder_fin_ult1      523650 non-null  int64  \n",
            " 25  ind_cno_fin_ult1       523650 non-null  int64  \n",
            " 26  ind_ctju_fin_ult1      523650 non-null  int64  \n",
            " 27  ind_ctma_fin_ult1      523650 non-null  int64  \n",
            " 28  ind_ctop_fin_ult1      523650 non-null  int64  \n",
            " 29  ind_ctpp_fin_ult1      523650 non-null  int64  \n",
            " 30  ind_deco_fin_ult1      523650 non-null  int64  \n",
            " 31  ind_deme_fin_ult1      523650 non-null  int64  \n",
            " 32  ind_dela_fin_ult1      523650 non-null  int64  \n",
            " 33  ind_ecue_fin_ult1      523650 non-null  int64  \n",
            " 34  ind_fond_fin_ult1      523650 non-null  int64  \n",
            " 35  ind_hip_fin_ult1       523650 non-null  int64  \n",
            " 36  ind_plan_fin_ult1      523650 non-null  int64  \n",
            " 37  ind_pres_fin_ult1      523650 non-null  int64  \n",
            " 38  ind_reca_fin_ult1      523650 non-null  int64  \n",
            " 39  ind_tjcr_fin_ult1      523650 non-null  int64  \n",
            " 40  ind_valo_fin_ult1      523650 non-null  int64  \n",
            " 41  ind_viv_fin_ult1       523650 non-null  int64  \n",
            " 42  ind_nomina_ult1        523650 non-null  float64\n",
            " 43  ind_nom_pens_ult1      523650 non-null  float64\n",
            " 44  ind_recibo_ult1        523650 non-null  int64  \n",
            "dtypes: float64(8), int64(23), object(14)\n",
            "memory usage: 183.8+ MB\n"
          ],
          "name": "stdout"
        }
      ]
    },
    {
      "cell_type": "markdown",
      "metadata": {
        "id": "m7QK3CCLxS98"
      },
      "source": [
        "# Data Analysing And Cleaning"
      ]
    },
    {
      "cell_type": "code",
      "metadata": {
        "id": "gMViQ1A1FXpY"
      },
      "source": [
        "initial_products_label = ['ind_ahor_fin_ult1','ind_aval_fin_ult1','ind_cco_fin_ult1','ind_cder_fin_ult1','ind_cno_fin_ult1','ind_ctju_fin_ult1','ind_ctma_fin_ult1','ind_ctop_fin_ult1','ind_ctpp_fin_ult1','ind_deco_fin_ult1','ind_deme_fin_ult1','ind_dela_fin_ult1','ind_ecue_fin_ult1','ind_fond_fin_ult1','ind_hip_fin_ult1','ind_plan_fin_ult1','ind_pres_fin_ult1','ind_reca_fin_ult1','ind_tjcr_fin_ult1','ind_valo_fin_ult1','ind_viv_fin_ult1','ind_nomina_ult1','ind_nom_pens_ult1','ind_recibo_ult1']"
      ],
      "execution_count": 17,
      "outputs": []
    },
    {
      "cell_type": "code",
      "metadata": {
        "id": "BeU4mNT7E8xN"
      },
      "source": [
        "products_df = df.loc[:, initial_products_label]"
      ],
      "execution_count": 18,
      "outputs": []
    },
    {
      "cell_type": "code",
      "metadata": {
        "colab": {
          "base_uri": "https://localhost:8080/",
          "height": 0
        },
        "id": "pRafVBQICFXY",
        "outputId": "0c35f8ba-daff-4327-fd01-652070620988"
      },
      "source": [
        "products_df[products_df['ind_nomina_ult1'] == 1]"
      ],
      "execution_count": 19,
      "outputs": [
        {
          "output_type": "execute_result",
          "data": {
            "text/html": [
              "<div>\n",
              "<style scoped>\n",
              "    .dataframe tbody tr th:only-of-type {\n",
              "        vertical-align: middle;\n",
              "    }\n",
              "\n",
              "    .dataframe tbody tr th {\n",
              "        vertical-align: top;\n",
              "    }\n",
              "\n",
              "    .dataframe thead th {\n",
              "        text-align: right;\n",
              "    }\n",
              "</style>\n",
              "<table border=\"1\" class=\"dataframe\">\n",
              "  <thead>\n",
              "    <tr style=\"text-align: right;\">\n",
              "      <th></th>\n",
              "      <th>ind_ahor_fin_ult1</th>\n",
              "      <th>ind_aval_fin_ult1</th>\n",
              "      <th>ind_cco_fin_ult1</th>\n",
              "      <th>ind_cder_fin_ult1</th>\n",
              "      <th>ind_cno_fin_ult1</th>\n",
              "      <th>ind_ctju_fin_ult1</th>\n",
              "      <th>ind_ctma_fin_ult1</th>\n",
              "      <th>ind_ctop_fin_ult1</th>\n",
              "      <th>ind_ctpp_fin_ult1</th>\n",
              "      <th>ind_deco_fin_ult1</th>\n",
              "      <th>ind_deme_fin_ult1</th>\n",
              "      <th>ind_dela_fin_ult1</th>\n",
              "      <th>ind_ecue_fin_ult1</th>\n",
              "      <th>ind_fond_fin_ult1</th>\n",
              "      <th>ind_hip_fin_ult1</th>\n",
              "      <th>ind_plan_fin_ult1</th>\n",
              "      <th>ind_pres_fin_ult1</th>\n",
              "      <th>ind_reca_fin_ult1</th>\n",
              "      <th>ind_tjcr_fin_ult1</th>\n",
              "      <th>ind_valo_fin_ult1</th>\n",
              "      <th>ind_viv_fin_ult1</th>\n",
              "      <th>ind_nomina_ult1</th>\n",
              "      <th>ind_nom_pens_ult1</th>\n",
              "      <th>ind_recibo_ult1</th>\n",
              "    </tr>\n",
              "  </thead>\n",
              "  <tbody>\n",
              "    <tr>\n",
              "      <th>3144540</th>\n",
              "      <td>0</td>\n",
              "      <td>0</td>\n",
              "      <td>0</td>\n",
              "      <td>0</td>\n",
              "      <td>1</td>\n",
              "      <td>0</td>\n",
              "      <td>0</td>\n",
              "      <td>0</td>\n",
              "      <td>0</td>\n",
              "      <td>0</td>\n",
              "      <td>0</td>\n",
              "      <td>0</td>\n",
              "      <td>1</td>\n",
              "      <td>0</td>\n",
              "      <td>0</td>\n",
              "      <td>0</td>\n",
              "      <td>0</td>\n",
              "      <td>0</td>\n",
              "      <td>0</td>\n",
              "      <td>0</td>\n",
              "      <td>0</td>\n",
              "      <td>1.0</td>\n",
              "      <td>1.0</td>\n",
              "      <td>1</td>\n",
              "    </tr>\n",
              "    <tr>\n",
              "      <th>3144542</th>\n",
              "      <td>0</td>\n",
              "      <td>0</td>\n",
              "      <td>0</td>\n",
              "      <td>0</td>\n",
              "      <td>1</td>\n",
              "      <td>0</td>\n",
              "      <td>0</td>\n",
              "      <td>0</td>\n",
              "      <td>0</td>\n",
              "      <td>0</td>\n",
              "      <td>0</td>\n",
              "      <td>0</td>\n",
              "      <td>0</td>\n",
              "      <td>0</td>\n",
              "      <td>0</td>\n",
              "      <td>0</td>\n",
              "      <td>0</td>\n",
              "      <td>0</td>\n",
              "      <td>0</td>\n",
              "      <td>0</td>\n",
              "      <td>0</td>\n",
              "      <td>1.0</td>\n",
              "      <td>1.0</td>\n",
              "      <td>1</td>\n",
              "    </tr>\n",
              "    <tr>\n",
              "      <th>3144543</th>\n",
              "      <td>0</td>\n",
              "      <td>0</td>\n",
              "      <td>0</td>\n",
              "      <td>0</td>\n",
              "      <td>1</td>\n",
              "      <td>0</td>\n",
              "      <td>0</td>\n",
              "      <td>0</td>\n",
              "      <td>0</td>\n",
              "      <td>0</td>\n",
              "      <td>0</td>\n",
              "      <td>1</td>\n",
              "      <td>1</td>\n",
              "      <td>0</td>\n",
              "      <td>0</td>\n",
              "      <td>0</td>\n",
              "      <td>0</td>\n",
              "      <td>1</td>\n",
              "      <td>1</td>\n",
              "      <td>0</td>\n",
              "      <td>0</td>\n",
              "      <td>1.0</td>\n",
              "      <td>1.0</td>\n",
              "      <td>1</td>\n",
              "    </tr>\n",
              "    <tr>\n",
              "      <th>3144545</th>\n",
              "      <td>0</td>\n",
              "      <td>0</td>\n",
              "      <td>0</td>\n",
              "      <td>0</td>\n",
              "      <td>1</td>\n",
              "      <td>0</td>\n",
              "      <td>0</td>\n",
              "      <td>0</td>\n",
              "      <td>0</td>\n",
              "      <td>0</td>\n",
              "      <td>0</td>\n",
              "      <td>0</td>\n",
              "      <td>1</td>\n",
              "      <td>0</td>\n",
              "      <td>0</td>\n",
              "      <td>0</td>\n",
              "      <td>0</td>\n",
              "      <td>0</td>\n",
              "      <td>0</td>\n",
              "      <td>0</td>\n",
              "      <td>0</td>\n",
              "      <td>1.0</td>\n",
              "      <td>1.0</td>\n",
              "      <td>1</td>\n",
              "    </tr>\n",
              "    <tr>\n",
              "      <th>3144579</th>\n",
              "      <td>0</td>\n",
              "      <td>0</td>\n",
              "      <td>0</td>\n",
              "      <td>0</td>\n",
              "      <td>1</td>\n",
              "      <td>0</td>\n",
              "      <td>0</td>\n",
              "      <td>0</td>\n",
              "      <td>0</td>\n",
              "      <td>0</td>\n",
              "      <td>0</td>\n",
              "      <td>0</td>\n",
              "      <td>1</td>\n",
              "      <td>0</td>\n",
              "      <td>0</td>\n",
              "      <td>0</td>\n",
              "      <td>0</td>\n",
              "      <td>0</td>\n",
              "      <td>0</td>\n",
              "      <td>0</td>\n",
              "      <td>0</td>\n",
              "      <td>1.0</td>\n",
              "      <td>1.0</td>\n",
              "      <td>1</td>\n",
              "    </tr>\n",
              "    <tr>\n",
              "      <th>...</th>\n",
              "      <td>...</td>\n",
              "      <td>...</td>\n",
              "      <td>...</td>\n",
              "      <td>...</td>\n",
              "      <td>...</td>\n",
              "      <td>...</td>\n",
              "      <td>...</td>\n",
              "      <td>...</td>\n",
              "      <td>...</td>\n",
              "      <td>...</td>\n",
              "      <td>...</td>\n",
              "      <td>...</td>\n",
              "      <td>...</td>\n",
              "      <td>...</td>\n",
              "      <td>...</td>\n",
              "      <td>...</td>\n",
              "      <td>...</td>\n",
              "      <td>...</td>\n",
              "      <td>...</td>\n",
              "      <td>...</td>\n",
              "      <td>...</td>\n",
              "      <td>...</td>\n",
              "      <td>...</td>\n",
              "      <td>...</td>\n",
              "    </tr>\n",
              "    <tr>\n",
              "      <th>3776395</th>\n",
              "      <td>0</td>\n",
              "      <td>0</td>\n",
              "      <td>0</td>\n",
              "      <td>0</td>\n",
              "      <td>1</td>\n",
              "      <td>0</td>\n",
              "      <td>0</td>\n",
              "      <td>0</td>\n",
              "      <td>0</td>\n",
              "      <td>0</td>\n",
              "      <td>0</td>\n",
              "      <td>0</td>\n",
              "      <td>1</td>\n",
              "      <td>0</td>\n",
              "      <td>0</td>\n",
              "      <td>0</td>\n",
              "      <td>0</td>\n",
              "      <td>1</td>\n",
              "      <td>0</td>\n",
              "      <td>0</td>\n",
              "      <td>0</td>\n",
              "      <td>1.0</td>\n",
              "      <td>1.0</td>\n",
              "      <td>1</td>\n",
              "    </tr>\n",
              "    <tr>\n",
              "      <th>3776412</th>\n",
              "      <td>0</td>\n",
              "      <td>0</td>\n",
              "      <td>0</td>\n",
              "      <td>0</td>\n",
              "      <td>1</td>\n",
              "      <td>0</td>\n",
              "      <td>0</td>\n",
              "      <td>0</td>\n",
              "      <td>0</td>\n",
              "      <td>0</td>\n",
              "      <td>0</td>\n",
              "      <td>0</td>\n",
              "      <td>0</td>\n",
              "      <td>0</td>\n",
              "      <td>0</td>\n",
              "      <td>0</td>\n",
              "      <td>0</td>\n",
              "      <td>0</td>\n",
              "      <td>0</td>\n",
              "      <td>0</td>\n",
              "      <td>0</td>\n",
              "      <td>1.0</td>\n",
              "      <td>1.0</td>\n",
              "      <td>1</td>\n",
              "    </tr>\n",
              "    <tr>\n",
              "      <th>3776484</th>\n",
              "      <td>0</td>\n",
              "      <td>0</td>\n",
              "      <td>1</td>\n",
              "      <td>0</td>\n",
              "      <td>1</td>\n",
              "      <td>0</td>\n",
              "      <td>0</td>\n",
              "      <td>0</td>\n",
              "      <td>0</td>\n",
              "      <td>0</td>\n",
              "      <td>0</td>\n",
              "      <td>0</td>\n",
              "      <td>1</td>\n",
              "      <td>0</td>\n",
              "      <td>0</td>\n",
              "      <td>0</td>\n",
              "      <td>0</td>\n",
              "      <td>0</td>\n",
              "      <td>0</td>\n",
              "      <td>0</td>\n",
              "      <td>0</td>\n",
              "      <td>1.0</td>\n",
              "      <td>1.0</td>\n",
              "      <td>1</td>\n",
              "    </tr>\n",
              "    <tr>\n",
              "      <th>3776486</th>\n",
              "      <td>0</td>\n",
              "      <td>0</td>\n",
              "      <td>0</td>\n",
              "      <td>0</td>\n",
              "      <td>1</td>\n",
              "      <td>0</td>\n",
              "      <td>0</td>\n",
              "      <td>0</td>\n",
              "      <td>0</td>\n",
              "      <td>0</td>\n",
              "      <td>0</td>\n",
              "      <td>0</td>\n",
              "      <td>1</td>\n",
              "      <td>0</td>\n",
              "      <td>0</td>\n",
              "      <td>0</td>\n",
              "      <td>0</td>\n",
              "      <td>0</td>\n",
              "      <td>1</td>\n",
              "      <td>1</td>\n",
              "      <td>0</td>\n",
              "      <td>1.0</td>\n",
              "      <td>1.0</td>\n",
              "      <td>1</td>\n",
              "    </tr>\n",
              "    <tr>\n",
              "      <th>3776492</th>\n",
              "      <td>0</td>\n",
              "      <td>0</td>\n",
              "      <td>0</td>\n",
              "      <td>0</td>\n",
              "      <td>1</td>\n",
              "      <td>0</td>\n",
              "      <td>0</td>\n",
              "      <td>0</td>\n",
              "      <td>0</td>\n",
              "      <td>0</td>\n",
              "      <td>0</td>\n",
              "      <td>0</td>\n",
              "      <td>1</td>\n",
              "      <td>0</td>\n",
              "      <td>0</td>\n",
              "      <td>0</td>\n",
              "      <td>0</td>\n",
              "      <td>1</td>\n",
              "      <td>1</td>\n",
              "      <td>0</td>\n",
              "      <td>0</td>\n",
              "      <td>1.0</td>\n",
              "      <td>1.0</td>\n",
              "      <td>1</td>\n",
              "    </tr>\n",
              "  </tbody>\n",
              "</table>\n",
              "<p>38444 rows × 24 columns</p>\n",
              "</div>"
            ],
            "text/plain": [
              "         ind_ahor_fin_ult1  ...  ind_recibo_ult1\n",
              "3144540                  0  ...                1\n",
              "3144542                  0  ...                1\n",
              "3144543                  0  ...                1\n",
              "3144545                  0  ...                1\n",
              "3144579                  0  ...                1\n",
              "...                    ...  ...              ...\n",
              "3776395                  0  ...                1\n",
              "3776412                  0  ...                1\n",
              "3776484                  0  ...                1\n",
              "3776486                  0  ...                1\n",
              "3776492                  0  ...                1\n",
              "\n",
              "[38444 rows x 24 columns]"
            ]
          },
          "metadata": {
            "tags": []
          },
          "execution_count": 19
        }
      ]
    },
    {
      "cell_type": "code",
      "metadata": {
        "id": "WemmRNzmCO7L"
      },
      "source": [
        "products_df.drop(['ind_nomina_ult1', 'ind_nom_pens_ult1'], inplace=True, axis=1)"
      ],
      "execution_count": 20,
      "outputs": []
    },
    {
      "cell_type": "code",
      "metadata": {
        "colab": {
          "base_uri": "https://localhost:8080/",
          "height": 0
        },
        "id": "_ejF-3lw8AG2",
        "outputId": "2e64585d-e5b3-426c-f3da-800ed0ae9f7a"
      },
      "source": [
        "products_df"
      ],
      "execution_count": 21,
      "outputs": [
        {
          "output_type": "execute_result",
          "data": {
            "text/html": [
              "<div>\n",
              "<style scoped>\n",
              "    .dataframe tbody tr th:only-of-type {\n",
              "        vertical-align: middle;\n",
              "    }\n",
              "\n",
              "    .dataframe tbody tr th {\n",
              "        vertical-align: top;\n",
              "    }\n",
              "\n",
              "    .dataframe thead th {\n",
              "        text-align: right;\n",
              "    }\n",
              "</style>\n",
              "<table border=\"1\" class=\"dataframe\">\n",
              "  <thead>\n",
              "    <tr style=\"text-align: right;\">\n",
              "      <th></th>\n",
              "      <th>ind_ahor_fin_ult1</th>\n",
              "      <th>ind_aval_fin_ult1</th>\n",
              "      <th>ind_cco_fin_ult1</th>\n",
              "      <th>ind_cder_fin_ult1</th>\n",
              "      <th>ind_cno_fin_ult1</th>\n",
              "      <th>ind_ctju_fin_ult1</th>\n",
              "      <th>ind_ctma_fin_ult1</th>\n",
              "      <th>ind_ctop_fin_ult1</th>\n",
              "      <th>ind_ctpp_fin_ult1</th>\n",
              "      <th>ind_deco_fin_ult1</th>\n",
              "      <th>ind_deme_fin_ult1</th>\n",
              "      <th>ind_dela_fin_ult1</th>\n",
              "      <th>ind_ecue_fin_ult1</th>\n",
              "      <th>ind_fond_fin_ult1</th>\n",
              "      <th>ind_hip_fin_ult1</th>\n",
              "      <th>ind_plan_fin_ult1</th>\n",
              "      <th>ind_pres_fin_ult1</th>\n",
              "      <th>ind_reca_fin_ult1</th>\n",
              "      <th>ind_tjcr_fin_ult1</th>\n",
              "      <th>ind_valo_fin_ult1</th>\n",
              "      <th>ind_viv_fin_ult1</th>\n",
              "      <th>ind_recibo_ult1</th>\n",
              "    </tr>\n",
              "  </thead>\n",
              "  <tbody>\n",
              "    <tr>\n",
              "      <th>3144384</th>\n",
              "      <td>0</td>\n",
              "      <td>0</td>\n",
              "      <td>1</td>\n",
              "      <td>0</td>\n",
              "      <td>0</td>\n",
              "      <td>0</td>\n",
              "      <td>0</td>\n",
              "      <td>0</td>\n",
              "      <td>0</td>\n",
              "      <td>0</td>\n",
              "      <td>0</td>\n",
              "      <td>0</td>\n",
              "      <td>0</td>\n",
              "      <td>0</td>\n",
              "      <td>0</td>\n",
              "      <td>0</td>\n",
              "      <td>0</td>\n",
              "      <td>0</td>\n",
              "      <td>0</td>\n",
              "      <td>0</td>\n",
              "      <td>0</td>\n",
              "      <td>0</td>\n",
              "    </tr>\n",
              "    <tr>\n",
              "      <th>3144385</th>\n",
              "      <td>0</td>\n",
              "      <td>0</td>\n",
              "      <td>1</td>\n",
              "      <td>0</td>\n",
              "      <td>0</td>\n",
              "      <td>0</td>\n",
              "      <td>0</td>\n",
              "      <td>0</td>\n",
              "      <td>0</td>\n",
              "      <td>0</td>\n",
              "      <td>0</td>\n",
              "      <td>0</td>\n",
              "      <td>0</td>\n",
              "      <td>0</td>\n",
              "      <td>0</td>\n",
              "      <td>0</td>\n",
              "      <td>0</td>\n",
              "      <td>0</td>\n",
              "      <td>0</td>\n",
              "      <td>0</td>\n",
              "      <td>0</td>\n",
              "      <td>1</td>\n",
              "    </tr>\n",
              "    <tr>\n",
              "      <th>3144386</th>\n",
              "      <td>0</td>\n",
              "      <td>0</td>\n",
              "      <td>1</td>\n",
              "      <td>0</td>\n",
              "      <td>0</td>\n",
              "      <td>0</td>\n",
              "      <td>0</td>\n",
              "      <td>0</td>\n",
              "      <td>0</td>\n",
              "      <td>0</td>\n",
              "      <td>0</td>\n",
              "      <td>0</td>\n",
              "      <td>0</td>\n",
              "      <td>0</td>\n",
              "      <td>0</td>\n",
              "      <td>0</td>\n",
              "      <td>0</td>\n",
              "      <td>0</td>\n",
              "      <td>0</td>\n",
              "      <td>0</td>\n",
              "      <td>0</td>\n",
              "      <td>0</td>\n",
              "    </tr>\n",
              "    <tr>\n",
              "      <th>3144387</th>\n",
              "      <td>0</td>\n",
              "      <td>0</td>\n",
              "      <td>1</td>\n",
              "      <td>0</td>\n",
              "      <td>0</td>\n",
              "      <td>0</td>\n",
              "      <td>0</td>\n",
              "      <td>0</td>\n",
              "      <td>0</td>\n",
              "      <td>0</td>\n",
              "      <td>0</td>\n",
              "      <td>0</td>\n",
              "      <td>0</td>\n",
              "      <td>0</td>\n",
              "      <td>0</td>\n",
              "      <td>0</td>\n",
              "      <td>0</td>\n",
              "      <td>0</td>\n",
              "      <td>0</td>\n",
              "      <td>0</td>\n",
              "      <td>0</td>\n",
              "      <td>0</td>\n",
              "    </tr>\n",
              "    <tr>\n",
              "      <th>3144389</th>\n",
              "      <td>0</td>\n",
              "      <td>0</td>\n",
              "      <td>1</td>\n",
              "      <td>0</td>\n",
              "      <td>0</td>\n",
              "      <td>0</td>\n",
              "      <td>0</td>\n",
              "      <td>0</td>\n",
              "      <td>0</td>\n",
              "      <td>0</td>\n",
              "      <td>0</td>\n",
              "      <td>0</td>\n",
              "      <td>0</td>\n",
              "      <td>0</td>\n",
              "      <td>0</td>\n",
              "      <td>0</td>\n",
              "      <td>0</td>\n",
              "      <td>0</td>\n",
              "      <td>0</td>\n",
              "      <td>0</td>\n",
              "      <td>0</td>\n",
              "      <td>0</td>\n",
              "    </tr>\n",
              "    <tr>\n",
              "      <th>...</th>\n",
              "      <td>...</td>\n",
              "      <td>...</td>\n",
              "      <td>...</td>\n",
              "      <td>...</td>\n",
              "      <td>...</td>\n",
              "      <td>...</td>\n",
              "      <td>...</td>\n",
              "      <td>...</td>\n",
              "      <td>...</td>\n",
              "      <td>...</td>\n",
              "      <td>...</td>\n",
              "      <td>...</td>\n",
              "      <td>...</td>\n",
              "      <td>...</td>\n",
              "      <td>...</td>\n",
              "      <td>...</td>\n",
              "      <td>...</td>\n",
              "      <td>...</td>\n",
              "      <td>...</td>\n",
              "      <td>...</td>\n",
              "      <td>...</td>\n",
              "      <td>...</td>\n",
              "    </tr>\n",
              "    <tr>\n",
              "      <th>3776488</th>\n",
              "      <td>0</td>\n",
              "      <td>0</td>\n",
              "      <td>1</td>\n",
              "      <td>0</td>\n",
              "      <td>0</td>\n",
              "      <td>0</td>\n",
              "      <td>0</td>\n",
              "      <td>0</td>\n",
              "      <td>0</td>\n",
              "      <td>0</td>\n",
              "      <td>0</td>\n",
              "      <td>0</td>\n",
              "      <td>0</td>\n",
              "      <td>0</td>\n",
              "      <td>0</td>\n",
              "      <td>0</td>\n",
              "      <td>0</td>\n",
              "      <td>0</td>\n",
              "      <td>0</td>\n",
              "      <td>0</td>\n",
              "      <td>0</td>\n",
              "      <td>0</td>\n",
              "    </tr>\n",
              "    <tr>\n",
              "      <th>3776489</th>\n",
              "      <td>0</td>\n",
              "      <td>0</td>\n",
              "      <td>1</td>\n",
              "      <td>0</td>\n",
              "      <td>0</td>\n",
              "      <td>0</td>\n",
              "      <td>0</td>\n",
              "      <td>0</td>\n",
              "      <td>0</td>\n",
              "      <td>0</td>\n",
              "      <td>0</td>\n",
              "      <td>0</td>\n",
              "      <td>0</td>\n",
              "      <td>0</td>\n",
              "      <td>0</td>\n",
              "      <td>0</td>\n",
              "      <td>0</td>\n",
              "      <td>0</td>\n",
              "      <td>0</td>\n",
              "      <td>0</td>\n",
              "      <td>0</td>\n",
              "      <td>0</td>\n",
              "    </tr>\n",
              "    <tr>\n",
              "      <th>3776490</th>\n",
              "      <td>0</td>\n",
              "      <td>0</td>\n",
              "      <td>1</td>\n",
              "      <td>0</td>\n",
              "      <td>0</td>\n",
              "      <td>0</td>\n",
              "      <td>0</td>\n",
              "      <td>1</td>\n",
              "      <td>0</td>\n",
              "      <td>0</td>\n",
              "      <td>0</td>\n",
              "      <td>0</td>\n",
              "      <td>0</td>\n",
              "      <td>0</td>\n",
              "      <td>0</td>\n",
              "      <td>0</td>\n",
              "      <td>0</td>\n",
              "      <td>0</td>\n",
              "      <td>0</td>\n",
              "      <td>0</td>\n",
              "      <td>0</td>\n",
              "      <td>0</td>\n",
              "    </tr>\n",
              "    <tr>\n",
              "      <th>3776491</th>\n",
              "      <td>0</td>\n",
              "      <td>0</td>\n",
              "      <td>0</td>\n",
              "      <td>0</td>\n",
              "      <td>1</td>\n",
              "      <td>0</td>\n",
              "      <td>0</td>\n",
              "      <td>1</td>\n",
              "      <td>0</td>\n",
              "      <td>0</td>\n",
              "      <td>0</td>\n",
              "      <td>1</td>\n",
              "      <td>0</td>\n",
              "      <td>0</td>\n",
              "      <td>0</td>\n",
              "      <td>0</td>\n",
              "      <td>0</td>\n",
              "      <td>0</td>\n",
              "      <td>0</td>\n",
              "      <td>0</td>\n",
              "      <td>0</td>\n",
              "      <td>0</td>\n",
              "    </tr>\n",
              "    <tr>\n",
              "      <th>3776492</th>\n",
              "      <td>0</td>\n",
              "      <td>0</td>\n",
              "      <td>0</td>\n",
              "      <td>0</td>\n",
              "      <td>1</td>\n",
              "      <td>0</td>\n",
              "      <td>0</td>\n",
              "      <td>0</td>\n",
              "      <td>0</td>\n",
              "      <td>0</td>\n",
              "      <td>0</td>\n",
              "      <td>0</td>\n",
              "      <td>1</td>\n",
              "      <td>0</td>\n",
              "      <td>0</td>\n",
              "      <td>0</td>\n",
              "      <td>0</td>\n",
              "      <td>1</td>\n",
              "      <td>1</td>\n",
              "      <td>0</td>\n",
              "      <td>0</td>\n",
              "      <td>1</td>\n",
              "    </tr>\n",
              "  </tbody>\n",
              "</table>\n",
              "<p>523650 rows × 22 columns</p>\n",
              "</div>"
            ],
            "text/plain": [
              "         ind_ahor_fin_ult1  ...  ind_recibo_ult1\n",
              "3144384                  0  ...                0\n",
              "3144385                  0  ...                1\n",
              "3144386                  0  ...                0\n",
              "3144387                  0  ...                0\n",
              "3144389                  0  ...                0\n",
              "...                    ...  ...              ...\n",
              "3776488                  0  ...                0\n",
              "3776489                  0  ...                0\n",
              "3776490                  0  ...                0\n",
              "3776491                  0  ...                0\n",
              "3776492                  0  ...                1\n",
              "\n",
              "[523650 rows x 22 columns]"
            ]
          },
          "metadata": {
            "tags": []
          },
          "execution_count": 21
        }
      ]
    },
    {
      "cell_type": "code",
      "metadata": {
        "id": "PQdzuYqjE5gC"
      },
      "source": [
        "products_label = products_df.columns"
      ],
      "execution_count": 22,
      "outputs": []
    },
    {
      "cell_type": "code",
      "metadata": {
        "id": "Ghr6Oh-0Gi-n"
      },
      "source": [
        "products = [i for i in range(len(products_label))]"
      ],
      "execution_count": 23,
      "outputs": []
    },
    {
      "cell_type": "code",
      "metadata": {
        "id": "bLQ4llgc00gq"
      },
      "source": [
        "products_dict = dict()\n",
        "\n",
        "for i in range(len(products)):\n",
        "  products_dict[products_label[i]] = products[i]"
      ],
      "execution_count": 24,
      "outputs": []
    },
    {
      "cell_type": "code",
      "metadata": {
        "colab": {
          "base_uri": "https://localhost:8080/"
        },
        "id": "jtIUqfFrtluJ",
        "outputId": "dfd4dae1-5e34-4be4-e138-012748d9512c"
      },
      "source": [
        "products_df.info()"
      ],
      "execution_count": 25,
      "outputs": [
        {
          "output_type": "stream",
          "text": [
            "<class 'pandas.core.frame.DataFrame'>\n",
            "Int64Index: 523650 entries, 3144384 to 3776492\n",
            "Data columns (total 22 columns):\n",
            " #   Column             Non-Null Count   Dtype\n",
            "---  ------             --------------   -----\n",
            " 0   ind_ahor_fin_ult1  523650 non-null  int64\n",
            " 1   ind_aval_fin_ult1  523650 non-null  int64\n",
            " 2   ind_cco_fin_ult1   523650 non-null  int64\n",
            " 3   ind_cder_fin_ult1  523650 non-null  int64\n",
            " 4   ind_cno_fin_ult1   523650 non-null  int64\n",
            " 5   ind_ctju_fin_ult1  523650 non-null  int64\n",
            " 6   ind_ctma_fin_ult1  523650 non-null  int64\n",
            " 7   ind_ctop_fin_ult1  523650 non-null  int64\n",
            " 8   ind_ctpp_fin_ult1  523650 non-null  int64\n",
            " 9   ind_deco_fin_ult1  523650 non-null  int64\n",
            " 10  ind_deme_fin_ult1  523650 non-null  int64\n",
            " 11  ind_dela_fin_ult1  523650 non-null  int64\n",
            " 12  ind_ecue_fin_ult1  523650 non-null  int64\n",
            " 13  ind_fond_fin_ult1  523650 non-null  int64\n",
            " 14  ind_hip_fin_ult1   523650 non-null  int64\n",
            " 15  ind_plan_fin_ult1  523650 non-null  int64\n",
            " 16  ind_pres_fin_ult1  523650 non-null  int64\n",
            " 17  ind_reca_fin_ult1  523650 non-null  int64\n",
            " 18  ind_tjcr_fin_ult1  523650 non-null  int64\n",
            " 19  ind_valo_fin_ult1  523650 non-null  int64\n",
            " 20  ind_viv_fin_ult1   523650 non-null  int64\n",
            " 21  ind_recibo_ult1    523650 non-null  int64\n",
            "dtypes: int64(22)\n",
            "memory usage: 91.9 MB\n"
          ],
          "name": "stdout"
        }
      ]
    },
    {
      "cell_type": "code",
      "metadata": {
        "colab": {
          "base_uri": "https://localhost:8080/",
          "height": 0
        },
        "id": "7YlNTaBNtvc_",
        "outputId": "d8058324-15c1-4720-dc0e-1f2aefef4dba"
      },
      "source": [
        "products_df.describe()"
      ],
      "execution_count": 26,
      "outputs": [
        {
          "output_type": "execute_result",
          "data": {
            "text/html": [
              "<div>\n",
              "<style scoped>\n",
              "    .dataframe tbody tr th:only-of-type {\n",
              "        vertical-align: middle;\n",
              "    }\n",
              "\n",
              "    .dataframe tbody tr th {\n",
              "        vertical-align: top;\n",
              "    }\n",
              "\n",
              "    .dataframe thead th {\n",
              "        text-align: right;\n",
              "    }\n",
              "</style>\n",
              "<table border=\"1\" class=\"dataframe\">\n",
              "  <thead>\n",
              "    <tr style=\"text-align: right;\">\n",
              "      <th></th>\n",
              "      <th>ind_ahor_fin_ult1</th>\n",
              "      <th>ind_aval_fin_ult1</th>\n",
              "      <th>ind_cco_fin_ult1</th>\n",
              "      <th>ind_cder_fin_ult1</th>\n",
              "      <th>ind_cno_fin_ult1</th>\n",
              "      <th>ind_ctju_fin_ult1</th>\n",
              "      <th>ind_ctma_fin_ult1</th>\n",
              "      <th>ind_ctop_fin_ult1</th>\n",
              "      <th>ind_ctpp_fin_ult1</th>\n",
              "      <th>ind_deco_fin_ult1</th>\n",
              "      <th>ind_deme_fin_ult1</th>\n",
              "      <th>ind_dela_fin_ult1</th>\n",
              "      <th>ind_ecue_fin_ult1</th>\n",
              "      <th>ind_fond_fin_ult1</th>\n",
              "      <th>ind_hip_fin_ult1</th>\n",
              "      <th>ind_plan_fin_ult1</th>\n",
              "      <th>ind_pres_fin_ult1</th>\n",
              "      <th>ind_reca_fin_ult1</th>\n",
              "      <th>ind_tjcr_fin_ult1</th>\n",
              "      <th>ind_valo_fin_ult1</th>\n",
              "      <th>ind_viv_fin_ult1</th>\n",
              "      <th>ind_recibo_ult1</th>\n",
              "    </tr>\n",
              "  </thead>\n",
              "  <tbody>\n",
              "    <tr>\n",
              "      <th>count</th>\n",
              "      <td>523650.000000</td>\n",
              "      <td>523650.000000</td>\n",
              "      <td>523650.000000</td>\n",
              "      <td>523650.000000</td>\n",
              "      <td>523650.000000</td>\n",
              "      <td>523650.000000</td>\n",
              "      <td>523650.00000</td>\n",
              "      <td>523650.000000</td>\n",
              "      <td>523650.000000</td>\n",
              "      <td>523650.000000</td>\n",
              "      <td>523650.000000</td>\n",
              "      <td>523650.000000</td>\n",
              "      <td>523650.000000</td>\n",
              "      <td>523650.000000</td>\n",
              "      <td>523650.000000</td>\n",
              "      <td>523650.000000</td>\n",
              "      <td>523650.000000</td>\n",
              "      <td>523650.000000</td>\n",
              "      <td>523650.000000</td>\n",
              "      <td>523650.000000</td>\n",
              "      <td>523650.000000</td>\n",
              "      <td>523650.000000</td>\n",
              "    </tr>\n",
              "    <tr>\n",
              "      <th>mean</th>\n",
              "      <td>0.000141</td>\n",
              "      <td>0.000038</td>\n",
              "      <td>0.778942</td>\n",
              "      <td>0.000512</td>\n",
              "      <td>0.100311</td>\n",
              "      <td>0.012772</td>\n",
              "      <td>0.01116</td>\n",
              "      <td>0.169573</td>\n",
              "      <td>0.058109</td>\n",
              "      <td>0.002727</td>\n",
              "      <td>0.002324</td>\n",
              "      <td>0.058302</td>\n",
              "      <td>0.106279</td>\n",
              "      <td>0.024612</td>\n",
              "      <td>0.007956</td>\n",
              "      <td>0.012367</td>\n",
              "      <td>0.003210</td>\n",
              "      <td>0.069550</td>\n",
              "      <td>0.060773</td>\n",
              "      <td>0.031937</td>\n",
              "      <td>0.005307</td>\n",
              "      <td>0.164050</td>\n",
              "    </tr>\n",
              "    <tr>\n",
              "      <th>std</th>\n",
              "      <td>0.011887</td>\n",
              "      <td>0.006180</td>\n",
              "      <td>0.414960</td>\n",
              "      <td>0.022617</td>\n",
              "      <td>0.300415</td>\n",
              "      <td>0.112289</td>\n",
              "      <td>0.10505</td>\n",
              "      <td>0.375258</td>\n",
              "      <td>0.233950</td>\n",
              "      <td>0.052150</td>\n",
              "      <td>0.048153</td>\n",
              "      <td>0.234314</td>\n",
              "      <td>0.308195</td>\n",
              "      <td>0.154939</td>\n",
              "      <td>0.088839</td>\n",
              "      <td>0.110518</td>\n",
              "      <td>0.056567</td>\n",
              "      <td>0.254388</td>\n",
              "      <td>0.238914</td>\n",
              "      <td>0.175834</td>\n",
              "      <td>0.072656</td>\n",
              "      <td>0.370322</td>\n",
              "    </tr>\n",
              "    <tr>\n",
              "      <th>min</th>\n",
              "      <td>0.000000</td>\n",
              "      <td>0.000000</td>\n",
              "      <td>0.000000</td>\n",
              "      <td>0.000000</td>\n",
              "      <td>0.000000</td>\n",
              "      <td>0.000000</td>\n",
              "      <td>0.00000</td>\n",
              "      <td>0.000000</td>\n",
              "      <td>0.000000</td>\n",
              "      <td>0.000000</td>\n",
              "      <td>0.000000</td>\n",
              "      <td>0.000000</td>\n",
              "      <td>0.000000</td>\n",
              "      <td>0.000000</td>\n",
              "      <td>0.000000</td>\n",
              "      <td>0.000000</td>\n",
              "      <td>0.000000</td>\n",
              "      <td>0.000000</td>\n",
              "      <td>0.000000</td>\n",
              "      <td>0.000000</td>\n",
              "      <td>0.000000</td>\n",
              "      <td>0.000000</td>\n",
              "    </tr>\n",
              "    <tr>\n",
              "      <th>25%</th>\n",
              "      <td>0.000000</td>\n",
              "      <td>0.000000</td>\n",
              "      <td>1.000000</td>\n",
              "      <td>0.000000</td>\n",
              "      <td>0.000000</td>\n",
              "      <td>0.000000</td>\n",
              "      <td>0.00000</td>\n",
              "      <td>0.000000</td>\n",
              "      <td>0.000000</td>\n",
              "      <td>0.000000</td>\n",
              "      <td>0.000000</td>\n",
              "      <td>0.000000</td>\n",
              "      <td>0.000000</td>\n",
              "      <td>0.000000</td>\n",
              "      <td>0.000000</td>\n",
              "      <td>0.000000</td>\n",
              "      <td>0.000000</td>\n",
              "      <td>0.000000</td>\n",
              "      <td>0.000000</td>\n",
              "      <td>0.000000</td>\n",
              "      <td>0.000000</td>\n",
              "      <td>0.000000</td>\n",
              "    </tr>\n",
              "    <tr>\n",
              "      <th>50%</th>\n",
              "      <td>0.000000</td>\n",
              "      <td>0.000000</td>\n",
              "      <td>1.000000</td>\n",
              "      <td>0.000000</td>\n",
              "      <td>0.000000</td>\n",
              "      <td>0.000000</td>\n",
              "      <td>0.00000</td>\n",
              "      <td>0.000000</td>\n",
              "      <td>0.000000</td>\n",
              "      <td>0.000000</td>\n",
              "      <td>0.000000</td>\n",
              "      <td>0.000000</td>\n",
              "      <td>0.000000</td>\n",
              "      <td>0.000000</td>\n",
              "      <td>0.000000</td>\n",
              "      <td>0.000000</td>\n",
              "      <td>0.000000</td>\n",
              "      <td>0.000000</td>\n",
              "      <td>0.000000</td>\n",
              "      <td>0.000000</td>\n",
              "      <td>0.000000</td>\n",
              "      <td>0.000000</td>\n",
              "    </tr>\n",
              "    <tr>\n",
              "      <th>75%</th>\n",
              "      <td>0.000000</td>\n",
              "      <td>0.000000</td>\n",
              "      <td>1.000000</td>\n",
              "      <td>0.000000</td>\n",
              "      <td>0.000000</td>\n",
              "      <td>0.000000</td>\n",
              "      <td>0.00000</td>\n",
              "      <td>0.000000</td>\n",
              "      <td>0.000000</td>\n",
              "      <td>0.000000</td>\n",
              "      <td>0.000000</td>\n",
              "      <td>0.000000</td>\n",
              "      <td>0.000000</td>\n",
              "      <td>0.000000</td>\n",
              "      <td>0.000000</td>\n",
              "      <td>0.000000</td>\n",
              "      <td>0.000000</td>\n",
              "      <td>0.000000</td>\n",
              "      <td>0.000000</td>\n",
              "      <td>0.000000</td>\n",
              "      <td>0.000000</td>\n",
              "      <td>0.000000</td>\n",
              "    </tr>\n",
              "    <tr>\n",
              "      <th>max</th>\n",
              "      <td>1.000000</td>\n",
              "      <td>1.000000</td>\n",
              "      <td>1.000000</td>\n",
              "      <td>1.000000</td>\n",
              "      <td>1.000000</td>\n",
              "      <td>1.000000</td>\n",
              "      <td>1.00000</td>\n",
              "      <td>1.000000</td>\n",
              "      <td>1.000000</td>\n",
              "      <td>1.000000</td>\n",
              "      <td>1.000000</td>\n",
              "      <td>1.000000</td>\n",
              "      <td>1.000000</td>\n",
              "      <td>1.000000</td>\n",
              "      <td>1.000000</td>\n",
              "      <td>1.000000</td>\n",
              "      <td>1.000000</td>\n",
              "      <td>1.000000</td>\n",
              "      <td>1.000000</td>\n",
              "      <td>1.000000</td>\n",
              "      <td>1.000000</td>\n",
              "      <td>1.000000</td>\n",
              "    </tr>\n",
              "  </tbody>\n",
              "</table>\n",
              "</div>"
            ],
            "text/plain": [
              "       ind_ahor_fin_ult1  ind_aval_fin_ult1  ...  ind_viv_fin_ult1  ind_recibo_ult1\n",
              "count      523650.000000      523650.000000  ...     523650.000000    523650.000000\n",
              "mean            0.000141           0.000038  ...          0.005307         0.164050\n",
              "std             0.011887           0.006180  ...          0.072656         0.370322\n",
              "min             0.000000           0.000000  ...          0.000000         0.000000\n",
              "25%             0.000000           0.000000  ...          0.000000         0.000000\n",
              "50%             0.000000           0.000000  ...          0.000000         0.000000\n",
              "75%             0.000000           0.000000  ...          0.000000         0.000000\n",
              "max             1.000000           1.000000  ...          1.000000         1.000000\n",
              "\n",
              "[8 rows x 22 columns]"
            ]
          },
          "metadata": {
            "tags": []
          },
          "execution_count": 26
        }
      ]
    },
    {
      "cell_type": "code",
      "metadata": {
        "id": "RRsTrE02Kwnh"
      },
      "source": [
        "for i in range(1, len(products_label)):\n",
        "  products_df[products_label[i]] = products_df[products_label[i]].replace(1, products_dict[products_label[i]])"
      ],
      "execution_count": 27,
      "outputs": []
    },
    {
      "cell_type": "code",
      "metadata": {
        "id": "Z6b3erAQbpUb"
      },
      "source": [
        "products_df['target'] = products_df.max(axis=1)"
      ],
      "execution_count": 28,
      "outputs": []
    },
    {
      "cell_type": "code",
      "metadata": {
        "colab": {
          "base_uri": "https://localhost:8080/"
        },
        "id": "NgvCcrtva-cW",
        "outputId": "6e5dc61b-777d-4fb2-e08e-df6c0046d519"
      },
      "source": [
        "np.unique(products_df['target'])"
      ],
      "execution_count": 29,
      "outputs": [
        {
          "output_type": "execute_result",
          "data": {
            "text/plain": [
              "array([ 0,  1,  2,  3,  4,  5,  6,  7,  8,  9, 10, 11, 12, 13, 14, 15, 16,\n",
              "       17, 18, 19, 20, 21])"
            ]
          },
          "metadata": {
            "tags": []
          },
          "execution_count": 29
        }
      ]
    },
    {
      "cell_type": "code",
      "metadata": {
        "colab": {
          "base_uri": "https://localhost:8080/"
        },
        "id": "eP0gIEtBDetx",
        "outputId": "7747bcbd-1b31-4a16-d03e-8f89cace7314"
      },
      "source": [
        "len(np.unique(products_df['target']))"
      ],
      "execution_count": 30,
      "outputs": [
        {
          "output_type": "execute_result",
          "data": {
            "text/plain": [
              "22"
            ]
          },
          "metadata": {
            "tags": []
          },
          "execution_count": 30
        }
      ]
    },
    {
      "cell_type": "code",
      "metadata": {
        "colab": {
          "base_uri": "https://localhost:8080/"
        },
        "id": "iqXBFRKWDgYD",
        "outputId": "034699da-f257-4a85-b18c-da91a8212c0f"
      },
      "source": [
        "len(products_label)"
      ],
      "execution_count": 31,
      "outputs": [
        {
          "output_type": "execute_result",
          "data": {
            "text/plain": [
              "22"
            ]
          },
          "metadata": {
            "tags": []
          },
          "execution_count": 31
        }
      ]
    },
    {
      "cell_type": "markdown",
      "metadata": {
        "id": "gc3skLK1259m"
      },
      "source": [
        "# Remove Targets"
      ]
    },
    {
      "cell_type": "code",
      "metadata": {
        "id": "Ejn09u5LNly8"
      },
      "source": [
        "x_df = pd.DataFrame(data=df, columns=df.columns, index=df.index)"
      ],
      "execution_count": 32,
      "outputs": []
    },
    {
      "cell_type": "code",
      "metadata": {
        "id": "mvI21QeVxgt7"
      },
      "source": [
        "x_df.drop(initial_products_label, inplace=True, axis=1)"
      ],
      "execution_count": 33,
      "outputs": []
    },
    {
      "cell_type": "code",
      "metadata": {
        "id": "HNz_KFJoG7Jl"
      },
      "source": [
        "x_df['target'] = products_df['target']"
      ],
      "execution_count": 34,
      "outputs": []
    },
    {
      "cell_type": "markdown",
      "metadata": {
        "id": "_x76uC0VX-Mk"
      },
      "source": [
        "# Data PreProcessing"
      ]
    },
    {
      "cell_type": "code",
      "metadata": {
        "colab": {
          "base_uri": "https://localhost:8080/",
          "height": 0
        },
        "id": "s9BIbp8lLGTu",
        "outputId": "95fe8d68-f0c9-4e52-ecfe-d4934b7b6dde"
      },
      "source": [
        "x_df.head()"
      ],
      "execution_count": 35,
      "outputs": [
        {
          "output_type": "execute_result",
          "data": {
            "text/html": [
              "<div>\n",
              "<style scoped>\n",
              "    .dataframe tbody tr th:only-of-type {\n",
              "        vertical-align: middle;\n",
              "    }\n",
              "\n",
              "    .dataframe tbody tr th {\n",
              "        vertical-align: top;\n",
              "    }\n",
              "\n",
              "    .dataframe thead th {\n",
              "        text-align: right;\n",
              "    }\n",
              "</style>\n",
              "<table border=\"1\" class=\"dataframe\">\n",
              "  <thead>\n",
              "    <tr style=\"text-align: right;\">\n",
              "      <th></th>\n",
              "      <th>fecha_dato</th>\n",
              "      <th>ncodpers</th>\n",
              "      <th>ind_empleado</th>\n",
              "      <th>pais_residencia</th>\n",
              "      <th>sexo</th>\n",
              "      <th>age</th>\n",
              "      <th>ind_nuevo</th>\n",
              "      <th>antiguedad</th>\n",
              "      <th>indrel</th>\n",
              "      <th>indrel_1mes</th>\n",
              "      <th>tiprel_1mes</th>\n",
              "      <th>indresi</th>\n",
              "      <th>indext</th>\n",
              "      <th>canal_entrada</th>\n",
              "      <th>indfall</th>\n",
              "      <th>tipodom</th>\n",
              "      <th>cod_prov</th>\n",
              "      <th>nomprov</th>\n",
              "      <th>ind_actividad_cliente</th>\n",
              "      <th>renta</th>\n",
              "      <th>segmento</th>\n",
              "      <th>target</th>\n",
              "    </tr>\n",
              "  </thead>\n",
              "  <tbody>\n",
              "    <tr>\n",
              "      <th>3144384</th>\n",
              "      <td>2015-06-28</td>\n",
              "      <td>16132</td>\n",
              "      <td>N</td>\n",
              "      <td>ES</td>\n",
              "      <td>V</td>\n",
              "      <td>48</td>\n",
              "      <td>0.0</td>\n",
              "      <td>244</td>\n",
              "      <td>1.0</td>\n",
              "      <td>1</td>\n",
              "      <td>A</td>\n",
              "      <td>S</td>\n",
              "      <td>N</td>\n",
              "      <td>KAT</td>\n",
              "      <td>N</td>\n",
              "      <td>1.0</td>\n",
              "      <td>28.0</td>\n",
              "      <td>MADRID</td>\n",
              "      <td>0.0</td>\n",
              "      <td>160900.95</td>\n",
              "      <td>02 - PARTICULARES</td>\n",
              "      <td>2</td>\n",
              "    </tr>\n",
              "    <tr>\n",
              "      <th>3144385</th>\n",
              "      <td>2015-06-28</td>\n",
              "      <td>1063040</td>\n",
              "      <td>N</td>\n",
              "      <td>ES</td>\n",
              "      <td>V</td>\n",
              "      <td>25</td>\n",
              "      <td>0.0</td>\n",
              "      <td>34</td>\n",
              "      <td>1.0</td>\n",
              "      <td>1</td>\n",
              "      <td>A</td>\n",
              "      <td>S</td>\n",
              "      <td>N</td>\n",
              "      <td>KHE</td>\n",
              "      <td>N</td>\n",
              "      <td>1.0</td>\n",
              "      <td>46.0</td>\n",
              "      <td>VALENCIA</td>\n",
              "      <td>1.0</td>\n",
              "      <td>74693.67</td>\n",
              "      <td>03 - UNIVERSITARIO</td>\n",
              "      <td>21</td>\n",
              "    </tr>\n",
              "    <tr>\n",
              "      <th>3144386</th>\n",
              "      <td>2015-06-28</td>\n",
              "      <td>1063041</td>\n",
              "      <td>N</td>\n",
              "      <td>ES</td>\n",
              "      <td>H</td>\n",
              "      <td>24</td>\n",
              "      <td>0.0</td>\n",
              "      <td>34</td>\n",
              "      <td>1.0</td>\n",
              "      <td>1</td>\n",
              "      <td>A</td>\n",
              "      <td>S</td>\n",
              "      <td>N</td>\n",
              "      <td>KHE</td>\n",
              "      <td>N</td>\n",
              "      <td>1.0</td>\n",
              "      <td>23.0</td>\n",
              "      <td>JAEN</td>\n",
              "      <td>1.0</td>\n",
              "      <td>35053.77</td>\n",
              "      <td>03 - UNIVERSITARIO</td>\n",
              "      <td>2</td>\n",
              "    </tr>\n",
              "    <tr>\n",
              "      <th>3144387</th>\n",
              "      <td>2015-06-28</td>\n",
              "      <td>1063042</td>\n",
              "      <td>N</td>\n",
              "      <td>ES</td>\n",
              "      <td>H</td>\n",
              "      <td>26</td>\n",
              "      <td>0.0</td>\n",
              "      <td>34</td>\n",
              "      <td>1.0</td>\n",
              "      <td>1</td>\n",
              "      <td>I</td>\n",
              "      <td>S</td>\n",
              "      <td>N</td>\n",
              "      <td>KHE</td>\n",
              "      <td>N</td>\n",
              "      <td>1.0</td>\n",
              "      <td>11.0</td>\n",
              "      <td>CADIZ</td>\n",
              "      <td>0.0</td>\n",
              "      <td>72386.49</td>\n",
              "      <td>03 - UNIVERSITARIO</td>\n",
              "      <td>2</td>\n",
              "    </tr>\n",
              "    <tr>\n",
              "      <th>3144389</th>\n",
              "      <td>2015-06-28</td>\n",
              "      <td>1063044</td>\n",
              "      <td>N</td>\n",
              "      <td>ES</td>\n",
              "      <td>H</td>\n",
              "      <td>23</td>\n",
              "      <td>0.0</td>\n",
              "      <td>34</td>\n",
              "      <td>1.0</td>\n",
              "      <td>1</td>\n",
              "      <td>I</td>\n",
              "      <td>S</td>\n",
              "      <td>N</td>\n",
              "      <td>KHE</td>\n",
              "      <td>N</td>\n",
              "      <td>1.0</td>\n",
              "      <td>15.0</td>\n",
              "      <td>CORUÑA, A</td>\n",
              "      <td>1.0</td>\n",
              "      <td>95281.08</td>\n",
              "      <td>03 - UNIVERSITARIO</td>\n",
              "      <td>2</td>\n",
              "    </tr>\n",
              "  </tbody>\n",
              "</table>\n",
              "</div>"
            ],
            "text/plain": [
              "         fecha_dato  ncodpers  ...            segmento target\n",
              "3144384  2015-06-28     16132  ...   02 - PARTICULARES      2\n",
              "3144385  2015-06-28   1063040  ...  03 - UNIVERSITARIO     21\n",
              "3144386  2015-06-28   1063041  ...  03 - UNIVERSITARIO      2\n",
              "3144387  2015-06-28   1063042  ...  03 - UNIVERSITARIO      2\n",
              "3144389  2015-06-28   1063044  ...  03 - UNIVERSITARIO      2\n",
              "\n",
              "[5 rows x 22 columns]"
            ]
          },
          "metadata": {
            "tags": []
          },
          "execution_count": 35
        }
      ]
    },
    {
      "cell_type": "code",
      "metadata": {
        "colab": {
          "base_uri": "https://localhost:8080/",
          "height": 0
        },
        "id": "r_cNxWEUL6OW",
        "outputId": "5f2f8fd1-c254-4836-adb2-fe3613176d5e"
      },
      "source": [
        "x_df.describe()"
      ],
      "execution_count": 36,
      "outputs": [
        {
          "output_type": "execute_result",
          "data": {
            "text/html": [
              "<div>\n",
              "<style scoped>\n",
              "    .dataframe tbody tr th:only-of-type {\n",
              "        vertical-align: middle;\n",
              "    }\n",
              "\n",
              "    .dataframe tbody tr th {\n",
              "        vertical-align: top;\n",
              "    }\n",
              "\n",
              "    .dataframe thead th {\n",
              "        text-align: right;\n",
              "    }\n",
              "</style>\n",
              "<table border=\"1\" class=\"dataframe\">\n",
              "  <thead>\n",
              "    <tr style=\"text-align: right;\">\n",
              "      <th></th>\n",
              "      <th>ncodpers</th>\n",
              "      <th>ind_nuevo</th>\n",
              "      <th>indrel</th>\n",
              "      <th>tipodom</th>\n",
              "      <th>cod_prov</th>\n",
              "      <th>ind_actividad_cliente</th>\n",
              "      <th>renta</th>\n",
              "      <th>target</th>\n",
              "    </tr>\n",
              "  </thead>\n",
              "  <tbody>\n",
              "    <tr>\n",
              "      <th>count</th>\n",
              "      <td>5.236500e+05</td>\n",
              "      <td>523650.000000</td>\n",
              "      <td>523650.000000</td>\n",
              "      <td>523650.0</td>\n",
              "      <td>523650.000000</td>\n",
              "      <td>523650.000000</td>\n",
              "      <td>5.236500e+05</td>\n",
              "      <td>523650.000000</td>\n",
              "    </tr>\n",
              "    <tr>\n",
              "      <th>mean</th>\n",
              "      <td>7.812755e+05</td>\n",
              "      <td>0.021354</td>\n",
              "      <td>1.000749</td>\n",
              "      <td>1.0</td>\n",
              "      <td>26.596492</td>\n",
              "      <td>0.559628</td>\n",
              "      <td>1.342810e+05</td>\n",
              "      <td>7.626546</td>\n",
              "    </tr>\n",
              "    <tr>\n",
              "      <th>std</th>\n",
              "      <td>4.124386e+05</td>\n",
              "      <td>0.144561</td>\n",
              "      <td>0.270853</td>\n",
              "      <td>0.0</td>\n",
              "      <td>12.392188</td>\n",
              "      <td>0.496432</td>\n",
              "      <td>2.282979e+05</td>\n",
              "      <td>7.443261</td>\n",
              "    </tr>\n",
              "    <tr>\n",
              "      <th>min</th>\n",
              "      <td>1.588900e+04</td>\n",
              "      <td>0.000000</td>\n",
              "      <td>1.000000</td>\n",
              "      <td>1.0</td>\n",
              "      <td>2.000000</td>\n",
              "      <td>0.000000</td>\n",
              "      <td>1.202730e+03</td>\n",
              "      <td>0.000000</td>\n",
              "    </tr>\n",
              "    <tr>\n",
              "      <th>25%</th>\n",
              "      <td>4.113462e+05</td>\n",
              "      <td>0.000000</td>\n",
              "      <td>1.000000</td>\n",
              "      <td>1.0</td>\n",
              "      <td>16.000000</td>\n",
              "      <td>0.000000</td>\n",
              "      <td>6.905563e+04</td>\n",
              "      <td>2.000000</td>\n",
              "    </tr>\n",
              "    <tr>\n",
              "      <th>50%</th>\n",
              "      <td>8.805755e+05</td>\n",
              "      <td>0.000000</td>\n",
              "      <td>1.000000</td>\n",
              "      <td>1.0</td>\n",
              "      <td>28.000000</td>\n",
              "      <td>1.000000</td>\n",
              "      <td>1.023512e+05</td>\n",
              "      <td>2.000000</td>\n",
              "    </tr>\n",
              "    <tr>\n",
              "      <th>75%</th>\n",
              "      <td>1.143284e+06</td>\n",
              "      <td>0.000000</td>\n",
              "      <td>1.000000</td>\n",
              "      <td>1.0</td>\n",
              "      <td>33.000000</td>\n",
              "      <td>1.000000</td>\n",
              "      <td>1.565579e+05</td>\n",
              "      <td>12.000000</td>\n",
              "    </tr>\n",
              "    <tr>\n",
              "      <th>max</th>\n",
              "      <td>1.403935e+06</td>\n",
              "      <td>1.000000</td>\n",
              "      <td>99.000000</td>\n",
              "      <td>1.0</td>\n",
              "      <td>52.000000</td>\n",
              "      <td>1.000000</td>\n",
              "      <td>2.889440e+07</td>\n",
              "      <td>21.000000</td>\n",
              "    </tr>\n",
              "  </tbody>\n",
              "</table>\n",
              "</div>"
            ],
            "text/plain": [
              "           ncodpers      ind_nuevo  ...         renta         target\n",
              "count  5.236500e+05  523650.000000  ...  5.236500e+05  523650.000000\n",
              "mean   7.812755e+05       0.021354  ...  1.342810e+05       7.626546\n",
              "std    4.124386e+05       0.144561  ...  2.282979e+05       7.443261\n",
              "min    1.588900e+04       0.000000  ...  1.202730e+03       0.000000\n",
              "25%    4.113462e+05       0.000000  ...  6.905563e+04       2.000000\n",
              "50%    8.805755e+05       0.000000  ...  1.023512e+05       2.000000\n",
              "75%    1.143284e+06       0.000000  ...  1.565579e+05      12.000000\n",
              "max    1.403935e+06       1.000000  ...  2.889440e+07      21.000000\n",
              "\n",
              "[8 rows x 8 columns]"
            ]
          },
          "metadata": {
            "tags": []
          },
          "execution_count": 36
        }
      ]
    },
    {
      "cell_type": "code",
      "metadata": {
        "colab": {
          "base_uri": "https://localhost:8080/"
        },
        "id": "DaFmAr1oL-WF",
        "outputId": "a96fe6f0-906f-40cf-f9e3-9d26a26141b4"
      },
      "source": [
        "x_df.info()"
      ],
      "execution_count": 37,
      "outputs": [
        {
          "output_type": "stream",
          "text": [
            "<class 'pandas.core.frame.DataFrame'>\n",
            "Int64Index: 523650 entries, 3144384 to 3776492\n",
            "Data columns (total 22 columns):\n",
            " #   Column                 Non-Null Count   Dtype  \n",
            "---  ------                 --------------   -----  \n",
            " 0   fecha_dato             523650 non-null  object \n",
            " 1   ncodpers               523650 non-null  int64  \n",
            " 2   ind_empleado           523650 non-null  object \n",
            " 3   pais_residencia        523650 non-null  object \n",
            " 4   sexo                   523650 non-null  object \n",
            " 5   age                    523650 non-null  object \n",
            " 6   ind_nuevo              523650 non-null  float64\n",
            " 7   antiguedad             523650 non-null  object \n",
            " 8   indrel                 523650 non-null  float64\n",
            " 9   indrel_1mes            523650 non-null  object \n",
            " 10  tiprel_1mes            523650 non-null  object \n",
            " 11  indresi                523650 non-null  object \n",
            " 12  indext                 523650 non-null  object \n",
            " 13  canal_entrada          523650 non-null  object \n",
            " 14  indfall                523650 non-null  object \n",
            " 15  tipodom                523650 non-null  float64\n",
            " 16  cod_prov               523650 non-null  float64\n",
            " 17  nomprov                523650 non-null  object \n",
            " 18  ind_actividad_cliente  523650 non-null  float64\n",
            " 19  renta                  523650 non-null  float64\n",
            " 20  segmento               523650 non-null  object \n",
            " 21  target                 523650 non-null  int64  \n",
            "dtypes: float64(6), int64(2), object(14)\n",
            "memory usage: 91.9+ MB\n"
          ],
          "name": "stdout"
        }
      ]
    },
    {
      "cell_type": "code",
      "metadata": {
        "colab": {
          "base_uri": "https://localhost:8080/"
        },
        "id": "bRwTOmZWMcXo",
        "outputId": "2db54f77-3bbc-4f6d-e778-55c500f55479"
      },
      "source": [
        "x_df.isnull().any()"
      ],
      "execution_count": 38,
      "outputs": [
        {
          "output_type": "execute_result",
          "data": {
            "text/plain": [
              "fecha_dato               False\n",
              "ncodpers                 False\n",
              "ind_empleado             False\n",
              "pais_residencia          False\n",
              "sexo                     False\n",
              "age                      False\n",
              "ind_nuevo                False\n",
              "antiguedad               False\n",
              "indrel                   False\n",
              "indrel_1mes              False\n",
              "tiprel_1mes              False\n",
              "indresi                  False\n",
              "indext                   False\n",
              "canal_entrada            False\n",
              "indfall                  False\n",
              "tipodom                  False\n",
              "cod_prov                 False\n",
              "nomprov                  False\n",
              "ind_actividad_cliente    False\n",
              "renta                    False\n",
              "segmento                 False\n",
              "target                   False\n",
              "dtype: bool"
            ]
          },
          "metadata": {
            "tags": []
          },
          "execution_count": 38
        }
      ]
    },
    {
      "cell_type": "code",
      "metadata": {
        "id": "tngbw1dZMhLU"
      },
      "source": [
        "x_df['fecha_dato'] = pd.to_datetime(x_df[\"fecha_dato\"])"
      ],
      "execution_count": 39,
      "outputs": []
    },
    {
      "cell_type": "code",
      "metadata": {
        "colab": {
          "base_uri": "https://localhost:8080/"
        },
        "id": "jqhgWdqYM1Ks",
        "outputId": "ed9b292c-d7e4-4db4-b080-38e281249ab4"
      },
      "source": [
        "x_df.dtypes"
      ],
      "execution_count": 40,
      "outputs": [
        {
          "output_type": "execute_result",
          "data": {
            "text/plain": [
              "fecha_dato               datetime64[ns]\n",
              "ncodpers                          int64\n",
              "ind_empleado                     object\n",
              "pais_residencia                  object\n",
              "sexo                             object\n",
              "age                              object\n",
              "ind_nuevo                       float64\n",
              "antiguedad                       object\n",
              "indrel                          float64\n",
              "indrel_1mes                      object\n",
              "tiprel_1mes                      object\n",
              "indresi                          object\n",
              "indext                           object\n",
              "canal_entrada                    object\n",
              "indfall                          object\n",
              "tipodom                         float64\n",
              "cod_prov                        float64\n",
              "nomprov                          object\n",
              "ind_actividad_cliente           float64\n",
              "renta                           float64\n",
              "segmento                         object\n",
              "target                            int64\n",
              "dtype: object"
            ]
          },
          "metadata": {
            "tags": []
          },
          "execution_count": 40
        }
      ]
    },
    {
      "cell_type": "code",
      "metadata": {
        "colab": {
          "base_uri": "https://localhost:8080/",
          "height": 0
        },
        "id": "LtCbxQf6NHRU",
        "outputId": "d309e888-3db7-48cc-f4f1-9830a5410ffd"
      },
      "source": [
        "x_df.head()"
      ],
      "execution_count": 41,
      "outputs": [
        {
          "output_type": "execute_result",
          "data": {
            "text/html": [
              "<div>\n",
              "<style scoped>\n",
              "    .dataframe tbody tr th:only-of-type {\n",
              "        vertical-align: middle;\n",
              "    }\n",
              "\n",
              "    .dataframe tbody tr th {\n",
              "        vertical-align: top;\n",
              "    }\n",
              "\n",
              "    .dataframe thead th {\n",
              "        text-align: right;\n",
              "    }\n",
              "</style>\n",
              "<table border=\"1\" class=\"dataframe\">\n",
              "  <thead>\n",
              "    <tr style=\"text-align: right;\">\n",
              "      <th></th>\n",
              "      <th>fecha_dato</th>\n",
              "      <th>ncodpers</th>\n",
              "      <th>ind_empleado</th>\n",
              "      <th>pais_residencia</th>\n",
              "      <th>sexo</th>\n",
              "      <th>age</th>\n",
              "      <th>ind_nuevo</th>\n",
              "      <th>antiguedad</th>\n",
              "      <th>indrel</th>\n",
              "      <th>indrel_1mes</th>\n",
              "      <th>tiprel_1mes</th>\n",
              "      <th>indresi</th>\n",
              "      <th>indext</th>\n",
              "      <th>canal_entrada</th>\n",
              "      <th>indfall</th>\n",
              "      <th>tipodom</th>\n",
              "      <th>cod_prov</th>\n",
              "      <th>nomprov</th>\n",
              "      <th>ind_actividad_cliente</th>\n",
              "      <th>renta</th>\n",
              "      <th>segmento</th>\n",
              "      <th>target</th>\n",
              "    </tr>\n",
              "  </thead>\n",
              "  <tbody>\n",
              "    <tr>\n",
              "      <th>3144384</th>\n",
              "      <td>2015-06-28</td>\n",
              "      <td>16132</td>\n",
              "      <td>N</td>\n",
              "      <td>ES</td>\n",
              "      <td>V</td>\n",
              "      <td>48</td>\n",
              "      <td>0.0</td>\n",
              "      <td>244</td>\n",
              "      <td>1.0</td>\n",
              "      <td>1</td>\n",
              "      <td>A</td>\n",
              "      <td>S</td>\n",
              "      <td>N</td>\n",
              "      <td>KAT</td>\n",
              "      <td>N</td>\n",
              "      <td>1.0</td>\n",
              "      <td>28.0</td>\n",
              "      <td>MADRID</td>\n",
              "      <td>0.0</td>\n",
              "      <td>160900.95</td>\n",
              "      <td>02 - PARTICULARES</td>\n",
              "      <td>2</td>\n",
              "    </tr>\n",
              "    <tr>\n",
              "      <th>3144385</th>\n",
              "      <td>2015-06-28</td>\n",
              "      <td>1063040</td>\n",
              "      <td>N</td>\n",
              "      <td>ES</td>\n",
              "      <td>V</td>\n",
              "      <td>25</td>\n",
              "      <td>0.0</td>\n",
              "      <td>34</td>\n",
              "      <td>1.0</td>\n",
              "      <td>1</td>\n",
              "      <td>A</td>\n",
              "      <td>S</td>\n",
              "      <td>N</td>\n",
              "      <td>KHE</td>\n",
              "      <td>N</td>\n",
              "      <td>1.0</td>\n",
              "      <td>46.0</td>\n",
              "      <td>VALENCIA</td>\n",
              "      <td>1.0</td>\n",
              "      <td>74693.67</td>\n",
              "      <td>03 - UNIVERSITARIO</td>\n",
              "      <td>21</td>\n",
              "    </tr>\n",
              "    <tr>\n",
              "      <th>3144386</th>\n",
              "      <td>2015-06-28</td>\n",
              "      <td>1063041</td>\n",
              "      <td>N</td>\n",
              "      <td>ES</td>\n",
              "      <td>H</td>\n",
              "      <td>24</td>\n",
              "      <td>0.0</td>\n",
              "      <td>34</td>\n",
              "      <td>1.0</td>\n",
              "      <td>1</td>\n",
              "      <td>A</td>\n",
              "      <td>S</td>\n",
              "      <td>N</td>\n",
              "      <td>KHE</td>\n",
              "      <td>N</td>\n",
              "      <td>1.0</td>\n",
              "      <td>23.0</td>\n",
              "      <td>JAEN</td>\n",
              "      <td>1.0</td>\n",
              "      <td>35053.77</td>\n",
              "      <td>03 - UNIVERSITARIO</td>\n",
              "      <td>2</td>\n",
              "    </tr>\n",
              "    <tr>\n",
              "      <th>3144387</th>\n",
              "      <td>2015-06-28</td>\n",
              "      <td>1063042</td>\n",
              "      <td>N</td>\n",
              "      <td>ES</td>\n",
              "      <td>H</td>\n",
              "      <td>26</td>\n",
              "      <td>0.0</td>\n",
              "      <td>34</td>\n",
              "      <td>1.0</td>\n",
              "      <td>1</td>\n",
              "      <td>I</td>\n",
              "      <td>S</td>\n",
              "      <td>N</td>\n",
              "      <td>KHE</td>\n",
              "      <td>N</td>\n",
              "      <td>1.0</td>\n",
              "      <td>11.0</td>\n",
              "      <td>CADIZ</td>\n",
              "      <td>0.0</td>\n",
              "      <td>72386.49</td>\n",
              "      <td>03 - UNIVERSITARIO</td>\n",
              "      <td>2</td>\n",
              "    </tr>\n",
              "    <tr>\n",
              "      <th>3144389</th>\n",
              "      <td>2015-06-28</td>\n",
              "      <td>1063044</td>\n",
              "      <td>N</td>\n",
              "      <td>ES</td>\n",
              "      <td>H</td>\n",
              "      <td>23</td>\n",
              "      <td>0.0</td>\n",
              "      <td>34</td>\n",
              "      <td>1.0</td>\n",
              "      <td>1</td>\n",
              "      <td>I</td>\n",
              "      <td>S</td>\n",
              "      <td>N</td>\n",
              "      <td>KHE</td>\n",
              "      <td>N</td>\n",
              "      <td>1.0</td>\n",
              "      <td>15.0</td>\n",
              "      <td>CORUÑA, A</td>\n",
              "      <td>1.0</td>\n",
              "      <td>95281.08</td>\n",
              "      <td>03 - UNIVERSITARIO</td>\n",
              "      <td>2</td>\n",
              "    </tr>\n",
              "  </tbody>\n",
              "</table>\n",
              "</div>"
            ],
            "text/plain": [
              "        fecha_dato  ncodpers  ...            segmento target\n",
              "3144384 2015-06-28     16132  ...   02 - PARTICULARES      2\n",
              "3144385 2015-06-28   1063040  ...  03 - UNIVERSITARIO     21\n",
              "3144386 2015-06-28   1063041  ...  03 - UNIVERSITARIO      2\n",
              "3144387 2015-06-28   1063042  ...  03 - UNIVERSITARIO      2\n",
              "3144389 2015-06-28   1063044  ...  03 - UNIVERSITARIO      2\n",
              "\n",
              "[5 rows x 22 columns]"
            ]
          },
          "metadata": {
            "tags": []
          },
          "execution_count": 41
        }
      ]
    },
    {
      "cell_type": "code",
      "metadata": {
        "colab": {
          "base_uri": "https://localhost:8080/"
        },
        "id": "rZxvZUp-NPjh",
        "outputId": "cdbd0f76-f392-4a97-c100-be1e4c4af7fe"
      },
      "source": [
        "x_df['age'].unique()"
      ],
      "execution_count": 42,
      "outputs": [
        {
          "output_type": "execute_result",
          "data": {
            "text/plain": [
              "array([' 48', ' 25', ' 24', ' 26', ' 23', ' 22', ' 29', ' 36', ' 30',\n",
              "       ' 32', ' 28', ' 40', ' 34', ' 63', ' 53', ' 27', ' 39', ' 60',\n",
              "       ' 42', ' 31', ' 41', ' 45', ' 37', ' 35', ' 57', ' 58', ' 46',\n",
              "       ' 44', ' 50', ' 47', ' 75', ' 38', ' 49', ' 43', ' 52', '  5',\n",
              "       ' 18', ' 13', ' 11', ' 59', ' 33', ' 70', ' 69', ' 51', ' 82',\n",
              "       ' 68', ' 54', ' 61', ' 12', ' 67', ' 14', ' 71', ' 55', ' 77',\n",
              "       ' 65', ' 92', '  6', ' 10', '  7', ' 84', ' 73', ' 62', ' 17',\n",
              "       ' 87', ' 15', ' 72', ' 56', ' 21', ' 66', ' 85', ' 83', '  8',\n",
              "       ' 86', '  9', ' 16', ' 19', ' 79', ' 64', ' 74', ' 95', ' 80',\n",
              "       ' 96', ' 81', ' 20', ' 90', ' 78', ' 88', '100', ' 76', ' 91',\n",
              "       ' 94', ' 93', ' 89', ' 98', '  4', ' 97', '104', '106', '101',\n",
              "       '103', ' 99', '  3', '  2', '102', '107', '109', '105', '110',\n",
              "       '112', '108', '116', '115', '111', '113'], dtype=object)"
            ]
          },
          "metadata": {
            "tags": []
          },
          "execution_count": 42
        }
      ]
    },
    {
      "cell_type": "code",
      "metadata": {
        "colab": {
          "base_uri": "https://localhost:8080/"
        },
        "id": "oKSvDyTnEe44",
        "outputId": "e401a12e-4c21-457e-b5fe-ce554e641ef4"
      },
      "source": [
        "x_df['age'].astype(str).unique()"
      ],
      "execution_count": 43,
      "outputs": [
        {
          "output_type": "execute_result",
          "data": {
            "text/plain": [
              "array([' 48', ' 25', ' 24', ' 26', ' 23', ' 22', ' 29', ' 36', ' 30',\n",
              "       ' 32', ' 28', ' 40', ' 34', ' 63', ' 53', ' 27', ' 39', ' 60',\n",
              "       ' 42', ' 31', ' 41', ' 45', ' 37', ' 35', ' 57', ' 58', ' 46',\n",
              "       ' 44', ' 50', ' 47', ' 75', ' 38', ' 49', ' 43', ' 52', '  5',\n",
              "       ' 18', ' 13', ' 11', ' 59', ' 33', ' 70', ' 69', ' 51', ' 82',\n",
              "       ' 68', ' 54', ' 61', ' 12', ' 67', ' 14', ' 71', ' 55', ' 77',\n",
              "       ' 65', ' 92', '  6', ' 10', '  7', ' 84', ' 73', ' 62', ' 17',\n",
              "       ' 87', ' 15', ' 72', ' 56', ' 21', ' 66', ' 85', ' 83', '  8',\n",
              "       ' 86', '  9', ' 16', ' 19', ' 79', ' 64', ' 74', ' 95', ' 80',\n",
              "       ' 96', ' 81', ' 20', ' 90', ' 78', ' 88', '100', ' 76', ' 91',\n",
              "       ' 94', ' 93', ' 89', ' 98', '  4', ' 97', '104', '106', '101',\n",
              "       '103', ' 99', '  3', '  2', '102', '107', '109', '105', '110',\n",
              "       '112', '108', '116', '115', '111', '113'], dtype=object)"
            ]
          },
          "metadata": {
            "tags": []
          },
          "execution_count": 43
        }
      ]
    },
    {
      "cell_type": "code",
      "metadata": {
        "colab": {
          "base_uri": "https://localhost:8080/"
        },
        "id": "Y_vtBLCYFgRj",
        "outputId": "fc03dc37-be9d-4c2f-894a-f6877c71cf5b"
      },
      "source": [
        "x_df['age'].astype(str).unique().astype(int)"
      ],
      "execution_count": 44,
      "outputs": [
        {
          "output_type": "execute_result",
          "data": {
            "text/plain": [
              "array([ 48,  25,  24,  26,  23,  22,  29,  36,  30,  32,  28,  40,  34,\n",
              "        63,  53,  27,  39,  60,  42,  31,  41,  45,  37,  35,  57,  58,\n",
              "        46,  44,  50,  47,  75,  38,  49,  43,  52,   5,  18,  13,  11,\n",
              "        59,  33,  70,  69,  51,  82,  68,  54,  61,  12,  67,  14,  71,\n",
              "        55,  77,  65,  92,   6,  10,   7,  84,  73,  62,  17,  87,  15,\n",
              "        72,  56,  21,  66,  85,  83,   8,  86,   9,  16,  19,  79,  64,\n",
              "        74,  95,  80,  96,  81,  20,  90,  78,  88, 100,  76,  91,  94,\n",
              "        93,  89,  98,   4,  97, 104, 106, 101, 103,  99,   3,   2, 102,\n",
              "       107, 109, 105, 110, 112, 108, 116, 115, 111, 113])"
            ]
          },
          "metadata": {
            "tags": []
          },
          "execution_count": 44
        }
      ]
    },
    {
      "cell_type": "code",
      "metadata": {
        "colab": {
          "base_uri": "https://localhost:8080/"
        },
        "id": "f_OWNK9PFkB5",
        "outputId": "34cc7af7-0889-4324-efb8-477dd5d74fc5"
      },
      "source": [
        "len(x_df['age'].astype(str).unique())"
      ],
      "execution_count": 45,
      "outputs": [
        {
          "output_type": "execute_result",
          "data": {
            "text/plain": [
              "114"
            ]
          },
          "metadata": {
            "tags": []
          },
          "execution_count": 45
        }
      ]
    },
    {
      "cell_type": "code",
      "metadata": {
        "colab": {
          "base_uri": "https://localhost:8080/"
        },
        "id": "wfZHi9iwFoeB",
        "outputId": "a06c52d3-79de-41c4-c2fe-cc761680721d"
      },
      "source": [
        "len(x_df['age'].astype(str).unique().astype(int))"
      ],
      "execution_count": 46,
      "outputs": [
        {
          "output_type": "execute_result",
          "data": {
            "text/plain": [
              "114"
            ]
          },
          "metadata": {
            "tags": []
          },
          "execution_count": 46
        }
      ]
    },
    {
      "cell_type": "code",
      "metadata": {
        "id": "QS0NdIq6GXJJ"
      },
      "source": [
        "age_df = x_df.loc[:, 'age']"
      ],
      "execution_count": 47,
      "outputs": []
    },
    {
      "cell_type": "code",
      "metadata": {
        "colab": {
          "base_uri": "https://localhost:8080/"
        },
        "id": "yzFQPn6UGfA9",
        "outputId": "14b49271-d197-42d1-d04d-9afe694e1005"
      },
      "source": [
        "age_df.head()"
      ],
      "execution_count": 48,
      "outputs": [
        {
          "output_type": "execute_result",
          "data": {
            "text/plain": [
              "3144384     48\n",
              "3144385     25\n",
              "3144386     24\n",
              "3144387     26\n",
              "3144389     23\n",
              "Name: age, dtype: object"
            ]
          },
          "metadata": {
            "tags": []
          },
          "execution_count": 48
        }
      ]
    },
    {
      "cell_type": "code",
      "metadata": {
        "colab": {
          "base_uri": "https://localhost:8080/"
        },
        "id": "vXIx9Zn5GiDJ",
        "outputId": "642ddc60-bb84-4658-c39c-1cc80408b4eb"
      },
      "source": [
        "age_df.unique()"
      ],
      "execution_count": 49,
      "outputs": [
        {
          "output_type": "execute_result",
          "data": {
            "text/plain": [
              "array([' 48', ' 25', ' 24', ' 26', ' 23', ' 22', ' 29', ' 36', ' 30',\n",
              "       ' 32', ' 28', ' 40', ' 34', ' 63', ' 53', ' 27', ' 39', ' 60',\n",
              "       ' 42', ' 31', ' 41', ' 45', ' 37', ' 35', ' 57', ' 58', ' 46',\n",
              "       ' 44', ' 50', ' 47', ' 75', ' 38', ' 49', ' 43', ' 52', '  5',\n",
              "       ' 18', ' 13', ' 11', ' 59', ' 33', ' 70', ' 69', ' 51', ' 82',\n",
              "       ' 68', ' 54', ' 61', ' 12', ' 67', ' 14', ' 71', ' 55', ' 77',\n",
              "       ' 65', ' 92', '  6', ' 10', '  7', ' 84', ' 73', ' 62', ' 17',\n",
              "       ' 87', ' 15', ' 72', ' 56', ' 21', ' 66', ' 85', ' 83', '  8',\n",
              "       ' 86', '  9', ' 16', ' 19', ' 79', ' 64', ' 74', ' 95', ' 80',\n",
              "       ' 96', ' 81', ' 20', ' 90', ' 78', ' 88', '100', ' 76', ' 91',\n",
              "       ' 94', ' 93', ' 89', ' 98', '  4', ' 97', '104', '106', '101',\n",
              "       '103', ' 99', '  3', '  2', '102', '107', '109', '105', '110',\n",
              "       '112', '108', '116', '115', '111', '113'], dtype=object)"
            ]
          },
          "metadata": {
            "tags": []
          },
          "execution_count": 49
        }
      ]
    },
    {
      "cell_type": "code",
      "metadata": {
        "id": "lAl8TwifHIz6"
      },
      "source": [
        "age_df = age_df.astype(str)"
      ],
      "execution_count": 50,
      "outputs": []
    },
    {
      "cell_type": "code",
      "metadata": {
        "colab": {
          "base_uri": "https://localhost:8080/"
        },
        "id": "bvqx4_dsHOC-",
        "outputId": "a7f20536-085c-48b9-d419-31a808be4b41"
      },
      "source": [
        "age_df.unique()"
      ],
      "execution_count": 51,
      "outputs": [
        {
          "output_type": "execute_result",
          "data": {
            "text/plain": [
              "array([' 48', ' 25', ' 24', ' 26', ' 23', ' 22', ' 29', ' 36', ' 30',\n",
              "       ' 32', ' 28', ' 40', ' 34', ' 63', ' 53', ' 27', ' 39', ' 60',\n",
              "       ' 42', ' 31', ' 41', ' 45', ' 37', ' 35', ' 57', ' 58', ' 46',\n",
              "       ' 44', ' 50', ' 47', ' 75', ' 38', ' 49', ' 43', ' 52', '  5',\n",
              "       ' 18', ' 13', ' 11', ' 59', ' 33', ' 70', ' 69', ' 51', ' 82',\n",
              "       ' 68', ' 54', ' 61', ' 12', ' 67', ' 14', ' 71', ' 55', ' 77',\n",
              "       ' 65', ' 92', '  6', ' 10', '  7', ' 84', ' 73', ' 62', ' 17',\n",
              "       ' 87', ' 15', ' 72', ' 56', ' 21', ' 66', ' 85', ' 83', '  8',\n",
              "       ' 86', '  9', ' 16', ' 19', ' 79', ' 64', ' 74', ' 95', ' 80',\n",
              "       ' 96', ' 81', ' 20', ' 90', ' 78', ' 88', '100', ' 76', ' 91',\n",
              "       ' 94', ' 93', ' 89', ' 98', '  4', ' 97', '104', '106', '101',\n",
              "       '103', ' 99', '  3', '  2', '102', '107', '109', '105', '110',\n",
              "       '112', '108', '116', '115', '111', '113'], dtype=object)"
            ]
          },
          "metadata": {
            "tags": []
          },
          "execution_count": 51
        }
      ]
    },
    {
      "cell_type": "code",
      "metadata": {
        "colab": {
          "base_uri": "https://localhost:8080/"
        },
        "id": "KEBDzCQyIZGe",
        "outputId": "9275fe23-5fe0-4e03-a83c-345ea7e9fce8"
      },
      "source": [
        "len(age_df)"
      ],
      "execution_count": 52,
      "outputs": [
        {
          "output_type": "execute_result",
          "data": {
            "text/plain": [
              "523650"
            ]
          },
          "metadata": {
            "tags": []
          },
          "execution_count": 52
        }
      ]
    },
    {
      "cell_type": "code",
      "metadata": {
        "colab": {
          "base_uri": "https://localhost:8080/"
        },
        "id": "ZhoqSs7nHT6A",
        "outputId": "a1bdf368-0282-4415-95d9-de39ae293648"
      },
      "source": [
        "len(age_df.str.replace(\" \", \"\"))"
      ],
      "execution_count": 53,
      "outputs": [
        {
          "output_type": "execute_result",
          "data": {
            "text/plain": [
              "523650"
            ]
          },
          "metadata": {
            "tags": []
          },
          "execution_count": 53
        }
      ]
    },
    {
      "cell_type": "code",
      "metadata": {
        "id": "7MbHKYmqIftH"
      },
      "source": [
        "age_df = age_df.str.replace(\" \", \"\")"
      ],
      "execution_count": 54,
      "outputs": []
    },
    {
      "cell_type": "code",
      "metadata": {
        "id": "EHbBl9HiIptP"
      },
      "source": [
        "age_df = age_df.astype(int)"
      ],
      "execution_count": 55,
      "outputs": []
    },
    {
      "cell_type": "code",
      "metadata": {
        "colab": {
          "base_uri": "https://localhost:8080/"
        },
        "id": "ZDCfNKLBItnn",
        "outputId": "e5dfab2c-3985-40ac-b3bf-4b4f97b9302e"
      },
      "source": [
        "age_df.unique()"
      ],
      "execution_count": 56,
      "outputs": [
        {
          "output_type": "execute_result",
          "data": {
            "text/plain": [
              "array([ 48,  25,  24,  26,  23,  22,  29,  36,  30,  32,  28,  40,  34,\n",
              "        63,  53,  27,  39,  60,  42,  31,  41,  45,  37,  35,  57,  58,\n",
              "        46,  44,  50,  47,  75,  38,  49,  43,  52,   5,  18,  13,  11,\n",
              "        59,  33,  70,  69,  51,  82,  68,  54,  61,  12,  67,  14,  71,\n",
              "        55,  77,  65,  92,   6,  10,   7,  84,  73,  62,  17,  87,  15,\n",
              "        72,  56,  21,  66,  85,  83,   8,  86,   9,  16,  19,  79,  64,\n",
              "        74,  95,  80,  96,  81,  20,  90,  78,  88, 100,  76,  91,  94,\n",
              "        93,  89,  98,   4,  97, 104, 106, 101, 103,  99,   3,   2, 102,\n",
              "       107, 109, 105, 110, 112, 108, 116, 115, 111, 113])"
            ]
          },
          "metadata": {
            "tags": []
          },
          "execution_count": 56
        }
      ]
    },
    {
      "cell_type": "code",
      "metadata": {
        "colab": {
          "base_uri": "https://localhost:8080/"
        },
        "id": "rvXwW34BIxm6",
        "outputId": "0074bcd6-a671-485b-c08d-a4f541f00647"
      },
      "source": [
        "age_df.dtype"
      ],
      "execution_count": 57,
      "outputs": [
        {
          "output_type": "execute_result",
          "data": {
            "text/plain": [
              "dtype('int64')"
            ]
          },
          "metadata": {
            "tags": []
          },
          "execution_count": 57
        }
      ]
    },
    {
      "cell_type": "code",
      "metadata": {
        "colab": {
          "base_uri": "https://localhost:8080/"
        },
        "id": "zwrbPUmcI1D6",
        "outputId": "b3ceefb1-8ec9-4927-b84d-f1ed40d93cc1"
      },
      "source": [
        "len(x_df['age'])"
      ],
      "execution_count": 58,
      "outputs": [
        {
          "output_type": "execute_result",
          "data": {
            "text/plain": [
              "523650"
            ]
          },
          "metadata": {
            "tags": []
          },
          "execution_count": 58
        }
      ]
    },
    {
      "cell_type": "code",
      "metadata": {
        "colab": {
          "base_uri": "https://localhost:8080/"
        },
        "id": "XiROJIVPI4Wa",
        "outputId": "a817c91f-bfda-4fe7-94d9-801e6a3f7bca"
      },
      "source": [
        "len(age_df)"
      ],
      "execution_count": 59,
      "outputs": [
        {
          "output_type": "execute_result",
          "data": {
            "text/plain": [
              "523650"
            ]
          },
          "metadata": {
            "tags": []
          },
          "execution_count": 59
        }
      ]
    },
    {
      "cell_type": "code",
      "metadata": {
        "id": "GzMA1mfPI6Xa"
      },
      "source": [
        "x_df['age'] = age_df"
      ],
      "execution_count": 60,
      "outputs": []
    },
    {
      "cell_type": "code",
      "metadata": {
        "colab": {
          "base_uri": "https://localhost:8080/"
        },
        "id": "nOnZZu_nI-rl",
        "outputId": "1ca51429-1731-4a19-9071-98ed0240fe51"
      },
      "source": [
        "x_df.info()"
      ],
      "execution_count": 61,
      "outputs": [
        {
          "output_type": "stream",
          "text": [
            "<class 'pandas.core.frame.DataFrame'>\n",
            "Int64Index: 523650 entries, 3144384 to 3776492\n",
            "Data columns (total 22 columns):\n",
            " #   Column                 Non-Null Count   Dtype         \n",
            "---  ------                 --------------   -----         \n",
            " 0   fecha_dato             523650 non-null  datetime64[ns]\n",
            " 1   ncodpers               523650 non-null  int64         \n",
            " 2   ind_empleado           523650 non-null  object        \n",
            " 3   pais_residencia        523650 non-null  object        \n",
            " 4   sexo                   523650 non-null  object        \n",
            " 5   age                    523650 non-null  int64         \n",
            " 6   ind_nuevo              523650 non-null  float64       \n",
            " 7   antiguedad             523650 non-null  object        \n",
            " 8   indrel                 523650 non-null  float64       \n",
            " 9   indrel_1mes            523650 non-null  object        \n",
            " 10  tiprel_1mes            523650 non-null  object        \n",
            " 11  indresi                523650 non-null  object        \n",
            " 12  indext                 523650 non-null  object        \n",
            " 13  canal_entrada          523650 non-null  object        \n",
            " 14  indfall                523650 non-null  object        \n",
            " 15  tipodom                523650 non-null  float64       \n",
            " 16  cod_prov               523650 non-null  float64       \n",
            " 17  nomprov                523650 non-null  object        \n",
            " 18  ind_actividad_cliente  523650 non-null  float64       \n",
            " 19  renta                  523650 non-null  float64       \n",
            " 20  segmento               523650 non-null  object        \n",
            " 21  target                 523650 non-null  int64         \n",
            "dtypes: datetime64[ns](1), float64(6), int64(3), object(12)\n",
            "memory usage: 91.9+ MB\n"
          ],
          "name": "stdout"
        }
      ]
    },
    {
      "cell_type": "code",
      "metadata": {
        "colab": {
          "base_uri": "https://localhost:8080/"
        },
        "id": "VrzggJBPL_vX",
        "outputId": "8372488a-678b-41e6-d9d9-36d809baa2f2"
      },
      "source": [
        "new_columns = ['transactional_date', 'customer_code', 'employee_index', 'country_of_residence', 'gender', 'age',\n",
        "                'new_customer_index', 'seniority', 'customer_type', 'cust_type_at_beg', 'cust_relation_at_beg', 'residency_index', 'foreign_index',\n",
        "                'channel_used', 'decreased_index', 'address_type', 'province_code', 'province_name', 'activity_index', 'gross_income', 'segmentation', 'target'\n",
        "                ]\n",
        "\n",
        "len(new_columns)"
      ],
      "execution_count": 62,
      "outputs": [
        {
          "output_type": "execute_result",
          "data": {
            "text/plain": [
              "22"
            ]
          },
          "metadata": {
            "tags": []
          },
          "execution_count": 62
        }
      ]
    },
    {
      "cell_type": "code",
      "metadata": {
        "id": "G8JzyCf8JFzA"
      },
      "source": [
        "# beg -> beginnning\n",
        "# cust -> customer\n",
        "\n",
        "x_df.columns = new_columns"
      ],
      "execution_count": 63,
      "outputs": []
    },
    {
      "cell_type": "code",
      "metadata": {
        "colab": {
          "base_uri": "https://localhost:8080/",
          "height": 0
        },
        "id": "mEh3VwEqMMCV",
        "outputId": "d9a4d027-bfc2-4e65-dba6-94372cc4678b"
      },
      "source": [
        "x_df.describe()"
      ],
      "execution_count": 64,
      "outputs": [
        {
          "output_type": "execute_result",
          "data": {
            "text/html": [
              "<div>\n",
              "<style scoped>\n",
              "    .dataframe tbody tr th:only-of-type {\n",
              "        vertical-align: middle;\n",
              "    }\n",
              "\n",
              "    .dataframe tbody tr th {\n",
              "        vertical-align: top;\n",
              "    }\n",
              "\n",
              "    .dataframe thead th {\n",
              "        text-align: right;\n",
              "    }\n",
              "</style>\n",
              "<table border=\"1\" class=\"dataframe\">\n",
              "  <thead>\n",
              "    <tr style=\"text-align: right;\">\n",
              "      <th></th>\n",
              "      <th>customer_code</th>\n",
              "      <th>age</th>\n",
              "      <th>new_customer_index</th>\n",
              "      <th>customer_type</th>\n",
              "      <th>address_type</th>\n",
              "      <th>province_code</th>\n",
              "      <th>activity_index</th>\n",
              "      <th>gross_income</th>\n",
              "      <th>target</th>\n",
              "    </tr>\n",
              "  </thead>\n",
              "  <tbody>\n",
              "    <tr>\n",
              "      <th>count</th>\n",
              "      <td>5.236500e+05</td>\n",
              "      <td>523650.000000</td>\n",
              "      <td>523650.000000</td>\n",
              "      <td>523650.000000</td>\n",
              "      <td>523650.0</td>\n",
              "      <td>523650.000000</td>\n",
              "      <td>523650.000000</td>\n",
              "      <td>5.236500e+05</td>\n",
              "      <td>523650.000000</td>\n",
              "    </tr>\n",
              "    <tr>\n",
              "      <th>mean</th>\n",
              "      <td>7.812755e+05</td>\n",
              "      <td>40.638831</td>\n",
              "      <td>0.021354</td>\n",
              "      <td>1.000749</td>\n",
              "      <td>1.0</td>\n",
              "      <td>26.596492</td>\n",
              "      <td>0.559628</td>\n",
              "      <td>1.342810e+05</td>\n",
              "      <td>7.626546</td>\n",
              "    </tr>\n",
              "    <tr>\n",
              "      <th>std</th>\n",
              "      <td>4.124386e+05</td>\n",
              "      <td>17.028314</td>\n",
              "      <td>0.144561</td>\n",
              "      <td>0.270853</td>\n",
              "      <td>0.0</td>\n",
              "      <td>12.392188</td>\n",
              "      <td>0.496432</td>\n",
              "      <td>2.282979e+05</td>\n",
              "      <td>7.443261</td>\n",
              "    </tr>\n",
              "    <tr>\n",
              "      <th>min</th>\n",
              "      <td>1.588900e+04</td>\n",
              "      <td>2.000000</td>\n",
              "      <td>0.000000</td>\n",
              "      <td>1.000000</td>\n",
              "      <td>1.0</td>\n",
              "      <td>2.000000</td>\n",
              "      <td>0.000000</td>\n",
              "      <td>1.202730e+03</td>\n",
              "      <td>0.000000</td>\n",
              "    </tr>\n",
              "    <tr>\n",
              "      <th>25%</th>\n",
              "      <td>4.113462e+05</td>\n",
              "      <td>25.000000</td>\n",
              "      <td>0.000000</td>\n",
              "      <td>1.000000</td>\n",
              "      <td>1.0</td>\n",
              "      <td>16.000000</td>\n",
              "      <td>0.000000</td>\n",
              "      <td>6.905563e+04</td>\n",
              "      <td>2.000000</td>\n",
              "    </tr>\n",
              "    <tr>\n",
              "      <th>50%</th>\n",
              "      <td>8.805755e+05</td>\n",
              "      <td>40.000000</td>\n",
              "      <td>0.000000</td>\n",
              "      <td>1.000000</td>\n",
              "      <td>1.0</td>\n",
              "      <td>28.000000</td>\n",
              "      <td>1.000000</td>\n",
              "      <td>1.023512e+05</td>\n",
              "      <td>2.000000</td>\n",
              "    </tr>\n",
              "    <tr>\n",
              "      <th>75%</th>\n",
              "      <td>1.143284e+06</td>\n",
              "      <td>51.000000</td>\n",
              "      <td>0.000000</td>\n",
              "      <td>1.000000</td>\n",
              "      <td>1.0</td>\n",
              "      <td>33.000000</td>\n",
              "      <td>1.000000</td>\n",
              "      <td>1.565579e+05</td>\n",
              "      <td>12.000000</td>\n",
              "    </tr>\n",
              "    <tr>\n",
              "      <th>max</th>\n",
              "      <td>1.403935e+06</td>\n",
              "      <td>116.000000</td>\n",
              "      <td>1.000000</td>\n",
              "      <td>99.000000</td>\n",
              "      <td>1.0</td>\n",
              "      <td>52.000000</td>\n",
              "      <td>1.000000</td>\n",
              "      <td>2.889440e+07</td>\n",
              "      <td>21.000000</td>\n",
              "    </tr>\n",
              "  </tbody>\n",
              "</table>\n",
              "</div>"
            ],
            "text/plain": [
              "       customer_code            age  ...  gross_income         target\n",
              "count   5.236500e+05  523650.000000  ...  5.236500e+05  523650.000000\n",
              "mean    7.812755e+05      40.638831  ...  1.342810e+05       7.626546\n",
              "std     4.124386e+05      17.028314  ...  2.282979e+05       7.443261\n",
              "min     1.588900e+04       2.000000  ...  1.202730e+03       0.000000\n",
              "25%     4.113462e+05      25.000000  ...  6.905563e+04       2.000000\n",
              "50%     8.805755e+05      40.000000  ...  1.023512e+05       2.000000\n",
              "75%     1.143284e+06      51.000000  ...  1.565579e+05      12.000000\n",
              "max     1.403935e+06     116.000000  ...  2.889440e+07      21.000000\n",
              "\n",
              "[8 rows x 9 columns]"
            ]
          },
          "metadata": {
            "tags": []
          },
          "execution_count": 64
        }
      ]
    },
    {
      "cell_type": "code",
      "metadata": {
        "colab": {
          "base_uri": "https://localhost:8080/"
        },
        "id": "Eka0V8LDMOZj",
        "outputId": "a5765681-fba5-4a0b-e613-363435c1c328"
      },
      "source": [
        "x_df.info()"
      ],
      "execution_count": 65,
      "outputs": [
        {
          "output_type": "stream",
          "text": [
            "<class 'pandas.core.frame.DataFrame'>\n",
            "Int64Index: 523650 entries, 3144384 to 3776492\n",
            "Data columns (total 22 columns):\n",
            " #   Column                Non-Null Count   Dtype         \n",
            "---  ------                --------------   -----         \n",
            " 0   transactional_date    523650 non-null  datetime64[ns]\n",
            " 1   customer_code         523650 non-null  int64         \n",
            " 2   employee_index        523650 non-null  object        \n",
            " 3   country_of_residence  523650 non-null  object        \n",
            " 4   gender                523650 non-null  object        \n",
            " 5   age                   523650 non-null  int64         \n",
            " 6   new_customer_index    523650 non-null  float64       \n",
            " 7   seniority             523650 non-null  object        \n",
            " 8   customer_type         523650 non-null  float64       \n",
            " 9   cust_type_at_beg      523650 non-null  object        \n",
            " 10  cust_relation_at_beg  523650 non-null  object        \n",
            " 11  residency_index       523650 non-null  object        \n",
            " 12  foreign_index         523650 non-null  object        \n",
            " 13  channel_used          523650 non-null  object        \n",
            " 14  decreased_index       523650 non-null  object        \n",
            " 15  address_type          523650 non-null  float64       \n",
            " 16  province_code         523650 non-null  float64       \n",
            " 17  province_name         523650 non-null  object        \n",
            " 18  activity_index        523650 non-null  float64       \n",
            " 19  gross_income          523650 non-null  float64       \n",
            " 20  segmentation          523650 non-null  object        \n",
            " 21  target                523650 non-null  int64         \n",
            "dtypes: datetime64[ns](1), float64(6), int64(3), object(12)\n",
            "memory usage: 91.9+ MB\n"
          ],
          "name": "stdout"
        }
      ]
    },
    {
      "cell_type": "code",
      "metadata": {
        "colab": {
          "base_uri": "https://localhost:8080/"
        },
        "id": "1sVtoVtHMbhj",
        "outputId": "8c9f1605-9016-4ec5-b189-a4e6ec6e2c4f"
      },
      "source": [
        "x_df['employee_index'].unique()"
      ],
      "execution_count": 66,
      "outputs": [
        {
          "output_type": "execute_result",
          "data": {
            "text/plain": [
              "array(['N', 'A', 'F', 'B', 'S'], dtype=object)"
            ]
          },
          "metadata": {
            "tags": []
          },
          "execution_count": 66
        }
      ]
    },
    {
      "cell_type": "code",
      "metadata": {
        "id": "SLFBlw4sOElh"
      },
      "source": [
        "labelEncoder = LabelEncoder()"
      ],
      "execution_count": 67,
      "outputs": []
    },
    {
      "cell_type": "code",
      "metadata": {
        "colab": {
          "base_uri": "https://localhost:8080/"
        },
        "id": "Z4RETX1COIW6",
        "outputId": "72cb4d51-d438-43b0-d485-7a694e93feae"
      },
      "source": [
        "labelEncoder.fit_transform(x_df['employee_index'])"
      ],
      "execution_count": 68,
      "outputs": [
        {
          "output_type": "execute_result",
          "data": {
            "text/plain": [
              "array([3, 3, 3, ..., 3, 3, 3])"
            ]
          },
          "metadata": {
            "tags": []
          },
          "execution_count": 68
        }
      ]
    },
    {
      "cell_type": "code",
      "metadata": {
        "colab": {
          "base_uri": "https://localhost:8080/"
        },
        "id": "X3UnXM_COT_2",
        "outputId": "a97f29a9-8eb4-4552-d0b4-9f6e5e85ceda"
      },
      "source": [
        "np.unique(labelEncoder.fit_transform(x_df['employee_index']))"
      ],
      "execution_count": 69,
      "outputs": [
        {
          "output_type": "execute_result",
          "data": {
            "text/plain": [
              "array([0, 1, 2, 3, 4])"
            ]
          },
          "metadata": {
            "tags": []
          },
          "execution_count": 69
        }
      ]
    },
    {
      "cell_type": "code",
      "metadata": {
        "id": "S6BmsQ4QOd46"
      },
      "source": [
        "x_df['employee_index'] = labelEncoder.fit_transform(x_df['employee_index'])"
      ],
      "execution_count": 70,
      "outputs": []
    },
    {
      "cell_type": "code",
      "metadata": {
        "colab": {
          "base_uri": "https://localhost:8080/"
        },
        "id": "XLwBbtAIOjQC",
        "outputId": "5bb957a8-7013-49d1-8fbf-64675c7c7fa6"
      },
      "source": [
        "x_df.info()"
      ],
      "execution_count": 71,
      "outputs": [
        {
          "output_type": "stream",
          "text": [
            "<class 'pandas.core.frame.DataFrame'>\n",
            "Int64Index: 523650 entries, 3144384 to 3776492\n",
            "Data columns (total 22 columns):\n",
            " #   Column                Non-Null Count   Dtype         \n",
            "---  ------                --------------   -----         \n",
            " 0   transactional_date    523650 non-null  datetime64[ns]\n",
            " 1   customer_code         523650 non-null  int64         \n",
            " 2   employee_index        523650 non-null  int64         \n",
            " 3   country_of_residence  523650 non-null  object        \n",
            " 4   gender                523650 non-null  object        \n",
            " 5   age                   523650 non-null  int64         \n",
            " 6   new_customer_index    523650 non-null  float64       \n",
            " 7   seniority             523650 non-null  object        \n",
            " 8   customer_type         523650 non-null  float64       \n",
            " 9   cust_type_at_beg      523650 non-null  object        \n",
            " 10  cust_relation_at_beg  523650 non-null  object        \n",
            " 11  residency_index       523650 non-null  object        \n",
            " 12  foreign_index         523650 non-null  object        \n",
            " 13  channel_used          523650 non-null  object        \n",
            " 14  decreased_index       523650 non-null  object        \n",
            " 15  address_type          523650 non-null  float64       \n",
            " 16  province_code         523650 non-null  float64       \n",
            " 17  province_name         523650 non-null  object        \n",
            " 18  activity_index        523650 non-null  float64       \n",
            " 19  gross_income          523650 non-null  float64       \n",
            " 20  segmentation          523650 non-null  object        \n",
            " 21  target                523650 non-null  int64         \n",
            "dtypes: datetime64[ns](1), float64(6), int64(4), object(11)\n",
            "memory usage: 91.9+ MB\n"
          ],
          "name": "stdout"
        }
      ]
    },
    {
      "cell_type": "code",
      "metadata": {
        "colab": {
          "base_uri": "https://localhost:8080/"
        },
        "id": "IYCJJPZ9OwBV",
        "outputId": "9e5c7872-b1ee-4f68-fc15-2b42e92c4761"
      },
      "source": [
        "x_df['country_of_residence'].unique()"
      ],
      "execution_count": 72,
      "outputs": [
        {
          "output_type": "execute_result",
          "data": {
            "text/plain": [
              "array(['ES', 'IT', 'DE', 'BO'], dtype=object)"
            ]
          },
          "metadata": {
            "tags": []
          },
          "execution_count": 72
        }
      ]
    },
    {
      "cell_type": "code",
      "metadata": {
        "colab": {
          "base_uri": "https://localhost:8080/"
        },
        "id": "AJgTKvYIPHD7",
        "outputId": "d9cc8e58-4693-4aba-bdf6-a692aa5ec8f9"
      },
      "source": [
        "x_df['new_customer_index'].unique()"
      ],
      "execution_count": 73,
      "outputs": [
        {
          "output_type": "execute_result",
          "data": {
            "text/plain": [
              "array([0., 1.])"
            ]
          },
          "metadata": {
            "tags": []
          },
          "execution_count": 73
        }
      ]
    },
    {
      "cell_type": "code",
      "metadata": {
        "id": "2kHXUYEtPUM1"
      },
      "source": [
        "x_df['new_customer_index'] = x_df['new_customer_index'].astype(int)"
      ],
      "execution_count": 74,
      "outputs": []
    },
    {
      "cell_type": "code",
      "metadata": {
        "colab": {
          "base_uri": "https://localhost:8080/"
        },
        "id": "t2eccYwSPZkQ",
        "outputId": "4094ecd0-45c6-4d29-9e55-28e002290815"
      },
      "source": [
        "x_df['new_customer_index'].unique()"
      ],
      "execution_count": 75,
      "outputs": [
        {
          "output_type": "execute_result",
          "data": {
            "text/plain": [
              "array([0, 1])"
            ]
          },
          "metadata": {
            "tags": []
          },
          "execution_count": 75
        }
      ]
    },
    {
      "cell_type": "code",
      "metadata": {
        "colab": {
          "base_uri": "https://localhost:8080/"
        },
        "id": "dDxjSy_xPbty",
        "outputId": "523ea178-84f7-4105-f515-6d490fe7a7a0"
      },
      "source": [
        "x_df['customer_type'].unique()"
      ],
      "execution_count": 76,
      "outputs": [
        {
          "output_type": "execute_result",
          "data": {
            "text/plain": [
              "array([ 1., 99.])"
            ]
          },
          "metadata": {
            "tags": []
          },
          "execution_count": 76
        }
      ]
    },
    {
      "cell_type": "code",
      "metadata": {
        "id": "BUetMKbpPrhd"
      },
      "source": [
        "x_df['customer_type'] = x_df['customer_type'].astype(int)"
      ],
      "execution_count": 77,
      "outputs": []
    },
    {
      "cell_type": "code",
      "metadata": {
        "colab": {
          "base_uri": "https://localhost:8080/"
        },
        "id": "uU7PtUCaSQp3",
        "outputId": "55325088-315d-4d6e-de6a-f109fe2386d4"
      },
      "source": [
        "x_df['customer_type'].unique()"
      ],
      "execution_count": 78,
      "outputs": [
        {
          "output_type": "execute_result",
          "data": {
            "text/plain": [
              "array([ 1, 99])"
            ]
          },
          "metadata": {
            "tags": []
          },
          "execution_count": 78
        }
      ]
    },
    {
      "cell_type": "code",
      "metadata": {
        "colab": {
          "base_uri": "https://localhost:8080/"
        },
        "id": "UK47rnIEPuff",
        "outputId": "ff14f331-d614-42d2-8098-5af741f5548c"
      },
      "source": [
        "x_df['cust_type_at_beg'].unique()"
      ],
      "execution_count": 79,
      "outputs": [
        {
          "output_type": "execute_result",
          "data": {
            "text/plain": [
              "array([1.0], dtype=object)"
            ]
          },
          "metadata": {
            "tags": []
          },
          "execution_count": 79
        }
      ]
    },
    {
      "cell_type": "code",
      "metadata": {
        "id": "K6RJkpHEP1Ft"
      },
      "source": [
        "x_df['cust_type_at_beg'] = x_df['cust_type_at_beg'].astype(float)"
      ],
      "execution_count": 80,
      "outputs": []
    },
    {
      "cell_type": "code",
      "metadata": {
        "id": "_lU_ZygdP6Iw"
      },
      "source": [
        "x_df['cust_type_at_beg'] = x_df['cust_type_at_beg'].apply(int)"
      ],
      "execution_count": 81,
      "outputs": []
    },
    {
      "cell_type": "code",
      "metadata": {
        "colab": {
          "base_uri": "https://localhost:8080/"
        },
        "id": "qhItZUDmP9nY",
        "outputId": "10a0b3c5-cba0-40c1-dda7-1a636f537d5b"
      },
      "source": [
        "x_df['cust_type_at_beg'].unique()"
      ],
      "execution_count": 82,
      "outputs": [
        {
          "output_type": "execute_result",
          "data": {
            "text/plain": [
              "array([1])"
            ]
          },
          "metadata": {
            "tags": []
          },
          "execution_count": 82
        }
      ]
    },
    {
      "cell_type": "code",
      "metadata": {
        "colab": {
          "base_uri": "https://localhost:8080/"
        },
        "id": "yrFC0MerP_iu",
        "outputId": "e96bb9fd-cc35-48d9-9cfe-e88c5829b620"
      },
      "source": [
        "x_df['cust_relation_at_beg'].unique()"
      ],
      "execution_count": 83,
      "outputs": [
        {
          "output_type": "execute_result",
          "data": {
            "text/plain": [
              "array(['A', 'I'], dtype=object)"
            ]
          },
          "metadata": {
            "tags": []
          },
          "execution_count": 83
        }
      ]
    },
    {
      "cell_type": "code",
      "metadata": {
        "colab": {
          "base_uri": "https://localhost:8080/"
        },
        "id": "E1if3h5IQQCZ",
        "outputId": "f1915e70-e473-41e0-9bd8-e618519669fd"
      },
      "source": [
        "x_df['residency_index'].unique()"
      ],
      "execution_count": 84,
      "outputs": [
        {
          "output_type": "execute_result",
          "data": {
            "text/plain": [
              "array(['S', 'N'], dtype=object)"
            ]
          },
          "metadata": {
            "tags": []
          },
          "execution_count": 84
        }
      ]
    },
    {
      "cell_type": "code",
      "metadata": {
        "colab": {
          "base_uri": "https://localhost:8080/"
        },
        "id": "W5_mxUFoQX9H",
        "outputId": "54435566-4cbb-4554-8c87-8c6befa88e78"
      },
      "source": [
        "x_df['foreign_index'].unique()"
      ],
      "execution_count": 85,
      "outputs": [
        {
          "output_type": "execute_result",
          "data": {
            "text/plain": [
              "array(['N', 'S'], dtype=object)"
            ]
          },
          "metadata": {
            "tags": []
          },
          "execution_count": 85
        }
      ]
    },
    {
      "cell_type": "code",
      "metadata": {
        "colab": {
          "base_uri": "https://localhost:8080/"
        },
        "id": "aBWXZPJ5Qcto",
        "outputId": "4aa7c6a8-356a-485b-eb5c-7deb3fa1f700"
      },
      "source": [
        "x_df.info()"
      ],
      "execution_count": 86,
      "outputs": [
        {
          "output_type": "stream",
          "text": [
            "<class 'pandas.core.frame.DataFrame'>\n",
            "Int64Index: 523650 entries, 3144384 to 3776492\n",
            "Data columns (total 22 columns):\n",
            " #   Column                Non-Null Count   Dtype         \n",
            "---  ------                --------------   -----         \n",
            " 0   transactional_date    523650 non-null  datetime64[ns]\n",
            " 1   customer_code         523650 non-null  int64         \n",
            " 2   employee_index        523650 non-null  int64         \n",
            " 3   country_of_residence  523650 non-null  object        \n",
            " 4   gender                523650 non-null  object        \n",
            " 5   age                   523650 non-null  int64         \n",
            " 6   new_customer_index    523650 non-null  int64         \n",
            " 7   seniority             523650 non-null  object        \n",
            " 8   customer_type         523650 non-null  int64         \n",
            " 9   cust_type_at_beg      523650 non-null  int64         \n",
            " 10  cust_relation_at_beg  523650 non-null  object        \n",
            " 11  residency_index       523650 non-null  object        \n",
            " 12  foreign_index         523650 non-null  object        \n",
            " 13  channel_used          523650 non-null  object        \n",
            " 14  decreased_index       523650 non-null  object        \n",
            " 15  address_type          523650 non-null  float64       \n",
            " 16  province_code         523650 non-null  float64       \n",
            " 17  province_name         523650 non-null  object        \n",
            " 18  activity_index        523650 non-null  float64       \n",
            " 19  gross_income          523650 non-null  float64       \n",
            " 20  segmentation          523650 non-null  object        \n",
            " 21  target                523650 non-null  int64         \n",
            "dtypes: datetime64[ns](1), float64(4), int64(7), object(10)\n",
            "memory usage: 91.9+ MB\n"
          ],
          "name": "stdout"
        }
      ]
    },
    {
      "cell_type": "code",
      "metadata": {
        "colab": {
          "base_uri": "https://localhost:8080/"
        },
        "id": "0l1IhgG0QgJ2",
        "outputId": "8d54adfd-19a1-43bc-a2f1-ece1a23814e5"
      },
      "source": [
        "x_df['channel_used'].unique()"
      ],
      "execution_count": 87,
      "outputs": [
        {
          "output_type": "execute_result",
          "data": {
            "text/plain": [
              "array(['KAT', 'KHE', 'KHD', 'KFC', 'KFA', 'KHC', 'KAZ', 'KHK', 'KHL',\n",
              "       'RED', 'KHN', 'KEH', 'KGC', 'KHM', 'KHO', 'KDH', 'KHF', 'KFK',\n",
              "       'KHA', 'KAF', 'K00', '013', 'KAR', 'KFJ', 'KAG', 'KAA', 'KCC',\n",
              "       'KFG', 'KFD', 'KGX', 'KAH', 'KAE', 'KFS', 'KFP', 'KAB', 'KFN',\n",
              "       'KAP', 'KFU', 'KGY', 'KAQ', 'KAI', 'KFF', 'KGV', 'KAJ', 'KAD',\n",
              "       'KBG', 'KHQ', 'KAK', '007', 'KCA', 'KDT', 'KBO', 'KBQ', 'KAY',\n",
              "       'KCG', 'KBU', 'KBZ', '004', 'KDR', 'KEC', 'KEU', 'KCK', 'KDE',\n",
              "       'KDO', 'KCH', 'KCI', 'KCL', 'KDA', 'KAC', 'KES', 'KAS', 'KCM',\n",
              "       'KCN', 'KDQ', 'KCB', 'KDU', 'KAL', 'KAW', 'KEY', 'KCS', 'KCD',\n",
              "       'KCE', 'KEJ', 'KBL', 'KAO', 'KDC', 'KEA', 'KDY', 'KEW', 'KFT',\n",
              "       'KBH', 'KEV', 'KEG', 'KDZ', 'KEI', 'KEO', 'KBD', 'KDP', 'KBV',\n",
              "       'KCO', 'KBR', 'KCV', 'KBF', 'KCU', 'KBX', 'KDD', 'KBW', 'KCF',\n",
              "       'KDX', 'KAN', 'KAM', 'KDS', 'KBY', 'KEF', 'KBS', 'KDF', 'KCP',\n",
              "       'KDB', 'KBP', 'KBE', 'KCX', 'KDV', 'KDG', 'KEB', 'KEL', 'KEZ',\n",
              "       'KBB', 'KBJ', 'KDM', 'KDW', 'KFH', 'KBM', 'KEN', 'KFI', 'KEQ',\n",
              "       'KAV', 'KED', 'KAU', 'KEK', 'KFB', 'KFE', 'KGW', 'KFM', 'KFL',\n",
              "       'KFV', 'KGU', 'KDI', 'KCQ', 'KCR', 'KDN', 'KEE', 'KEM', 'KCJ'],\n",
              "      dtype=object)"
            ]
          },
          "metadata": {
            "tags": []
          },
          "execution_count": 87
        }
      ]
    },
    {
      "cell_type": "code",
      "metadata": {
        "colab": {
          "base_uri": "https://localhost:8080/"
        },
        "id": "vZrNK8qxQnVO",
        "outputId": "bbf6b6dd-6c15-4e9c-8abe-17949c453482"
      },
      "source": [
        "x_df['decreased_index'].unique()"
      ],
      "execution_count": 88,
      "outputs": [
        {
          "output_type": "execute_result",
          "data": {
            "text/plain": [
              "array(['N', 'S'], dtype=object)"
            ]
          },
          "metadata": {
            "tags": []
          },
          "execution_count": 88
        }
      ]
    },
    {
      "cell_type": "code",
      "metadata": {
        "colab": {
          "base_uri": "https://localhost:8080/"
        },
        "id": "VAvqp4UsQyg3",
        "outputId": "78d50684-ed50-4e4d-9a1c-0e3a0a7ff606"
      },
      "source": [
        "x_df['address_type'].unique()"
      ],
      "execution_count": 89,
      "outputs": [
        {
          "output_type": "execute_result",
          "data": {
            "text/plain": [
              "array([1.])"
            ]
          },
          "metadata": {
            "tags": []
          },
          "execution_count": 89
        }
      ]
    },
    {
      "cell_type": "code",
      "metadata": {
        "id": "EAv14aMsQ4Ds"
      },
      "source": [
        "x_df.drop(['address_type'], inplace=True, axis=1)"
      ],
      "execution_count": 90,
      "outputs": []
    },
    {
      "cell_type": "code",
      "metadata": {
        "colab": {
          "base_uri": "https://localhost:8080/"
        },
        "id": "smfGVE5pRLTI",
        "outputId": "d9efa814-69d2-40cf-be73-31373681401e"
      },
      "source": [
        "x_df.info()"
      ],
      "execution_count": 91,
      "outputs": [
        {
          "output_type": "stream",
          "text": [
            "<class 'pandas.core.frame.DataFrame'>\n",
            "Int64Index: 523650 entries, 3144384 to 3776492\n",
            "Data columns (total 21 columns):\n",
            " #   Column                Non-Null Count   Dtype         \n",
            "---  ------                --------------   -----         \n",
            " 0   transactional_date    523650 non-null  datetime64[ns]\n",
            " 1   customer_code         523650 non-null  int64         \n",
            " 2   employee_index        523650 non-null  int64         \n",
            " 3   country_of_residence  523650 non-null  object        \n",
            " 4   gender                523650 non-null  object        \n",
            " 5   age                   523650 non-null  int64         \n",
            " 6   new_customer_index    523650 non-null  int64         \n",
            " 7   seniority             523650 non-null  object        \n",
            " 8   customer_type         523650 non-null  int64         \n",
            " 9   cust_type_at_beg      523650 non-null  int64         \n",
            " 10  cust_relation_at_beg  523650 non-null  object        \n",
            " 11  residency_index       523650 non-null  object        \n",
            " 12  foreign_index         523650 non-null  object        \n",
            " 13  channel_used          523650 non-null  object        \n",
            " 14  decreased_index       523650 non-null  object        \n",
            " 15  province_code         523650 non-null  float64       \n",
            " 16  province_name         523650 non-null  object        \n",
            " 17  activity_index        523650 non-null  float64       \n",
            " 18  gross_income          523650 non-null  float64       \n",
            " 19  segmentation          523650 non-null  object        \n",
            " 20  target                523650 non-null  int64         \n",
            "dtypes: datetime64[ns](1), float64(3), int64(7), object(10)\n",
            "memory usage: 87.9+ MB\n"
          ],
          "name": "stdout"
        }
      ]
    },
    {
      "cell_type": "code",
      "metadata": {
        "colab": {
          "base_uri": "https://localhost:8080/"
        },
        "id": "ptHUfo6bQ92g",
        "outputId": "b16bd88d-d63b-430d-960c-4c69a05d2bb3"
      },
      "source": [
        "x_df['province_code'].unique()"
      ],
      "execution_count": 92,
      "outputs": [
        {
          "output_type": "execute_result",
          "data": {
            "text/plain": [
              "array([28., 46., 23., 11., 15., 33., 36., 29., 41.,  2., 14., 50., 27.,\n",
              "        6.,  7., 45., 24.,  3., 21., 30., 18., 25., 32.,  5., 37., 44.,\n",
              "       12.,  8., 39., 10., 43., 34., 35.,  9., 13., 22., 19., 26., 42.,\n",
              "        4., 17., 16., 49., 47., 51., 52., 40., 38., 31., 48., 20.])"
            ]
          },
          "metadata": {
            "tags": []
          },
          "execution_count": 92
        }
      ]
    },
    {
      "cell_type": "code",
      "metadata": {
        "id": "45hVO9w1f34a"
      },
      "source": [
        "x_df['province_code'] = x_df['province_code'].apply(int)"
      ],
      "execution_count": 93,
      "outputs": []
    },
    {
      "cell_type": "code",
      "metadata": {
        "colab": {
          "base_uri": "https://localhost:8080/"
        },
        "id": "fXcyykssRTuv",
        "outputId": "9b54a561-b743-4996-cd54-a95e6af408d1"
      },
      "source": [
        "x_df['province_name'].unique()"
      ],
      "execution_count": 94,
      "outputs": [
        {
          "output_type": "execute_result",
          "data": {
            "text/plain": [
              "array(['MADRID', 'VALENCIA', 'JAEN', 'CADIZ', 'CORUÑA, A', 'ASTURIAS',\n",
              "       'PONTEVEDRA', 'MALAGA', 'SEVILLA', 'ALBACETE', 'CORDOBA',\n",
              "       'ZARAGOZA', 'LUGO', 'BADAJOZ', 'BALEARS, ILLES', 'TOLEDO', 'LEON',\n",
              "       'ALICANTE', 'HUELVA', 'MURCIA', 'GRANADA', 'LERIDA', 'OURENSE',\n",
              "       'AVILA', 'SALAMANCA', 'TERUEL', 'CASTELLON', 'BARCELONA',\n",
              "       'CANTABRIA', 'CACERES', 'TARRAGONA', 'PALENCIA', 'PALMAS, LAS',\n",
              "       'BURGOS', 'CIUDAD REAL', 'HUESCA', 'GUADALAJARA', 'RIOJA, LA',\n",
              "       'SORIA', 'ALMERIA', 'GIRONA', 'CUENCA', 'ZAMORA', 'VALLADOLID',\n",
              "       'CEUTA', 'MELILLA', 'SEGOVIA', 'SANTA CRUZ DE TENERIFE', 'NAVARRA',\n",
              "       'BIZKAIA', 'GIPUZKOA'], dtype=object)"
            ]
          },
          "metadata": {
            "tags": []
          },
          "execution_count": 94
        }
      ]
    },
    {
      "cell_type": "code",
      "metadata": {
        "colab": {
          "base_uri": "https://localhost:8080/"
        },
        "id": "SDk3UNZeRVpm",
        "outputId": "14ac2cab-27ba-422f-c64d-49da935c079b"
      },
      "source": [
        "x_df['activity_index'].unique()"
      ],
      "execution_count": 95,
      "outputs": [
        {
          "output_type": "execute_result",
          "data": {
            "text/plain": [
              "array([0., 1.])"
            ]
          },
          "metadata": {
            "tags": []
          },
          "execution_count": 95
        }
      ]
    },
    {
      "cell_type": "code",
      "metadata": {
        "id": "6k5ILwOLRgki"
      },
      "source": [
        "x_df['activity_index'] = x_df['activity_index'].apply(int)"
      ],
      "execution_count": 96,
      "outputs": []
    },
    {
      "cell_type": "code",
      "metadata": {
        "colab": {
          "base_uri": "https://localhost:8080/"
        },
        "id": "bOFjfDgBRl57",
        "outputId": "14c4f91c-8978-42e4-f58f-e82805b7c698"
      },
      "source": [
        "x_df.info()"
      ],
      "execution_count": 97,
      "outputs": [
        {
          "output_type": "stream",
          "text": [
            "<class 'pandas.core.frame.DataFrame'>\n",
            "Int64Index: 523650 entries, 3144384 to 3776492\n",
            "Data columns (total 21 columns):\n",
            " #   Column                Non-Null Count   Dtype         \n",
            "---  ------                --------------   -----         \n",
            " 0   transactional_date    523650 non-null  datetime64[ns]\n",
            " 1   customer_code         523650 non-null  int64         \n",
            " 2   employee_index        523650 non-null  int64         \n",
            " 3   country_of_residence  523650 non-null  object        \n",
            " 4   gender                523650 non-null  object        \n",
            " 5   age                   523650 non-null  int64         \n",
            " 6   new_customer_index    523650 non-null  int64         \n",
            " 7   seniority             523650 non-null  object        \n",
            " 8   customer_type         523650 non-null  int64         \n",
            " 9   cust_type_at_beg      523650 non-null  int64         \n",
            " 10  cust_relation_at_beg  523650 non-null  object        \n",
            " 11  residency_index       523650 non-null  object        \n",
            " 12  foreign_index         523650 non-null  object        \n",
            " 13  channel_used          523650 non-null  object        \n",
            " 14  decreased_index       523650 non-null  object        \n",
            " 15  province_code         523650 non-null  int64         \n",
            " 16  province_name         523650 non-null  object        \n",
            " 17  activity_index        523650 non-null  int64         \n",
            " 18  gross_income          523650 non-null  float64       \n",
            " 19  segmentation          523650 non-null  object        \n",
            " 20  target                523650 non-null  int64         \n",
            "dtypes: datetime64[ns](1), float64(1), int64(9), object(10)\n",
            "memory usage: 87.9+ MB\n"
          ],
          "name": "stdout"
        }
      ]
    },
    {
      "cell_type": "code",
      "metadata": {
        "colab": {
          "base_uri": "https://localhost:8080/"
        },
        "id": "DAg4yPM9RnvD",
        "outputId": "969cc85c-d339-402e-aa81-845aaf50044c"
      },
      "source": [
        "len(x_df['gross_income'].unique())"
      ],
      "execution_count": 98,
      "outputs": [
        {
          "output_type": "execute_result",
          "data": {
            "text/plain": [
              "401537"
            ]
          },
          "metadata": {
            "tags": []
          },
          "execution_count": 98
        }
      ]
    },
    {
      "cell_type": "code",
      "metadata": {
        "colab": {
          "base_uri": "https://localhost:8080/"
        },
        "id": "3nHAMdcoRthQ",
        "outputId": "a744f259-3177-40f5-eec9-426bfa41cca8"
      },
      "source": [
        "len(x_df['segmentation'].unique())"
      ],
      "execution_count": 99,
      "outputs": [
        {
          "output_type": "execute_result",
          "data": {
            "text/plain": [
              "3"
            ]
          },
          "metadata": {
            "tags": []
          },
          "execution_count": 99
        }
      ]
    },
    {
      "cell_type": "code",
      "metadata": {
        "colab": {
          "base_uri": "https://localhost:8080/"
        },
        "id": "sU3UI6WlR0aX",
        "outputId": "500f6ac2-0e77-4f4b-c631-e184d983b142"
      },
      "source": [
        "x_df['segmentation'].unique()"
      ],
      "execution_count": 100,
      "outputs": [
        {
          "output_type": "execute_result",
          "data": {
            "text/plain": [
              "array(['02 - PARTICULARES', '03 - UNIVERSITARIO', '01 - TOP'],\n",
              "      dtype=object)"
            ]
          },
          "metadata": {
            "tags": []
          },
          "execution_count": 100
        }
      ]
    },
    {
      "cell_type": "code",
      "metadata": {
        "id": "Ytd5gc8ZOpzs"
      },
      "source": [
        "x_df['country_of_residence'] = labelEncoder.fit_transform(x_df['country_of_residence'])\n",
        "x_df['gender'] = labelEncoder.fit_transform(x_df['gender'])\n",
        "x_df['cust_relation_at_beg'] = labelEncoder.fit_transform(x_df['cust_relation_at_beg'])\n",
        "x_df['residency_index'] = labelEncoder.fit_transform(x_df['residency_index'])\n",
        "x_df['foreign_index'] = labelEncoder.fit_transform(x_df['foreign_index'])\n",
        "x_df['products'] = x_df['target']\n",
        "x_df['decreased_index'] = labelEncoder.fit_transform(x_df['decreased_index'])\n",
        "x_df['segmentation'] = labelEncoder.fit_transform(x_df['segmentation'])\n",
        "x_df['province_name'] = labelEncoder.fit_transform(x_df['province_name'])"
      ],
      "execution_count": 101,
      "outputs": []
    },
    {
      "cell_type": "code",
      "metadata": {
        "colab": {
          "base_uri": "https://localhost:8080/"
        },
        "id": "L39raX1QSuOt",
        "outputId": "3782d9f4-4ec9-42a7-f849-e1c7a90bed55"
      },
      "source": [
        "x_df.info()"
      ],
      "execution_count": 102,
      "outputs": [
        {
          "output_type": "stream",
          "text": [
            "<class 'pandas.core.frame.DataFrame'>\n",
            "Int64Index: 523650 entries, 3144384 to 3776492\n",
            "Data columns (total 22 columns):\n",
            " #   Column                Non-Null Count   Dtype         \n",
            "---  ------                --------------   -----         \n",
            " 0   transactional_date    523650 non-null  datetime64[ns]\n",
            " 1   customer_code         523650 non-null  int64         \n",
            " 2   employee_index        523650 non-null  int64         \n",
            " 3   country_of_residence  523650 non-null  int64         \n",
            " 4   gender                523650 non-null  int64         \n",
            " 5   age                   523650 non-null  int64         \n",
            " 6   new_customer_index    523650 non-null  int64         \n",
            " 7   seniority             523650 non-null  object        \n",
            " 8   customer_type         523650 non-null  int64         \n",
            " 9   cust_type_at_beg      523650 non-null  int64         \n",
            " 10  cust_relation_at_beg  523650 non-null  int64         \n",
            " 11  residency_index       523650 non-null  int64         \n",
            " 12  foreign_index         523650 non-null  int64         \n",
            " 13  channel_used          523650 non-null  object        \n",
            " 14  decreased_index       523650 non-null  int64         \n",
            " 15  province_code         523650 non-null  int64         \n",
            " 16  province_name         523650 non-null  int64         \n",
            " 17  activity_index        523650 non-null  int64         \n",
            " 18  gross_income          523650 non-null  float64       \n",
            " 19  segmentation          523650 non-null  int64         \n",
            " 20  target                523650 non-null  int64         \n",
            " 21  products              523650 non-null  int64         \n",
            "dtypes: datetime64[ns](1), float64(1), int64(18), object(2)\n",
            "memory usage: 91.9+ MB\n"
          ],
          "name": "stdout"
        }
      ]
    },
    {
      "cell_type": "code",
      "metadata": {
        "id": "6EwyWxtsS69b"
      },
      "source": [
        "x_df['transactional_date'] = labelEncoder.fit_transform(x_df['transactional_date'])"
      ],
      "execution_count": 103,
      "outputs": []
    },
    {
      "cell_type": "code",
      "metadata": {
        "id": "a8RF_wJvTN1N"
      },
      "source": [
        "x_df['channel_used'] = labelEncoder.fit_transform(x_df['channel_used'])"
      ],
      "execution_count": 104,
      "outputs": []
    },
    {
      "cell_type": "code",
      "metadata": {
        "colab": {
          "base_uri": "https://localhost:8080/"
        },
        "id": "1SNQuT22gZ2K",
        "outputId": "f8b85a58-62a8-424e-c853-de339aa679b0"
      },
      "source": [
        "x_df.info()"
      ],
      "execution_count": 105,
      "outputs": [
        {
          "output_type": "stream",
          "text": [
            "<class 'pandas.core.frame.DataFrame'>\n",
            "Int64Index: 523650 entries, 3144384 to 3776492\n",
            "Data columns (total 22 columns):\n",
            " #   Column                Non-Null Count   Dtype  \n",
            "---  ------                --------------   -----  \n",
            " 0   transactional_date    523650 non-null  int64  \n",
            " 1   customer_code         523650 non-null  int64  \n",
            " 2   employee_index        523650 non-null  int64  \n",
            " 3   country_of_residence  523650 non-null  int64  \n",
            " 4   gender                523650 non-null  int64  \n",
            " 5   age                   523650 non-null  int64  \n",
            " 6   new_customer_index    523650 non-null  int64  \n",
            " 7   seniority             523650 non-null  object \n",
            " 8   customer_type         523650 non-null  int64  \n",
            " 9   cust_type_at_beg      523650 non-null  int64  \n",
            " 10  cust_relation_at_beg  523650 non-null  int64  \n",
            " 11  residency_index       523650 non-null  int64  \n",
            " 12  foreign_index         523650 non-null  int64  \n",
            " 13  channel_used          523650 non-null  int64  \n",
            " 14  decreased_index       523650 non-null  int64  \n",
            " 15  province_code         523650 non-null  int64  \n",
            " 16  province_name         523650 non-null  int64  \n",
            " 17  activity_index        523650 non-null  int64  \n",
            " 18  gross_income          523650 non-null  float64\n",
            " 19  segmentation          523650 non-null  int64  \n",
            " 20  target                523650 non-null  int64  \n",
            " 21  products              523650 non-null  int64  \n",
            "dtypes: float64(1), int64(20), object(1)\n",
            "memory usage: 91.9+ MB\n"
          ],
          "name": "stdout"
        }
      ]
    },
    {
      "cell_type": "code",
      "metadata": {
        "colab": {
          "base_uri": "https://localhost:8080/"
        },
        "id": "zoUAy3E0ge4J",
        "outputId": "307f9474-931d-4792-e8f2-e379c5f0c7ee"
      },
      "source": [
        "x_df['seniority'].unique()"
      ],
      "execution_count": 106,
      "outputs": [
        {
          "output_type": "execute_result",
          "data": {
            "text/plain": [
              "array(['    244', '     34', '     25', '     33', '     22', '     10',\n",
              "       '     21', '     17', '     12', '     20', '     30', '      2',\n",
              "       '      5', '     24', '     18', '      6', '     27', '      8',\n",
              "       '     13', '     32', '     11', '     28', '     35', '     16',\n",
              "       '     23', '      3', '     26', '     31', '      9', '      1',\n",
              "       '      4', '     29', '    157', '      7', '     14', '     15',\n",
              "       '     36', '     40', '     19', '    139', '     46', '     38',\n",
              "       '     44', '     41', '     45', '     39', '     47', '     42',\n",
              "       '     43', '     37', '     49', '     50', '     48', '     51',\n",
              "       '     56', '     54', '     55', '     53', '     52', '     57',\n",
              "       '     58', '    209', '    165', '    164', '    105', '     81',\n",
              "       '    129', '    109', '    128', '    156', '    121', '    150',\n",
              "       '    142', '     64', '    122', '    125', '    146', '    101',\n",
              "       '     69', '    163', '    116', '    117', '    107', '    137',\n",
              "       '    108', '    145', '     61', '    162', '    160', '    102',\n",
              "       '     88', '     65', '    136', '    114', '    113', '    161',\n",
              "       '    217', '     77', '    154', '    126', '    159', '    166',\n",
              "       '    104', '    119', '     94', '    149', '    103', '     82',\n",
              "       '     76', '    151', '     70', '     86', '     79', '    138',\n",
              "       '    135', '    169', '     60', '    134', '    120', '    110',\n",
              "       '    148', '     78', '    141', '     66', '    140', '     99',\n",
              "       '    147', '     95', '    118', '    133', '    124', '    127',\n",
              "       '    193', '     80', '    132', '     83', '    123', '    231',\n",
              "       '    143', '    187', '    111', '     85', '     98', '    170',\n",
              "       '    106', '     84', '     63', '    155', '    189', '    175',\n",
              "       '     87', '    177', '    115', '    112', '    232', '     97',\n",
              "       '    152', '    144', '     93', '    203', '    131', '    172',\n",
              "       '    158', '    100', '     72', '    176', '    153', '     89',\n",
              "       '     96', '    174', '    194', '     71', '    173', '    212',\n",
              "       '     68', '     59', '     74', '    130', '     73', '    183',\n",
              "       '    180', '     62', '    216', '    179', '    168', '    184',\n",
              "       '    171', '    198', '     92', '    199', '    167', '    206',\n",
              "       '    235', '    208', '     75', '    195', '    201', '    186',\n",
              "       '     67', '     90', '    207', '    185', '    178', '    192',\n",
              "       '    182', '     91', '    215', '    190', '    181', '    196',\n",
              "       '    219', '    205', '    202', '    200', '    214', '    191',\n",
              "       '    188', '    227', '    225', '    224', '    226', '    242',\n",
              "       '    210', '    223', '    218', '    222', '    233', '    220',\n",
              "       '    211', '    228', '    204', '    197', '    221', '    237',\n",
              "       '    213', '    241', '    229', '    240', '    234', '    243',\n",
              "       '    230', '    238', '    246', '    236', '    239', '    245',\n",
              "       '-999999'], dtype=object)"
            ]
          },
          "metadata": {
            "tags": []
          },
          "execution_count": 106
        }
      ]
    },
    {
      "cell_type": "code",
      "metadata": {
        "colab": {
          "base_uri": "https://localhost:8080/",
          "height": 0
        },
        "id": "zmdGtiQjgq7a",
        "outputId": "dcd3abb1-435a-4880-dc34-f8d19efb94c1"
      },
      "source": [
        "x_df[x_df['seniority'] == -999999]"
      ],
      "execution_count": 107,
      "outputs": [
        {
          "output_type": "execute_result",
          "data": {
            "text/html": [
              "<div>\n",
              "<style scoped>\n",
              "    .dataframe tbody tr th:only-of-type {\n",
              "        vertical-align: middle;\n",
              "    }\n",
              "\n",
              "    .dataframe tbody tr th {\n",
              "        vertical-align: top;\n",
              "    }\n",
              "\n",
              "    .dataframe thead th {\n",
              "        text-align: right;\n",
              "    }\n",
              "</style>\n",
              "<table border=\"1\" class=\"dataframe\">\n",
              "  <thead>\n",
              "    <tr style=\"text-align: right;\">\n",
              "      <th></th>\n",
              "      <th>transactional_date</th>\n",
              "      <th>customer_code</th>\n",
              "      <th>employee_index</th>\n",
              "      <th>country_of_residence</th>\n",
              "      <th>gender</th>\n",
              "      <th>age</th>\n",
              "      <th>new_customer_index</th>\n",
              "      <th>seniority</th>\n",
              "      <th>customer_type</th>\n",
              "      <th>cust_type_at_beg</th>\n",
              "      <th>cust_relation_at_beg</th>\n",
              "      <th>residency_index</th>\n",
              "      <th>foreign_index</th>\n",
              "      <th>channel_used</th>\n",
              "      <th>decreased_index</th>\n",
              "      <th>province_code</th>\n",
              "      <th>province_name</th>\n",
              "      <th>activity_index</th>\n",
              "      <th>gross_income</th>\n",
              "      <th>segmentation</th>\n",
              "      <th>target</th>\n",
              "      <th>products</th>\n",
              "    </tr>\n",
              "  </thead>\n",
              "  <tbody>\n",
              "  </tbody>\n",
              "</table>\n",
              "</div>"
            ],
            "text/plain": [
              "Empty DataFrame\n",
              "Columns: [transactional_date, customer_code, employee_index, country_of_residence, gender, age, new_customer_index, seniority, customer_type, cust_type_at_beg, cust_relation_at_beg, residency_index, foreign_index, channel_used, decreased_index, province_code, province_name, activity_index, gross_income, segmentation, target, products]\n",
              "Index: []"
            ]
          },
          "metadata": {
            "tags": []
          },
          "execution_count": 107
        }
      ]
    },
    {
      "cell_type": "code",
      "metadata": {
        "colab": {
          "base_uri": "https://localhost:8080/",
          "height": 0
        },
        "id": "5fpXRCd4g3a6",
        "outputId": "6b5ddd7d-d7a5-450a-adb4-e7d6873a77a9"
      },
      "source": [
        "x_df[x_df['seniority'] == '-999999']"
      ],
      "execution_count": 108,
      "outputs": [
        {
          "output_type": "execute_result",
          "data": {
            "text/html": [
              "<div>\n",
              "<style scoped>\n",
              "    .dataframe tbody tr th:only-of-type {\n",
              "        vertical-align: middle;\n",
              "    }\n",
              "\n",
              "    .dataframe tbody tr th {\n",
              "        vertical-align: top;\n",
              "    }\n",
              "\n",
              "    .dataframe thead th {\n",
              "        text-align: right;\n",
              "    }\n",
              "</style>\n",
              "<table border=\"1\" class=\"dataframe\">\n",
              "  <thead>\n",
              "    <tr style=\"text-align: right;\">\n",
              "      <th></th>\n",
              "      <th>transactional_date</th>\n",
              "      <th>customer_code</th>\n",
              "      <th>employee_index</th>\n",
              "      <th>country_of_residence</th>\n",
              "      <th>gender</th>\n",
              "      <th>age</th>\n",
              "      <th>new_customer_index</th>\n",
              "      <th>seniority</th>\n",
              "      <th>customer_type</th>\n",
              "      <th>cust_type_at_beg</th>\n",
              "      <th>cust_relation_at_beg</th>\n",
              "      <th>residency_index</th>\n",
              "      <th>foreign_index</th>\n",
              "      <th>channel_used</th>\n",
              "      <th>decreased_index</th>\n",
              "      <th>province_code</th>\n",
              "      <th>province_name</th>\n",
              "      <th>activity_index</th>\n",
              "      <th>gross_income</th>\n",
              "      <th>segmentation</th>\n",
              "      <th>target</th>\n",
              "      <th>products</th>\n",
              "    </tr>\n",
              "  </thead>\n",
              "  <tbody>\n",
              "    <tr>\n",
              "      <th>3601557</th>\n",
              "      <td>0</td>\n",
              "      <td>138388</td>\n",
              "      <td>3</td>\n",
              "      <td>2</td>\n",
              "      <td>1</td>\n",
              "      <td>51</td>\n",
              "      <td>0</td>\n",
              "      <td>-999999</td>\n",
              "      <td>1</td>\n",
              "      <td>1</td>\n",
              "      <td>0</td>\n",
              "      <td>1</td>\n",
              "      <td>0</td>\n",
              "      <td>0</td>\n",
              "      <td>0</td>\n",
              "      <td>28</td>\n",
              "      <td>29</td>\n",
              "      <td>1</td>\n",
              "      <td>198122.16</td>\n",
              "      <td>0</td>\n",
              "      <td>21</td>\n",
              "      <td>21</td>\n",
              "    </tr>\n",
              "    <tr>\n",
              "      <th>3613493</th>\n",
              "      <td>0</td>\n",
              "      <td>162278</td>\n",
              "      <td>3</td>\n",
              "      <td>2</td>\n",
              "      <td>1</td>\n",
              "      <td>66</td>\n",
              "      <td>0</td>\n",
              "      <td>-999999</td>\n",
              "      <td>1</td>\n",
              "      <td>1</td>\n",
              "      <td>0</td>\n",
              "      <td>1</td>\n",
              "      <td>0</td>\n",
              "      <td>0</td>\n",
              "      <td>0</td>\n",
              "      <td>28</td>\n",
              "      <td>29</td>\n",
              "      <td>0</td>\n",
              "      <td>173862.36</td>\n",
              "      <td>1</td>\n",
              "      <td>0</td>\n",
              "      <td>0</td>\n",
              "    </tr>\n",
              "  </tbody>\n",
              "</table>\n",
              "</div>"
            ],
            "text/plain": [
              "         transactional_date  customer_code  ...  target  products\n",
              "3601557                   0         138388  ...      21        21\n",
              "3613493                   0         162278  ...       0         0\n",
              "\n",
              "[2 rows x 22 columns]"
            ]
          },
          "metadata": {
            "tags": []
          },
          "execution_count": 108
        }
      ]
    },
    {
      "cell_type": "code",
      "metadata": {
        "id": "Pt1wMLa4g649"
      },
      "source": [
        "x_df['seniority'] = x_df['seniority'].apply(str)"
      ],
      "execution_count": 109,
      "outputs": []
    },
    {
      "cell_type": "code",
      "metadata": {
        "colab": {
          "base_uri": "https://localhost:8080/"
        },
        "id": "e6HtHr4BhTYO",
        "outputId": "49869e34-13bf-4554-e728-00c46ec428ce"
      },
      "source": [
        "x_df['seniority'].unique()"
      ],
      "execution_count": 110,
      "outputs": [
        {
          "output_type": "execute_result",
          "data": {
            "text/plain": [
              "array(['    244', '     34', '     25', '     33', '     22', '     10',\n",
              "       '     21', '     17', '     12', '     20', '     30', '      2',\n",
              "       '      5', '     24', '     18', '      6', '     27', '      8',\n",
              "       '     13', '     32', '     11', '     28', '     35', '     16',\n",
              "       '     23', '      3', '     26', '     31', '      9', '      1',\n",
              "       '      4', '     29', '    157', '      7', '     14', '     15',\n",
              "       '     36', '     40', '     19', '    139', '     46', '     38',\n",
              "       '     44', '     41', '     45', '     39', '     47', '     42',\n",
              "       '     43', '     37', '     49', '     50', '     48', '     51',\n",
              "       '     56', '     54', '     55', '     53', '     52', '     57',\n",
              "       '     58', '    209', '    165', '    164', '    105', '     81',\n",
              "       '    129', '    109', '    128', '    156', '    121', '    150',\n",
              "       '    142', '     64', '    122', '    125', '    146', '    101',\n",
              "       '     69', '    163', '    116', '    117', '    107', '    137',\n",
              "       '    108', '    145', '     61', '    162', '    160', '    102',\n",
              "       '     88', '     65', '    136', '    114', '    113', '    161',\n",
              "       '    217', '     77', '    154', '    126', '    159', '    166',\n",
              "       '    104', '    119', '     94', '    149', '    103', '     82',\n",
              "       '     76', '    151', '     70', '     86', '     79', '    138',\n",
              "       '    135', '    169', '     60', '    134', '    120', '    110',\n",
              "       '    148', '     78', '    141', '     66', '    140', '     99',\n",
              "       '    147', '     95', '    118', '    133', '    124', '    127',\n",
              "       '    193', '     80', '    132', '     83', '    123', '    231',\n",
              "       '    143', '    187', '    111', '     85', '     98', '    170',\n",
              "       '    106', '     84', '     63', '    155', '    189', '    175',\n",
              "       '     87', '    177', '    115', '    112', '    232', '     97',\n",
              "       '    152', '    144', '     93', '    203', '    131', '    172',\n",
              "       '    158', '    100', '     72', '    176', '    153', '     89',\n",
              "       '     96', '    174', '    194', '     71', '    173', '    212',\n",
              "       '     68', '     59', '     74', '    130', '     73', '    183',\n",
              "       '    180', '     62', '    216', '    179', '    168', '    184',\n",
              "       '    171', '    198', '     92', '    199', '    167', '    206',\n",
              "       '    235', '    208', '     75', '    195', '    201', '    186',\n",
              "       '     67', '     90', '    207', '    185', '    178', '    192',\n",
              "       '    182', '     91', '    215', '    190', '    181', '    196',\n",
              "       '    219', '    205', '    202', '    200', '    214', '    191',\n",
              "       '    188', '    227', '    225', '    224', '    226', '    242',\n",
              "       '    210', '    223', '    218', '    222', '    233', '    220',\n",
              "       '    211', '    228', '    204', '    197', '    221', '    237',\n",
              "       '    213', '    241', '    229', '    240', '    234', '    243',\n",
              "       '    230', '    238', '    246', '    236', '    239', '    245',\n",
              "       '-999999'], dtype=object)"
            ]
          },
          "metadata": {
            "tags": []
          },
          "execution_count": 110
        }
      ]
    },
    {
      "cell_type": "code",
      "metadata": {
        "id": "huxZwtd_hVeV"
      },
      "source": [
        "x_df['seniority'] = x_df['seniority'].str.replace(\" \", \"\")"
      ],
      "execution_count": 111,
      "outputs": []
    },
    {
      "cell_type": "code",
      "metadata": {
        "colab": {
          "base_uri": "https://localhost:8080/"
        },
        "id": "zWFnpQtWhbT8",
        "outputId": "ea87522b-2cd5-415b-b5cf-451c1f6c343b"
      },
      "source": [
        "x_df['seniority'].unique()"
      ],
      "execution_count": 112,
      "outputs": [
        {
          "output_type": "execute_result",
          "data": {
            "text/plain": [
              "array(['244', '34', '25', '33', '22', '10', '21', '17', '12', '20', '30',\n",
              "       '2', '5', '24', '18', '6', '27', '8', '13', '32', '11', '28', '35',\n",
              "       '16', '23', '3', '26', '31', '9', '1', '4', '29', '157', '7', '14',\n",
              "       '15', '36', '40', '19', '139', '46', '38', '44', '41', '45', '39',\n",
              "       '47', '42', '43', '37', '49', '50', '48', '51', '56', '54', '55',\n",
              "       '53', '52', '57', '58', '209', '165', '164', '105', '81', '129',\n",
              "       '109', '128', '156', '121', '150', '142', '64', '122', '125',\n",
              "       '146', '101', '69', '163', '116', '117', '107', '137', '108',\n",
              "       '145', '61', '162', '160', '102', '88', '65', '136', '114', '113',\n",
              "       '161', '217', '77', '154', '126', '159', '166', '104', '119', '94',\n",
              "       '149', '103', '82', '76', '151', '70', '86', '79', '138', '135',\n",
              "       '169', '60', '134', '120', '110', '148', '78', '141', '66', '140',\n",
              "       '99', '147', '95', '118', '133', '124', '127', '193', '80', '132',\n",
              "       '83', '123', '231', '143', '187', '111', '85', '98', '170', '106',\n",
              "       '84', '63', '155', '189', '175', '87', '177', '115', '112', '232',\n",
              "       '97', '152', '144', '93', '203', '131', '172', '158', '100', '72',\n",
              "       '176', '153', '89', '96', '174', '194', '71', '173', '212', '68',\n",
              "       '59', '74', '130', '73', '183', '180', '62', '216', '179', '168',\n",
              "       '184', '171', '198', '92', '199', '167', '206', '235', '208', '75',\n",
              "       '195', '201', '186', '67', '90', '207', '185', '178', '192', '182',\n",
              "       '91', '215', '190', '181', '196', '219', '205', '202', '200',\n",
              "       '214', '191', '188', '227', '225', '224', '226', '242', '210',\n",
              "       '223', '218', '222', '233', '220', '211', '228', '204', '197',\n",
              "       '221', '237', '213', '241', '229', '240', '234', '243', '230',\n",
              "       '238', '246', '236', '239', '245', '-999999'], dtype=object)"
            ]
          },
          "metadata": {
            "tags": []
          },
          "execution_count": 112
        }
      ]
    },
    {
      "cell_type": "code",
      "metadata": {
        "id": "XfjyhBJthd6N"
      },
      "source": [
        "x_df['seniority'] = x_df['seniority'].apply(int)"
      ],
      "execution_count": 113,
      "outputs": []
    },
    {
      "cell_type": "code",
      "metadata": {
        "colab": {
          "base_uri": "https://localhost:8080/"
        },
        "id": "3iiFNKdihmWw",
        "outputId": "5a75586d-1d3d-4485-d43e-e40cdc1dc939"
      },
      "source": [
        "x_df['seniority'].unique()"
      ],
      "execution_count": 114,
      "outputs": [
        {
          "output_type": "execute_result",
          "data": {
            "text/plain": [
              "array([    244,      34,      25,      33,      22,      10,      21,\n",
              "            17,      12,      20,      30,       2,       5,      24,\n",
              "            18,       6,      27,       8,      13,      32,      11,\n",
              "            28,      35,      16,      23,       3,      26,      31,\n",
              "             9,       1,       4,      29,     157,       7,      14,\n",
              "            15,      36,      40,      19,     139,      46,      38,\n",
              "            44,      41,      45,      39,      47,      42,      43,\n",
              "            37,      49,      50,      48,      51,      56,      54,\n",
              "            55,      53,      52,      57,      58,     209,     165,\n",
              "           164,     105,      81,     129,     109,     128,     156,\n",
              "           121,     150,     142,      64,     122,     125,     146,\n",
              "           101,      69,     163,     116,     117,     107,     137,\n",
              "           108,     145,      61,     162,     160,     102,      88,\n",
              "            65,     136,     114,     113,     161,     217,      77,\n",
              "           154,     126,     159,     166,     104,     119,      94,\n",
              "           149,     103,      82,      76,     151,      70,      86,\n",
              "            79,     138,     135,     169,      60,     134,     120,\n",
              "           110,     148,      78,     141,      66,     140,      99,\n",
              "           147,      95,     118,     133,     124,     127,     193,\n",
              "            80,     132,      83,     123,     231,     143,     187,\n",
              "           111,      85,      98,     170,     106,      84,      63,\n",
              "           155,     189,     175,      87,     177,     115,     112,\n",
              "           232,      97,     152,     144,      93,     203,     131,\n",
              "           172,     158,     100,      72,     176,     153,      89,\n",
              "            96,     174,     194,      71,     173,     212,      68,\n",
              "            59,      74,     130,      73,     183,     180,      62,\n",
              "           216,     179,     168,     184,     171,     198,      92,\n",
              "           199,     167,     206,     235,     208,      75,     195,\n",
              "           201,     186,      67,      90,     207,     185,     178,\n",
              "           192,     182,      91,     215,     190,     181,     196,\n",
              "           219,     205,     202,     200,     214,     191,     188,\n",
              "           227,     225,     224,     226,     242,     210,     223,\n",
              "           218,     222,     233,     220,     211,     228,     204,\n",
              "           197,     221,     237,     213,     241,     229,     240,\n",
              "           234,     243,     230,     238,     246,     236,     239,\n",
              "           245, -999999])"
            ]
          },
          "metadata": {
            "tags": []
          },
          "execution_count": 114
        }
      ]
    },
    {
      "cell_type": "code",
      "metadata": {
        "colab": {
          "base_uri": "https://localhost:8080/"
        },
        "id": "cKC5dXNRhofW",
        "outputId": "a678a9a9-444e-468a-dc80-af5d635311bd"
      },
      "source": [
        "x_df['seniority'].mean()"
      ],
      "execution_count": 115,
      "outputs": [
        {
          "output_type": "execute_result",
          "data": {
            "text/plain": [
              "78.99196600782966"
            ]
          },
          "metadata": {
            "tags": []
          },
          "execution_count": 115
        }
      ]
    },
    {
      "cell_type": "code",
      "metadata": {
        "colab": {
          "base_uri": "https://localhost:8080/"
        },
        "id": "6WULfMZFhxWl",
        "outputId": "f8592b03-6498-4892-cd9f-cccbb3464e08"
      },
      "source": [
        "int(x_df['seniority'].mean())"
      ],
      "execution_count": 116,
      "outputs": [
        {
          "output_type": "execute_result",
          "data": {
            "text/plain": [
              "78"
            ]
          },
          "metadata": {
            "tags": []
          },
          "execution_count": 116
        }
      ]
    },
    {
      "cell_type": "code",
      "metadata": {
        "colab": {
          "base_uri": "https://localhost:8080/",
          "height": 0
        },
        "id": "3ebMxSNpiZSn",
        "outputId": "7b3141ad-63fe-4f8c-ebcf-157de2bf1aec"
      },
      "source": [
        "x_df[x_df['seniority'] == -999999]"
      ],
      "execution_count": 117,
      "outputs": [
        {
          "output_type": "execute_result",
          "data": {
            "text/html": [
              "<div>\n",
              "<style scoped>\n",
              "    .dataframe tbody tr th:only-of-type {\n",
              "        vertical-align: middle;\n",
              "    }\n",
              "\n",
              "    .dataframe tbody tr th {\n",
              "        vertical-align: top;\n",
              "    }\n",
              "\n",
              "    .dataframe thead th {\n",
              "        text-align: right;\n",
              "    }\n",
              "</style>\n",
              "<table border=\"1\" class=\"dataframe\">\n",
              "  <thead>\n",
              "    <tr style=\"text-align: right;\">\n",
              "      <th></th>\n",
              "      <th>transactional_date</th>\n",
              "      <th>customer_code</th>\n",
              "      <th>employee_index</th>\n",
              "      <th>country_of_residence</th>\n",
              "      <th>gender</th>\n",
              "      <th>age</th>\n",
              "      <th>new_customer_index</th>\n",
              "      <th>seniority</th>\n",
              "      <th>customer_type</th>\n",
              "      <th>cust_type_at_beg</th>\n",
              "      <th>cust_relation_at_beg</th>\n",
              "      <th>residency_index</th>\n",
              "      <th>foreign_index</th>\n",
              "      <th>channel_used</th>\n",
              "      <th>decreased_index</th>\n",
              "      <th>province_code</th>\n",
              "      <th>province_name</th>\n",
              "      <th>activity_index</th>\n",
              "      <th>gross_income</th>\n",
              "      <th>segmentation</th>\n",
              "      <th>target</th>\n",
              "      <th>products</th>\n",
              "    </tr>\n",
              "  </thead>\n",
              "  <tbody>\n",
              "    <tr>\n",
              "      <th>3601557</th>\n",
              "      <td>0</td>\n",
              "      <td>138388</td>\n",
              "      <td>3</td>\n",
              "      <td>2</td>\n",
              "      <td>1</td>\n",
              "      <td>51</td>\n",
              "      <td>0</td>\n",
              "      <td>-999999</td>\n",
              "      <td>1</td>\n",
              "      <td>1</td>\n",
              "      <td>0</td>\n",
              "      <td>1</td>\n",
              "      <td>0</td>\n",
              "      <td>0</td>\n",
              "      <td>0</td>\n",
              "      <td>28</td>\n",
              "      <td>29</td>\n",
              "      <td>1</td>\n",
              "      <td>198122.16</td>\n",
              "      <td>0</td>\n",
              "      <td>21</td>\n",
              "      <td>21</td>\n",
              "    </tr>\n",
              "    <tr>\n",
              "      <th>3613493</th>\n",
              "      <td>0</td>\n",
              "      <td>162278</td>\n",
              "      <td>3</td>\n",
              "      <td>2</td>\n",
              "      <td>1</td>\n",
              "      <td>66</td>\n",
              "      <td>0</td>\n",
              "      <td>-999999</td>\n",
              "      <td>1</td>\n",
              "      <td>1</td>\n",
              "      <td>0</td>\n",
              "      <td>1</td>\n",
              "      <td>0</td>\n",
              "      <td>0</td>\n",
              "      <td>0</td>\n",
              "      <td>28</td>\n",
              "      <td>29</td>\n",
              "      <td>0</td>\n",
              "      <td>173862.36</td>\n",
              "      <td>1</td>\n",
              "      <td>0</td>\n",
              "      <td>0</td>\n",
              "    </tr>\n",
              "  </tbody>\n",
              "</table>\n",
              "</div>"
            ],
            "text/plain": [
              "         transactional_date  customer_code  ...  target  products\n",
              "3601557                   0         138388  ...      21        21\n",
              "3613493                   0         162278  ...       0         0\n",
              "\n",
              "[2 rows x 22 columns]"
            ]
          },
          "metadata": {
            "tags": []
          },
          "execution_count": 117
        }
      ]
    },
    {
      "cell_type": "code",
      "metadata": {
        "id": "hU647GG4h5w4"
      },
      "source": [
        "seniority_df = x_df.loc[:, 'seniority']"
      ],
      "execution_count": 118,
      "outputs": []
    },
    {
      "cell_type": "code",
      "metadata": {
        "colab": {
          "base_uri": "https://localhost:8080/"
        },
        "id": "pinHcTxrjG8z",
        "outputId": "f5b3cfc8-058f-44b3-92c0-f27dc462f3ec"
      },
      "source": [
        "seniority_df.head()"
      ],
      "execution_count": 119,
      "outputs": [
        {
          "output_type": "execute_result",
          "data": {
            "text/plain": [
              "3144384    244\n",
              "3144385     34\n",
              "3144386     34\n",
              "3144387     34\n",
              "3144389     34\n",
              "Name: seniority, dtype: int64"
            ]
          },
          "metadata": {
            "tags": []
          },
          "execution_count": 119
        }
      ]
    },
    {
      "cell_type": "code",
      "metadata": {
        "colab": {
          "base_uri": "https://localhost:8080/"
        },
        "id": "Mu2NrrRgjONl",
        "outputId": "053c4f69-be84-4a0a-fb83-758570c8113e"
      },
      "source": [
        "len(seniority_df.unique())"
      ],
      "execution_count": 120,
      "outputs": [
        {
          "output_type": "execute_result",
          "data": {
            "text/plain": [
              "247"
            ]
          },
          "metadata": {
            "tags": []
          },
          "execution_count": 120
        }
      ]
    },
    {
      "cell_type": "code",
      "metadata": {
        "colab": {
          "base_uri": "https://localhost:8080/"
        },
        "id": "CoQ8xjdRjJw5",
        "outputId": "a4d8e4f8-bf57-4194-e06b-cd87bda9f0cc"
      },
      "source": [
        "seniority_df[seniority_df == -999999]"
      ],
      "execution_count": 121,
      "outputs": [
        {
          "output_type": "execute_result",
          "data": {
            "text/plain": [
              "3601557   -999999\n",
              "3613493   -999999\n",
              "Name: seniority, dtype: int64"
            ]
          },
          "metadata": {
            "tags": []
          },
          "execution_count": 121
        }
      ]
    },
    {
      "cell_type": "code",
      "metadata": {
        "colab": {
          "base_uri": "https://localhost:8080/"
        },
        "id": "5gr0GgjBjZmM",
        "outputId": "1e50c25a-ca92-441b-c9c4-867f4d9b9108"
      },
      "source": [
        "int(seniority_df.mean())"
      ],
      "execution_count": 122,
      "outputs": [
        {
          "output_type": "execute_result",
          "data": {
            "text/plain": [
              "78"
            ]
          },
          "metadata": {
            "tags": []
          },
          "execution_count": 122
        }
      ]
    },
    {
      "cell_type": "code",
      "metadata": {
        "colab": {
          "base_uri": "https://localhost:8080/"
        },
        "id": "L626w7lnjWgL",
        "outputId": "1b41af9a-5c29-46d4-a0bf-ee69a0544623"
      },
      "source": [
        "seniority_df[seniority_df == -999999] = int(seniority_df.mean())"
      ],
      "execution_count": 123,
      "outputs": [
        {
          "output_type": "stream",
          "text": [
            "/usr/local/lib/python3.7/dist-packages/ipykernel_launcher.py:1: SettingWithCopyWarning: \n",
            "A value is trying to be set on a copy of a slice from a DataFrame\n",
            "\n",
            "See the caveats in the documentation: https://pandas.pydata.org/pandas-docs/stable/user_guide/indexing.html#returning-a-view-versus-a-copy\n",
            "  \"\"\"Entry point for launching an IPython kernel.\n"
          ],
          "name": "stderr"
        }
      ]
    },
    {
      "cell_type": "code",
      "metadata": {
        "colab": {
          "base_uri": "https://localhost:8080/"
        },
        "id": "Ii4jo9MVjfxO",
        "outputId": "9618f508-cdfc-45f6-e246-1879b071b539"
      },
      "source": [
        "len(seniority_df.unique())"
      ],
      "execution_count": 124,
      "outputs": [
        {
          "output_type": "execute_result",
          "data": {
            "text/plain": [
              "246"
            ]
          },
          "metadata": {
            "tags": []
          },
          "execution_count": 124
        }
      ]
    },
    {
      "cell_type": "code",
      "metadata": {
        "colab": {
          "base_uri": "https://localhost:8080/"
        },
        "id": "rbaHmjWIkMmC",
        "outputId": "9efa5e9c-43b3-4344-9add-bd2d756ca5c5"
      },
      "source": [
        "x_df['seniority'].unique()"
      ],
      "execution_count": 125,
      "outputs": [
        {
          "output_type": "execute_result",
          "data": {
            "text/plain": [
              "array([244,  34,  25,  33,  22,  10,  21,  17,  12,  20,  30,   2,   5,\n",
              "        24,  18,   6,  27,   8,  13,  32,  11,  28,  35,  16,  23,   3,\n",
              "        26,  31,   9,   1,   4,  29, 157,   7,  14,  15,  36,  40,  19,\n",
              "       139,  46,  38,  44,  41,  45,  39,  47,  42,  43,  37,  49,  50,\n",
              "        48,  51,  56,  54,  55,  53,  52,  57,  58, 209, 165, 164, 105,\n",
              "        81, 129, 109, 128, 156, 121, 150, 142,  64, 122, 125, 146, 101,\n",
              "        69, 163, 116, 117, 107, 137, 108, 145,  61, 162, 160, 102,  88,\n",
              "        65, 136, 114, 113, 161, 217,  77, 154, 126, 159, 166, 104, 119,\n",
              "        94, 149, 103,  82,  76, 151,  70,  86,  79, 138, 135, 169,  60,\n",
              "       134, 120, 110, 148,  78, 141,  66, 140,  99, 147,  95, 118, 133,\n",
              "       124, 127, 193,  80, 132,  83, 123, 231, 143, 187, 111,  85,  98,\n",
              "       170, 106,  84,  63, 155, 189, 175,  87, 177, 115, 112, 232,  97,\n",
              "       152, 144,  93, 203, 131, 172, 158, 100,  72, 176, 153,  89,  96,\n",
              "       174, 194,  71, 173, 212,  68,  59,  74, 130,  73, 183, 180,  62,\n",
              "       216, 179, 168, 184, 171, 198,  92, 199, 167, 206, 235, 208,  75,\n",
              "       195, 201, 186,  67,  90, 207, 185, 178, 192, 182,  91, 215, 190,\n",
              "       181, 196, 219, 205, 202, 200, 214, 191, 188, 227, 225, 224, 226,\n",
              "       242, 210, 223, 218, 222, 233, 220, 211, 228, 204, 197, 221, 237,\n",
              "       213, 241, 229, 240, 234, 243, 230, 238, 246, 236, 239, 245])"
            ]
          },
          "metadata": {
            "tags": []
          },
          "execution_count": 125
        }
      ]
    },
    {
      "cell_type": "code",
      "metadata": {
        "id": "kluG859sTTnO"
      },
      "source": [
        "x_df['target'] = x_df['target'].astype(int)"
      ],
      "execution_count": 126,
      "outputs": []
    },
    {
      "cell_type": "code",
      "metadata": {
        "colab": {
          "base_uri": "https://localhost:8080/"
        },
        "id": "AAVFWBw3VHTB",
        "outputId": "fda41665-eeaa-40b8-a484-04e76780d1f2"
      },
      "source": [
        "x_df['target'].unique()"
      ],
      "execution_count": 127,
      "outputs": [
        {
          "output_type": "execute_result",
          "data": {
            "text/plain": [
              "array([ 2, 21, 12, 17,  0, 11,  5,  4, 13, 18, 19,  6, 15, 16,  9,  3, 10,\n",
              "       20,  7,  8, 14,  1])"
            ]
          },
          "metadata": {
            "tags": []
          },
          "execution_count": 127
        }
      ]
    },
    {
      "cell_type": "code",
      "metadata": {
        "colab": {
          "base_uri": "https://localhost:8080/"
        },
        "id": "BHOtoD8SVM2C",
        "outputId": "3e4b1cbb-0718-4463-a3ce-06fa925d95ac"
      },
      "source": [
        "len(x_df[x_df['target'] == 0])"
      ],
      "execution_count": 128,
      "outputs": [
        {
          "output_type": "execute_result",
          "data": {
            "text/plain": [
              "12693"
            ]
          },
          "metadata": {
            "tags": []
          },
          "execution_count": 128
        }
      ]
    },
    {
      "cell_type": "code",
      "metadata": {
        "colab": {
          "base_uri": "https://localhost:8080/"
        },
        "id": "IVDRM80TkU5C",
        "outputId": "76ed48a7-04c8-41b7-dc99-e828cc399fba"
      },
      "source": [
        "x_df.info()"
      ],
      "execution_count": 129,
      "outputs": [
        {
          "output_type": "stream",
          "text": [
            "<class 'pandas.core.frame.DataFrame'>\n",
            "Int64Index: 523650 entries, 3144384 to 3776492\n",
            "Data columns (total 22 columns):\n",
            " #   Column                Non-Null Count   Dtype  \n",
            "---  ------                --------------   -----  \n",
            " 0   transactional_date    523650 non-null  int64  \n",
            " 1   customer_code         523650 non-null  int64  \n",
            " 2   employee_index        523650 non-null  int64  \n",
            " 3   country_of_residence  523650 non-null  int64  \n",
            " 4   gender                523650 non-null  int64  \n",
            " 5   age                   523650 non-null  int64  \n",
            " 6   new_customer_index    523650 non-null  int64  \n",
            " 7   seniority             523650 non-null  int64  \n",
            " 8   customer_type         523650 non-null  int64  \n",
            " 9   cust_type_at_beg      523650 non-null  int64  \n",
            " 10  cust_relation_at_beg  523650 non-null  int64  \n",
            " 11  residency_index       523650 non-null  int64  \n",
            " 12  foreign_index         523650 non-null  int64  \n",
            " 13  channel_used          523650 non-null  int64  \n",
            " 14  decreased_index       523650 non-null  int64  \n",
            " 15  province_code         523650 non-null  int64  \n",
            " 16  province_name         523650 non-null  int64  \n",
            " 17  activity_index        523650 non-null  int64  \n",
            " 18  gross_income          523650 non-null  float64\n",
            " 19  segmentation          523650 non-null  int64  \n",
            " 20  target                523650 non-null  int64  \n",
            " 21  products              523650 non-null  int64  \n",
            "dtypes: float64(1), int64(21)\n",
            "memory usage: 91.9 MB\n"
          ],
          "name": "stdout"
        }
      ]
    },
    {
      "cell_type": "code",
      "metadata": {
        "id": "ICmiMUY7pZiD"
      },
      "source": [
        "del age_df\n",
        "del seniority_df"
      ],
      "execution_count": 130,
      "outputs": []
    },
    {
      "cell_type": "code",
      "metadata": {
        "colab": {
          "base_uri": "https://localhost:8080/"
        },
        "id": "fdkjNdrMoLd7",
        "outputId": "3e2b06e5-bca0-4638-cfb0-4816f912eb26"
      },
      "source": [
        "x_df['age'][(x_df['age'] >= 0) & (x_df['age'] <= 10)] = 0\n",
        "x_df['age'][(x_df['age'] >= 11) & (x_df['age'] <= 20)] = 1\n",
        "x_df['age'][(x_df['age'] >= 21) & (x_df['age'] <= 30)] = 2\n",
        "x_df['age'][(x_df['age'] >= 31) & (x_df['age'] <= 40)] = 3\n",
        "x_df['age'][(x_df['age'] >= 41) & (x_df['age'] <= 50)] = 4\n",
        "x_df['age'][(x_df['age'] >= 51) & (x_df['age'] <= 60)] = 5\n",
        "x_df['age'][(x_df['age'] >= 61) & (x_df['age'] <= 70)] = 6\n",
        "x_df['age'][(x_df['age'] >= 71) & (x_df['age'] <= 80)] = 7\n",
        "x_df['age'][(x_df['age'] >= 81) & (x_df['age'] <= 90)] = 8\n",
        "x_df['age'][(x_df['age'] >= 91) & (x_df['age'] <= 100)] = 9\n",
        "x_df['age'][(x_df['age'] >= 101) & (x_df['age'] <= 200)] = 10"
      ],
      "execution_count": 131,
      "outputs": [
        {
          "output_type": "stream",
          "text": [
            "/usr/local/lib/python3.7/dist-packages/ipykernel_launcher.py:1: SettingWithCopyWarning: \n",
            "A value is trying to be set on a copy of a slice from a DataFrame\n",
            "\n",
            "See the caveats in the documentation: https://pandas.pydata.org/pandas-docs/stable/user_guide/indexing.html#returning-a-view-versus-a-copy\n",
            "  \"\"\"Entry point for launching an IPython kernel.\n",
            "/usr/local/lib/python3.7/dist-packages/ipykernel_launcher.py:2: SettingWithCopyWarning: \n",
            "A value is trying to be set on a copy of a slice from a DataFrame\n",
            "\n",
            "See the caveats in the documentation: https://pandas.pydata.org/pandas-docs/stable/user_guide/indexing.html#returning-a-view-versus-a-copy\n",
            "  \n",
            "/usr/local/lib/python3.7/dist-packages/ipykernel_launcher.py:3: SettingWithCopyWarning: \n",
            "A value is trying to be set on a copy of a slice from a DataFrame\n",
            "\n",
            "See the caveats in the documentation: https://pandas.pydata.org/pandas-docs/stable/user_guide/indexing.html#returning-a-view-versus-a-copy\n",
            "  This is separate from the ipykernel package so we can avoid doing imports until\n",
            "/usr/local/lib/python3.7/dist-packages/ipykernel_launcher.py:4: SettingWithCopyWarning: \n",
            "A value is trying to be set on a copy of a slice from a DataFrame\n",
            "\n",
            "See the caveats in the documentation: https://pandas.pydata.org/pandas-docs/stable/user_guide/indexing.html#returning-a-view-versus-a-copy\n",
            "  after removing the cwd from sys.path.\n",
            "/usr/local/lib/python3.7/dist-packages/ipykernel_launcher.py:5: SettingWithCopyWarning: \n",
            "A value is trying to be set on a copy of a slice from a DataFrame\n",
            "\n",
            "See the caveats in the documentation: https://pandas.pydata.org/pandas-docs/stable/user_guide/indexing.html#returning-a-view-versus-a-copy\n",
            "  \"\"\"\n",
            "/usr/local/lib/python3.7/dist-packages/ipykernel_launcher.py:6: SettingWithCopyWarning: \n",
            "A value is trying to be set on a copy of a slice from a DataFrame\n",
            "\n",
            "See the caveats in the documentation: https://pandas.pydata.org/pandas-docs/stable/user_guide/indexing.html#returning-a-view-versus-a-copy\n",
            "  \n",
            "/usr/local/lib/python3.7/dist-packages/ipykernel_launcher.py:7: SettingWithCopyWarning: \n",
            "A value is trying to be set on a copy of a slice from a DataFrame\n",
            "\n",
            "See the caveats in the documentation: https://pandas.pydata.org/pandas-docs/stable/user_guide/indexing.html#returning-a-view-versus-a-copy\n",
            "  import sys\n",
            "/usr/local/lib/python3.7/dist-packages/ipykernel_launcher.py:8: SettingWithCopyWarning: \n",
            "A value is trying to be set on a copy of a slice from a DataFrame\n",
            "\n",
            "See the caveats in the documentation: https://pandas.pydata.org/pandas-docs/stable/user_guide/indexing.html#returning-a-view-versus-a-copy\n",
            "  \n",
            "/usr/local/lib/python3.7/dist-packages/ipykernel_launcher.py:9: SettingWithCopyWarning: \n",
            "A value is trying to be set on a copy of a slice from a DataFrame\n",
            "\n",
            "See the caveats in the documentation: https://pandas.pydata.org/pandas-docs/stable/user_guide/indexing.html#returning-a-view-versus-a-copy\n",
            "  if __name__ == '__main__':\n",
            "/usr/local/lib/python3.7/dist-packages/ipykernel_launcher.py:10: SettingWithCopyWarning: \n",
            "A value is trying to be set on a copy of a slice from a DataFrame\n",
            "\n",
            "See the caveats in the documentation: https://pandas.pydata.org/pandas-docs/stable/user_guide/indexing.html#returning-a-view-versus-a-copy\n",
            "  # Remove the CWD from sys.path while we load stuff.\n",
            "/usr/local/lib/python3.7/dist-packages/ipykernel_launcher.py:11: SettingWithCopyWarning: \n",
            "A value is trying to be set on a copy of a slice from a DataFrame\n",
            "\n",
            "See the caveats in the documentation: https://pandas.pydata.org/pandas-docs/stable/user_guide/indexing.html#returning-a-view-versus-a-copy\n",
            "  # This is added back by InteractiveShellApp.init_path()\n"
          ],
          "name": "stderr"
        }
      ]
    },
    {
      "cell_type": "code",
      "metadata": {
        "colab": {
          "base_uri": "https://localhost:8080/"
        },
        "id": "OULT6wcco5eZ",
        "outputId": "694762d0-6717-4361-c3e7-1d124e166310"
      },
      "source": [
        "x_df['age'].unique()"
      ],
      "execution_count": 132,
      "outputs": [
        {
          "output_type": "execute_result",
          "data": {
            "text/plain": [
              "array([ 4,  2,  3,  6,  5,  7,  0,  1,  8,  9, 10])"
            ]
          },
          "metadata": {
            "tags": []
          },
          "execution_count": 132
        }
      ]
    },
    {
      "cell_type": "code",
      "metadata": {
        "colab": {
          "base_uri": "https://localhost:8080/"
        },
        "id": "6J051YTdq5WN",
        "outputId": "ee77cc24-c811-4061-8e86-c736b36b352e"
      },
      "source": [
        "x_df['seniority'][(x_df['seniority'] >= 0) & (x_df['seniority'] <= 20)] = 0\n",
        "x_df['seniority'][(x_df['seniority'] >= 21) & (x_df['seniority'] <= 40)] = 1\n",
        "x_df['seniority'][(x_df['seniority'] >= 41) & (x_df['seniority'] <= 60)] = 3\n",
        "x_df['seniority'][(x_df['seniority'] >= 61) & (x_df['seniority'] <= 80)] = 4\n",
        "x_df['seniority'][(x_df['seniority'] >= 81) & (x_df['seniority'] <= 100)] = 5\n",
        "x_df['seniority'][(x_df['seniority'] >= 101) & (x_df['seniority'] <= 120)] = 6\n",
        "x_df['seniority'][(x_df['seniority'] >= 121) & (x_df['seniority'] <= 140)] = 7\n",
        "x_df['seniority'][(x_df['seniority'] >= 141) & (x_df['seniority'] <= 160)] = 8\n",
        "x_df['seniority'][(x_df['seniority'] >= 161) & (x_df['seniority'] <= 180)] = 9\n",
        "x_df['seniority'][(x_df['seniority'] >= 181) & (x_df['seniority'] <= 200)] = 10\n",
        "x_df['seniority'][(x_df['seniority'] >= 201) & (x_df['seniority'] <= 220)] = 11\n",
        "x_df['seniority'][(x_df['seniority'] >= 221) & (x_df['seniority'] <= 240)] = 12\n",
        "x_df['seniority'][(x_df['seniority'] >= 241) & (x_df['seniority'] <= 260)] = 13"
      ],
      "execution_count": 133,
      "outputs": [
        {
          "output_type": "stream",
          "text": [
            "/usr/local/lib/python3.7/dist-packages/ipykernel_launcher.py:1: SettingWithCopyWarning: \n",
            "A value is trying to be set on a copy of a slice from a DataFrame\n",
            "\n",
            "See the caveats in the documentation: https://pandas.pydata.org/pandas-docs/stable/user_guide/indexing.html#returning-a-view-versus-a-copy\n",
            "  \"\"\"Entry point for launching an IPython kernel.\n",
            "/usr/local/lib/python3.7/dist-packages/ipykernel_launcher.py:2: SettingWithCopyWarning: \n",
            "A value is trying to be set on a copy of a slice from a DataFrame\n",
            "\n",
            "See the caveats in the documentation: https://pandas.pydata.org/pandas-docs/stable/user_guide/indexing.html#returning-a-view-versus-a-copy\n",
            "  \n",
            "/usr/local/lib/python3.7/dist-packages/ipykernel_launcher.py:3: SettingWithCopyWarning: \n",
            "A value is trying to be set on a copy of a slice from a DataFrame\n",
            "\n",
            "See the caveats in the documentation: https://pandas.pydata.org/pandas-docs/stable/user_guide/indexing.html#returning-a-view-versus-a-copy\n",
            "  This is separate from the ipykernel package so we can avoid doing imports until\n",
            "/usr/local/lib/python3.7/dist-packages/ipykernel_launcher.py:4: SettingWithCopyWarning: \n",
            "A value is trying to be set on a copy of a slice from a DataFrame\n",
            "\n",
            "See the caveats in the documentation: https://pandas.pydata.org/pandas-docs/stable/user_guide/indexing.html#returning-a-view-versus-a-copy\n",
            "  after removing the cwd from sys.path.\n",
            "/usr/local/lib/python3.7/dist-packages/ipykernel_launcher.py:5: SettingWithCopyWarning: \n",
            "A value is trying to be set on a copy of a slice from a DataFrame\n",
            "\n",
            "See the caveats in the documentation: https://pandas.pydata.org/pandas-docs/stable/user_guide/indexing.html#returning-a-view-versus-a-copy\n",
            "  \"\"\"\n",
            "/usr/local/lib/python3.7/dist-packages/ipykernel_launcher.py:6: SettingWithCopyWarning: \n",
            "A value is trying to be set on a copy of a slice from a DataFrame\n",
            "\n",
            "See the caveats in the documentation: https://pandas.pydata.org/pandas-docs/stable/user_guide/indexing.html#returning-a-view-versus-a-copy\n",
            "  \n",
            "/usr/local/lib/python3.7/dist-packages/ipykernel_launcher.py:7: SettingWithCopyWarning: \n",
            "A value is trying to be set on a copy of a slice from a DataFrame\n",
            "\n",
            "See the caveats in the documentation: https://pandas.pydata.org/pandas-docs/stable/user_guide/indexing.html#returning-a-view-versus-a-copy\n",
            "  import sys\n",
            "/usr/local/lib/python3.7/dist-packages/ipykernel_launcher.py:8: SettingWithCopyWarning: \n",
            "A value is trying to be set on a copy of a slice from a DataFrame\n",
            "\n",
            "See the caveats in the documentation: https://pandas.pydata.org/pandas-docs/stable/user_guide/indexing.html#returning-a-view-versus-a-copy\n",
            "  \n",
            "/usr/local/lib/python3.7/dist-packages/ipykernel_launcher.py:9: SettingWithCopyWarning: \n",
            "A value is trying to be set on a copy of a slice from a DataFrame\n",
            "\n",
            "See the caveats in the documentation: https://pandas.pydata.org/pandas-docs/stable/user_guide/indexing.html#returning-a-view-versus-a-copy\n",
            "  if __name__ == '__main__':\n",
            "/usr/local/lib/python3.7/dist-packages/ipykernel_launcher.py:10: SettingWithCopyWarning: \n",
            "A value is trying to be set on a copy of a slice from a DataFrame\n",
            "\n",
            "See the caveats in the documentation: https://pandas.pydata.org/pandas-docs/stable/user_guide/indexing.html#returning-a-view-versus-a-copy\n",
            "  # Remove the CWD from sys.path while we load stuff.\n",
            "/usr/local/lib/python3.7/dist-packages/ipykernel_launcher.py:11: SettingWithCopyWarning: \n",
            "A value is trying to be set on a copy of a slice from a DataFrame\n",
            "\n",
            "See the caveats in the documentation: https://pandas.pydata.org/pandas-docs/stable/user_guide/indexing.html#returning-a-view-versus-a-copy\n",
            "  # This is added back by InteractiveShellApp.init_path()\n",
            "/usr/local/lib/python3.7/dist-packages/ipykernel_launcher.py:12: SettingWithCopyWarning: \n",
            "A value is trying to be set on a copy of a slice from a DataFrame\n",
            "\n",
            "See the caveats in the documentation: https://pandas.pydata.org/pandas-docs/stable/user_guide/indexing.html#returning-a-view-versus-a-copy\n",
            "  if sys.path[0] == '':\n",
            "/usr/local/lib/python3.7/dist-packages/ipykernel_launcher.py:13: SettingWithCopyWarning: \n",
            "A value is trying to be set on a copy of a slice from a DataFrame\n",
            "\n",
            "See the caveats in the documentation: https://pandas.pydata.org/pandas-docs/stable/user_guide/indexing.html#returning-a-view-versus-a-copy\n",
            "  del sys.path[0]\n"
          ],
          "name": "stderr"
        }
      ]
    },
    {
      "cell_type": "code",
      "metadata": {
        "colab": {
          "base_uri": "https://localhost:8080/"
        },
        "id": "AarSUf6brUw9",
        "outputId": "70a585ea-52b6-48c4-c251-0ccfa8f6f824"
      },
      "source": [
        "x_df['seniority'].unique()"
      ],
      "execution_count": 134,
      "outputs": [
        {
          "output_type": "execute_result",
          "data": {
            "text/plain": [
              "array([13,  1,  0,  8,  7,  3, 11,  9,  6,  5,  4, 10, 12])"
            ]
          },
          "metadata": {
            "tags": []
          },
          "execution_count": 134
        }
      ]
    },
    {
      "cell_type": "code",
      "metadata": {
        "colab": {
          "base_uri": "https://localhost:8080/"
        },
        "id": "wESq98DUrcSd",
        "outputId": "267d1950-24fb-4d85-b78a-96b8c8692039"
      },
      "source": [
        "x_df['gross_income'].max()"
      ],
      "execution_count": 135,
      "outputs": [
        {
          "output_type": "execute_result",
          "data": {
            "text/plain": [
              "28894395.51"
            ]
          },
          "metadata": {
            "tags": []
          },
          "execution_count": 135
        }
      ]
    },
    {
      "cell_type": "code",
      "metadata": {
        "colab": {
          "base_uri": "https://localhost:8080/"
        },
        "id": "b3hSi6o_riyN",
        "outputId": "add9bdd2-6cbc-4f09-cb91-841e61f9e817"
      },
      "source": [
        "x_df['gross_income'][(x_df['gross_income'] >= 0) & (x_df['gross_income'] <= 19999)] = 0\n",
        "x_df['gross_income'][(x_df['gross_income'] >= 20000) & (x_df['gross_income'] <= 39999)] = 1\n",
        "x_df['gross_income'][(x_df['gross_income'] >= 40000) & (x_df['gross_income'] <= 59999)] = 2\n",
        "x_df['gross_income'][(x_df['gross_income'] >= 60000) & (x_df['gross_income'] <= 79999)] = 3\n",
        "x_df['gross_income'][(x_df['gross_income'] >= 80000) & (x_df['gross_income'] <= 99999)] = 4\n",
        "x_df['gross_income'][(x_df['gross_income'] >= 100000) & (x_df['gross_income'] <= 119999)] = 5\n",
        "x_df['gross_income'][(x_df['gross_income'] >= 120000) & (x_df['gross_income'] <= 139999)] = 6\n",
        "x_df['gross_income'][x_df['gross_income'] >= 140000] = 7"
      ],
      "execution_count": 136,
      "outputs": [
        {
          "output_type": "stream",
          "text": [
            "/usr/local/lib/python3.7/dist-packages/ipykernel_launcher.py:1: SettingWithCopyWarning: \n",
            "A value is trying to be set on a copy of a slice from a DataFrame\n",
            "\n",
            "See the caveats in the documentation: https://pandas.pydata.org/pandas-docs/stable/user_guide/indexing.html#returning-a-view-versus-a-copy\n",
            "  \"\"\"Entry point for launching an IPython kernel.\n",
            "/usr/local/lib/python3.7/dist-packages/ipykernel_launcher.py:2: SettingWithCopyWarning: \n",
            "A value is trying to be set on a copy of a slice from a DataFrame\n",
            "\n",
            "See the caveats in the documentation: https://pandas.pydata.org/pandas-docs/stable/user_guide/indexing.html#returning-a-view-versus-a-copy\n",
            "  \n",
            "/usr/local/lib/python3.7/dist-packages/ipykernel_launcher.py:3: SettingWithCopyWarning: \n",
            "A value is trying to be set on a copy of a slice from a DataFrame\n",
            "\n",
            "See the caveats in the documentation: https://pandas.pydata.org/pandas-docs/stable/user_guide/indexing.html#returning-a-view-versus-a-copy\n",
            "  This is separate from the ipykernel package so we can avoid doing imports until\n",
            "/usr/local/lib/python3.7/dist-packages/ipykernel_launcher.py:4: SettingWithCopyWarning: \n",
            "A value is trying to be set on a copy of a slice from a DataFrame\n",
            "\n",
            "See the caveats in the documentation: https://pandas.pydata.org/pandas-docs/stable/user_guide/indexing.html#returning-a-view-versus-a-copy\n",
            "  after removing the cwd from sys.path.\n",
            "/usr/local/lib/python3.7/dist-packages/ipykernel_launcher.py:5: SettingWithCopyWarning: \n",
            "A value is trying to be set on a copy of a slice from a DataFrame\n",
            "\n",
            "See the caveats in the documentation: https://pandas.pydata.org/pandas-docs/stable/user_guide/indexing.html#returning-a-view-versus-a-copy\n",
            "  \"\"\"\n",
            "/usr/local/lib/python3.7/dist-packages/ipykernel_launcher.py:6: SettingWithCopyWarning: \n",
            "A value is trying to be set on a copy of a slice from a DataFrame\n",
            "\n",
            "See the caveats in the documentation: https://pandas.pydata.org/pandas-docs/stable/user_guide/indexing.html#returning-a-view-versus-a-copy\n",
            "  \n",
            "/usr/local/lib/python3.7/dist-packages/ipykernel_launcher.py:7: SettingWithCopyWarning: \n",
            "A value is trying to be set on a copy of a slice from a DataFrame\n",
            "\n",
            "See the caveats in the documentation: https://pandas.pydata.org/pandas-docs/stable/user_guide/indexing.html#returning-a-view-versus-a-copy\n",
            "  import sys\n",
            "/usr/local/lib/python3.7/dist-packages/ipykernel_launcher.py:8: SettingWithCopyWarning: \n",
            "A value is trying to be set on a copy of a slice from a DataFrame\n",
            "\n",
            "See the caveats in the documentation: https://pandas.pydata.org/pandas-docs/stable/user_guide/indexing.html#returning-a-view-versus-a-copy\n",
            "  \n"
          ],
          "name": "stderr"
        }
      ]
    },
    {
      "cell_type": "code",
      "metadata": {
        "colab": {
          "base_uri": "https://localhost:8080/"
        },
        "id": "pZv17CfEsIE9",
        "outputId": "d859cd85-abdb-4fca-83fa-db4a46f0ae12"
      },
      "source": [
        "x_df['gross_income'].unique()"
      ],
      "execution_count": 137,
      "outputs": [
        {
          "output_type": "execute_result",
          "data": {
            "text/plain": [
              "array([7.0000000e+00, 3.0000000e+00, 1.0000000e+00, 4.0000000e+00,\n",
              "       5.0000000e+00, 2.0000000e+00, 6.0000000e+00, 0.0000000e+00,\n",
              "       3.9999240e+04, 5.9999190e+04, 7.9999440e+04, 3.9999660e+04,\n",
              "       9.9999210e+04, 9.9999780e+04, 1.1999934e+05, 3.9999060e+04,\n",
              "       5.9999220e+04, 7.9999200e+04, 5.9999460e+04, 7.9999830e+04,\n",
              "       7.9999680e+04, 5.9999820e+04, 1.1999991e+05, 7.9999230e+04])"
            ]
          },
          "metadata": {
            "tags": []
          },
          "execution_count": 137
        }
      ]
    },
    {
      "cell_type": "code",
      "metadata": {
        "id": "9kOTVNg-sRzg"
      },
      "source": [
        "x_df['gross_income'] = x_df['gross_income'].apply(int)"
      ],
      "execution_count": 138,
      "outputs": []
    },
    {
      "cell_type": "code",
      "metadata": {
        "colab": {
          "base_uri": "https://localhost:8080/"
        },
        "id": "JVF6s8QssXX_",
        "outputId": "591fd168-b2ea-49b2-a449-67ccf41daa43"
      },
      "source": [
        "x_df['gross_income'].unique()"
      ],
      "execution_count": 139,
      "outputs": [
        {
          "output_type": "execute_result",
          "data": {
            "text/plain": [
              "array([     7,      3,      1,      4,      5,      2,      6,      0,\n",
              "        39999,  59999,  79999,  99999, 119999])"
            ]
          },
          "metadata": {
            "tags": []
          },
          "execution_count": 139
        }
      ]
    },
    {
      "cell_type": "code",
      "metadata": {
        "colab": {
          "base_uri": "https://localhost:8080/"
        },
        "id": "lqFobUaSsinC",
        "outputId": "d21e9fe0-5483-4f7f-a903-db86c87e8b20"
      },
      "source": [
        "x_df['gross_income'][x_df['gross_income'] == 39999]"
      ],
      "execution_count": 140,
      "outputs": [
        {
          "output_type": "execute_result",
          "data": {
            "text/plain": [
              "3151481    39999\n",
              "3198775    39999\n",
              "3271384    39999\n",
              "Name: gross_income, dtype: int64"
            ]
          },
          "metadata": {
            "tags": []
          },
          "execution_count": 140
        }
      ]
    },
    {
      "cell_type": "code",
      "metadata": {
        "id": "R2LayOJ_sxlV"
      },
      "source": [
        "x_df['gross_income'][x_df['gross_income'] == 39999] = 1\n",
        "x_df['gross_income'][x_df['gross_income'] == 59999] = 2\n",
        "x_df['gross_income'][x_df['gross_income'] == 79999] = 3\n",
        "x_df['gross_income'][x_df['gross_income'] == 99999] = 4\n",
        "x_df['gross_income'][x_df['gross_income'] == 119999] = 5"
      ],
      "execution_count": 141,
      "outputs": []
    },
    {
      "cell_type": "code",
      "metadata": {
        "colab": {
          "base_uri": "https://localhost:8080/"
        },
        "id": "hdX6Woc7s6KN",
        "outputId": "45f96858-66e4-4fe5-c383-92da040f28d9"
      },
      "source": [
        "x_df['gross_income'].unique()"
      ],
      "execution_count": 142,
      "outputs": [
        {
          "output_type": "execute_result",
          "data": {
            "text/plain": [
              "array([7, 3, 1, 4, 5, 2, 6, 0])"
            ]
          },
          "metadata": {
            "tags": []
          },
          "execution_count": 142
        }
      ]
    },
    {
      "cell_type": "code",
      "metadata": {
        "id": "q9iVmZUD9olu"
      },
      "source": [
        "x_df['customer_type'] = labelEncoder.fit_transform(x_df['customer_type'])"
      ],
      "execution_count": 143,
      "outputs": []
    },
    {
      "cell_type": "code",
      "metadata": {
        "colab": {
          "base_uri": "https://localhost:8080/"
        },
        "id": "VDfDTZdt94l-",
        "outputId": "a3cb8901-dd06-4839-c0ba-d2418790b12d"
      },
      "source": [
        "x_df['customer_type'].unique()"
      ],
      "execution_count": 144,
      "outputs": [
        {
          "output_type": "execute_result",
          "data": {
            "text/plain": [
              "array([0, 1])"
            ]
          },
          "metadata": {
            "tags": []
          },
          "execution_count": 144
        }
      ]
    },
    {
      "cell_type": "code",
      "metadata": {
        "id": "iHIloOiXisG2"
      },
      "source": [
        "customer_code_df = x_df.loc[:, 'customer_code']"
      ],
      "execution_count": 145,
      "outputs": []
    },
    {
      "cell_type": "markdown",
      "metadata": {
        "id": "y8Kzw8M3JYlt"
      },
      "source": [
        "# Splitting DataFrame"
      ]
    },
    {
      "cell_type": "code",
      "metadata": {
        "id": "saHew6EoJYIh"
      },
      "source": [
        "x = x_df.drop(['target', 'customer_code', 'channel_used', 'province_code', 'province_name'], axis=1)"
      ],
      "execution_count": 146,
      "outputs": []
    },
    {
      "cell_type": "code",
      "metadata": {
        "id": "9qdNU1smJnK9"
      },
      "source": [
        "y = x_df.loc[:, 'target'].values"
      ],
      "execution_count": 147,
      "outputs": []
    },
    {
      "cell_type": "code",
      "metadata": {
        "colab": {
          "base_uri": "https://localhost:8080/",
          "height": 282
        },
        "id": "SzyJdjQk6pUz",
        "outputId": "7c2da8a8-047c-4e85-936a-fa53e15c3ea0"
      },
      "source": [
        "plt.scatter(x['employee_index'], np.arange(len(x)))"
      ],
      "execution_count": 148,
      "outputs": [
        {
          "output_type": "execute_result",
          "data": {
            "text/plain": [
              "<matplotlib.collections.PathCollection at 0x7f8f5adbbd10>"
            ]
          },
          "metadata": {
            "tags": []
          },
          "execution_count": 148
        },
        {
          "output_type": "display_data",
          "data": {
            "image/png": "[encoded data removed]",
            "text/plain": [
              "<Figure size 432x288 with 1 Axes>"
            ]
          },
          "metadata": {
            "tags": [],
            "needs_background": "light"
          }
        }
      ]
    },
    {
      "cell_type": "code",
      "metadata": {
        "colab": {
          "base_uri": "https://localhost:8080/",
          "height": 282
        },
        "id": "6Y7myCe5CscA",
        "outputId": "abb49b30-7fe2-4b8f-98cf-da3a72941287"
      },
      "source": [
        "plt.scatter(y, np.arange(len(y)))"
      ],
      "execution_count": 149,
      "outputs": [
        {
          "output_type": "execute_result",
          "data": {
            "text/plain": [
              "<matplotlib.collections.PathCollection at 0x7f8f5b019c10>"
            ]
          },
          "metadata": {
            "tags": []
          },
          "execution_count": 149
        },
        {
          "output_type": "display_data",
          "data": {
            "image/png": "[encoded data removed]",
            "text/plain": [
              "<Figure size 432x288 with 1 Axes>"
            ]
          },
          "metadata": {
            "tags": [],
            "needs_background": "light"
          }
        }
      ]
    },
    {
      "cell_type": "code",
      "metadata": {
        "id": "ujYQeHl9Qjpd"
      },
      "source": [
        "x = x.values"
      ],
      "execution_count": 150,
      "outputs": []
    },
    {
      "cell_type": "code",
      "metadata": {
        "id": "5LVJkTtOeMn2"
      },
      "source": [
        "x_train = x[:int(len(x) * .7), :]\n",
        "x_test = x[int(len(x) * .7):, :]\n",
        "\n",
        "y_train = y[:int(len(y) * .7)]\n",
        "y_test = y[int(len(y) * .7):]"
      ],
      "execution_count": 179,
      "outputs": []
    },
    {
      "cell_type": "code",
      "metadata": {
        "colab": {
          "base_uri": "https://localhost:8080/"
        },
        "id": "8HGe6XboKTut",
        "outputId": "e114370f-111d-41ca-8a8f-f6494c67866f"
      },
      "source": [
        "x.shape"
      ],
      "execution_count": 180,
      "outputs": [
        {
          "output_type": "execute_result",
          "data": {
            "text/plain": [
              "(523650, 17)"
            ]
          },
          "metadata": {
            "tags": []
          },
          "execution_count": 180
        }
      ]
    },
    {
      "cell_type": "code",
      "metadata": {
        "colab": {
          "base_uri": "https://localhost:8080/"
        },
        "id": "EI3CTFd2Kd3W",
        "outputId": "59b6da8c-d413-4722-b354-dc8420373350"
      },
      "source": [
        "y.shape"
      ],
      "execution_count": 181,
      "outputs": [
        {
          "output_type": "execute_result",
          "data": {
            "text/plain": [
              "(523650,)"
            ]
          },
          "metadata": {
            "tags": []
          },
          "execution_count": 181
        }
      ]
    },
    {
      "cell_type": "code",
      "metadata": {
        "colab": {
          "base_uri": "https://localhost:8080/"
        },
        "id": "N0M43aMyLxuK",
        "outputId": "7648fa10-878e-4efc-93dd-d565417f94f4"
      },
      "source": [
        "x_train.shape"
      ],
      "execution_count": 182,
      "outputs": [
        {
          "output_type": "execute_result",
          "data": {
            "text/plain": [
              "(366555, 17)"
            ]
          },
          "metadata": {
            "tags": []
          },
          "execution_count": 182
        }
      ]
    },
    {
      "cell_type": "code",
      "metadata": {
        "colab": {
          "base_uri": "https://localhost:8080/"
        },
        "id": "AGdzDVjQLxW_",
        "outputId": "0399d856-6e34-418f-bd3a-4dcd42c10e06"
      },
      "source": [
        "x_test.shape"
      ],
      "execution_count": 183,
      "outputs": [
        {
          "output_type": "execute_result",
          "data": {
            "text/plain": [
              "(157095, 17)"
            ]
          },
          "metadata": {
            "tags": []
          },
          "execution_count": 183
        }
      ]
    },
    {
      "cell_type": "code",
      "metadata": {
        "colab": {
          "base_uri": "https://localhost:8080/"
        },
        "id": "QT38ODw9KZTd",
        "outputId": "b2da71c9-f32e-4c05-b48c-a56dc0261f17"
      },
      "source": [
        "y_train.shape"
      ],
      "execution_count": 184,
      "outputs": [
        {
          "output_type": "execute_result",
          "data": {
            "text/plain": [
              "(366555,)"
            ]
          },
          "metadata": {
            "tags": []
          },
          "execution_count": 184
        }
      ]
    },
    {
      "cell_type": "code",
      "metadata": {
        "colab": {
          "base_uri": "https://localhost:8080/"
        },
        "id": "GCVCu2h4KiBW",
        "outputId": "1b5e9ed3-bc2e-4740-a23e-367fa832a310"
      },
      "source": [
        "y_test.shape"
      ],
      "execution_count": 185,
      "outputs": [
        {
          "output_type": "execute_result",
          "data": {
            "text/plain": [
              "(157095,)"
            ]
          },
          "metadata": {
            "tags": []
          },
          "execution_count": 185
        }
      ]
    },
    {
      "cell_type": "markdown",
      "metadata": {
        "id": "dFt_CnuPQwVB"
      },
      "source": [
        "# Random Forest v.0.0.1"
      ]
    },
    {
      "cell_type": "code",
      "metadata": {
        "id": "mlkU4dboQviq"
      },
      "source": [
        "def rfc_model(x_data, y_data, max_depth=6, max_features=\"auto\", criterion='gini', max_leaf_nodes=None, random_state=0, \n",
        "              n_jobs=None, accuracy_feature_name=\"\"):\n",
        "  clf_model = RandomForestClassifier(max_depth=max_depth, max_features=max_features, \n",
        "                               criterion=criterion, max_leaf_nodes=max_leaf_nodes, \n",
        "                               random_state=random_state, n_jobs=n_jobs)\n",
        "  clf_model.fit(x_data, y_data)\n",
        "  y_pred = clf_model.predict(x_data)\n",
        "  print(\"Accuracy:\", accuracy_feature_name, '-->', accuracy_score(y_data, y_pred))\n",
        "  print(accuracy_feature_name, '-->', classification_report(y_data, y_pred))"
      ],
      "execution_count": 199,
      "outputs": []
    },
    {
      "cell_type": "code",
      "metadata": {
        "id": "NysXAaFP1mOu",
        "colab": {
          "base_uri": "https://localhost:8080/"
        },
        "outputId": "cceb0d3c-563d-47ef-9a7e-c6c097ffc6f0"
      },
      "source": [
        "rfc_model(x, y, max_depth=7, random_state=8, criterion='entropy', accuracy_feature_name=\"Max Depth = \" + str(7) + \", Random State = \" + str(8))"
      ],
      "execution_count": 200,
      "outputs": [
        {
          "output_type": "stream",
          "text": [
            "Accuracy: Max Depth = 7, Random State = 8 --> 0.9100467869760336\n"
          ],
          "name": "stdout"
        },
        {
          "output_type": "stream",
          "text": [
            "/usr/local/lib/python3.7/dist-packages/sklearn/metrics/_classification.py:1272: UndefinedMetricWarning: Precision and F-score are ill-defined and being set to 0.0 in labels with no predicted samples. Use `zero_division` parameter to control this behavior.\n",
            "  _warn_prf(average, modifier, msg_start, len(result))\n"
          ],
          "name": "stderr"
        },
        {
          "output_type": "stream",
          "text": [
            "Max Depth = 7, Random State = 8 -->               precision    recall  f1-score   support\n",
            "\n",
            "           0       1.00      0.97      0.98     12693\n",
            "           1       0.00      0.00      0.00        15\n",
            "           2       0.98      1.00      0.99    266512\n",
            "           3       0.00      0.00      0.00        67\n",
            "           4       0.95      0.50      0.65      5581\n",
            "           5       0.99      1.00      1.00      6657\n",
            "           6       0.97      0.51      0.67      3580\n",
            "           7       0.89      1.00      0.94     54738\n",
            "           8       0.96      0.76      0.85     11259\n",
            "           9       1.00      0.78      0.88      1129\n",
            "          10       0.00      0.00      0.00       408\n",
            "          11       0.95      0.88      0.91     12487\n",
            "          12       0.85      0.94      0.89     22621\n",
            "          13       0.95      0.00      0.01      5640\n",
            "          14       0.00      0.00      0.00       397\n",
            "          15       0.00      0.00      0.00      2364\n",
            "          16       1.00      0.02      0.04      1149\n",
            "          17       0.87      0.31      0.46     10883\n",
            "          18       0.00      0.00      0.00      8298\n",
            "          19       1.00      0.08      0.14      9418\n",
            "          20       0.00      0.00      0.00      1849\n",
            "          21       0.74      1.00      0.85     85905\n",
            "\n",
            "    accuracy                           0.91    523650\n",
            "   macro avg       0.64      0.44      0.47    523650\n",
            "weighted avg       0.90      0.91      0.88    523650\n",
            "\n"
          ],
          "name": "stdout"
        }
      ]
    },
    {
      "cell_type": "code",
      "metadata": {
        "id": "LRyIBtZaGgjy"
      },
      "source": [
        "clf_model = RandomForestClassifier(max_depth=7, criterion='entropy')\n",
        "clf_model.fit(x_train, y_train)\n",
        "y_pred = clf_model.predict(x_test)"
      ],
      "execution_count": 201,
      "outputs": []
    },
    {
      "cell_type": "code",
      "metadata": {
        "colab": {
          "base_uri": "https://localhost:8080/"
        },
        "id": "3Pb2Zr8HGhn4",
        "outputId": "4f07e662-ae00-4432-851c-126f2a745832"
      },
      "source": [
        "print(\"Accuracy:\", accuracy_score(y_test, y_pred))\n",
        "print(classification_report(y_test, y_pred))"
      ],
      "execution_count": 202,
      "outputs": [
        {
          "output_type": "stream",
          "text": [
            "Accuracy: 0.8051879436010058\n",
            "              precision    recall  f1-score   support\n",
            "\n",
            "           0       1.00      0.94      0.97      6177\n",
            "           1       0.00      0.00      0.00         8\n",
            "           2       0.98      1.00      0.99     48354\n",
            "           3       0.00      0.00      0.00        46\n",
            "           4       0.86      0.08      0.15       741\n",
            "           5       1.00      1.00      1.00      3767\n",
            "           6       1.00      0.52      0.69       937\n",
            "           7       0.65      1.00      0.79     23289\n",
            "           8       0.99      0.39      0.56      9617\n",
            "           9       0.98      0.56      0.71       159\n",
            "          10       0.00      0.00      0.00       266\n",
            "          11       0.91      0.33      0.49      6354\n",
            "          12       0.88      0.78      0.82      7135\n",
            "          13       1.00      0.00      0.01      2519\n",
            "          14       0.00      0.00      0.00       203\n",
            "          15       0.00      0.00      0.00       900\n",
            "          16       0.00      0.00      0.00       983\n",
            "          17       0.88      0.37      0.52      5234\n",
            "          18       0.00      0.00      0.00      3960\n",
            "          19       0.97      0.01      0.03      4355\n",
            "          20       0.00      0.00      0.00       876\n",
            "          21       0.66      1.00      0.80     31215\n",
            "\n",
            "    accuracy                           0.81    157095\n",
            "   macro avg       0.58      0.36      0.39    157095\n",
            "weighted avg       0.81      0.81      0.76    157095\n",
            "\n"
          ],
          "name": "stdout"
        },
        {
          "output_type": "stream",
          "text": [
            "/usr/local/lib/python3.7/dist-packages/sklearn/metrics/_classification.py:1272: UndefinedMetricWarning: Precision and F-score are ill-defined and being set to 0.0 in labels with no predicted samples. Use `zero_division` parameter to control this behavior.\n",
            "  _warn_prf(average, modifier, msg_start, len(result))\n"
          ],
          "name": "stderr"
        }
      ]
    },
    {
      "cell_type": "markdown",
      "metadata": {
        "id": "sdyKbugzJAj7"
      },
      "source": [
        "# XGBoost Model Training v.0.0.1"
      ]
    },
    {
      "cell_type": "code",
      "metadata": {
        "id": "YYg7Ak44JHqs"
      },
      "source": [
        "param = {}\n",
        "param['objective'] = 'multi:softprob'\n",
        "param['eta'] = 0.8\n",
        "param['max_depth'] = 7\n",
        "param['silent'] = 1\n",
        "param['num_class'] = 22\n",
        "param['eval_metric'] = \"mlogloss\"\n",
        "param['min_child_weight'] = 12\n",
        "param['subsample'] = 0.85\n",
        "param['colsample_bytree'] = 0.9\n",
        "param['seed'] = 1\n",
        "num_rounds = 3\n",
        " \n",
        "plst = list(param.items())\n",
        "xgtrain = xgb.DMatrix(x, label=y)\n",
        "model = xgb.train(plst, xgtrain, num_rounds)"
      ],
      "execution_count": null,
      "outputs": []
    },
    {
      "cell_type": "markdown",
      "metadata": {
        "id": "sgp6DHhZIJgb"
      },
      "source": [
        "# XGBoost Model Testing v.0.0.1"
      ]
    },
    {
      "cell_type": "code",
      "metadata": {
        "id": "6TU2978D83bY"
      },
      "source": [
        "xgtest = xgb.DMatrix(x)\n",
        "preds = model.predict(xgtest)"
      ],
      "execution_count": null,
      "outputs": []
    },
    {
      "cell_type": "code",
      "metadata": {
        "id": "Sg9pM-Qy-RmM"
      },
      "source": [
        "len(preds[0, :])"
      ],
      "execution_count": null,
      "outputs": []
    },
    {
      "cell_type": "code",
      "metadata": {
        "id": "hb3f-zgE-ztA"
      },
      "source": [
        "preds.shape"
      ],
      "execution_count": null,
      "outputs": []
    },
    {
      "cell_type": "code",
      "metadata": {
        "id": "r673i2LJS76d"
      },
      "source": [
        "preds[0, :]"
      ],
      "execution_count": null,
      "outputs": []
    },
    {
      "cell_type": "code",
      "metadata": {
        "id": "SIq0L5s0Tobk"
      },
      "source": [
        "sorted(preds[0, :], reverse=True)"
      ],
      "execution_count": null,
      "outputs": []
    },
    {
      "cell_type": "code",
      "metadata": {
        "id": "IkEdsE2j3ZRX"
      },
      "source": [
        "customer_code = customer_code_df.values"
      ],
      "execution_count": null,
      "outputs": []
    },
    {
      "cell_type": "code",
      "metadata": {
        "id": "do8EdaVC3uhH"
      },
      "source": [
        "len(customer_code)"
      ],
      "execution_count": null,
      "outputs": []
    },
    {
      "cell_type": "code",
      "metadata": {
        "id": "aVP7oG73edj6"
      },
      "source": [
        "out_df = {}\n",
        "\n",
        "for i in range(len(preds)):\n",
        "  pred_products = dict()\n",
        "  for j in range(len(products)):\n",
        "    pred_products[products_label[j]] = preds[i, products[j]]\n",
        "  # print(list({k: pred_products[k] for k in sorted(pred_products, key=pred_products.get, reverse=True)}.keys())[:8])\n",
        "  out_df[customer_code[i]] = list({k: pred_products[k] for k in sorted(pred_products, key=pred_products.get, reverse=True)}.keys())[:8]"
      ],
      "execution_count": null,
      "outputs": []
    },
    {
      "cell_type": "code",
      "metadata": {
        "id": "odoJiqbOrrIP"
      },
      "source": [
        "out_df"
      ],
      "execution_count": null,
      "outputs": []
    },
    {
      "cell_type": "markdown",
      "metadata": {
        "id": "ET-L4MO8bgxG"
      },
      "source": [
        "# KNN v.0.0.1"
      ]
    },
    {
      "cell_type": "code",
      "metadata": {
        "id": "OvgwW_JobD1N"
      },
      "source": [
        "from sklearn.neighbors import KNeighborsClassifier"
      ],
      "execution_count": 190,
      "outputs": []
    },
    {
      "cell_type": "code",
      "metadata": {
        "id": "9sSCw1QqblQL"
      },
      "source": [
        "knn_model = KNeighborsClassifier(n_neighbors=2, algorithm='ball_tree', p=1)"
      ],
      "execution_count": 191,
      "outputs": []
    },
    {
      "cell_type": "code",
      "metadata": {
        "colab": {
          "base_uri": "https://localhost:8080/"
        },
        "id": "sh1u5IV1btzk",
        "outputId": "f63be0e1-f319-4ea2-b945-0ddefee38efb"
      },
      "source": [
        "knn_model.fit(x_train, y_train)"
      ],
      "execution_count": 192,
      "outputs": [
        {
          "output_type": "execute_result",
          "data": {
            "text/plain": [
              "KNeighborsClassifier(algorithm='ball_tree', leaf_size=30, metric='minkowski',\n",
              "                     metric_params=None, n_jobs=None, n_neighbors=2, p=1,\n",
              "                     weights='uniform')"
            ]
          },
          "metadata": {
            "tags": []
          },
          "execution_count": 192
        }
      ]
    },
    {
      "cell_type": "code",
      "metadata": {
        "id": "F08LNt89b-mO"
      },
      "source": [
        "y_preds = knn_model.predict(x_test)"
      ],
      "execution_count": 155,
      "outputs": []
    },
    {
      "cell_type": "code",
      "metadata": {
        "id": "KCKWtlFzkp_a",
        "colab": {
          "base_uri": "https://localhost:8080/"
        },
        "outputId": "1b71c01e-5d80-4b88-fcee-60c2fac7a899"
      },
      "source": [
        "print(\"Accuracy:\", accuracy_score(y_test, y_preds))"
      ],
      "execution_count": 156,
      "outputs": [
        {
          "output_type": "stream",
          "text": [
            "Accuracy: 0.9897164136350616\n"
          ],
          "name": "stdout"
        }
      ]
    },
    {
      "cell_type": "markdown",
      "metadata": {
        "id": "A4PBiih_VnX3"
      },
      "source": [
        "#KNN Training"
      ]
    },
    {
      "cell_type": "code",
      "metadata": {
        "colab": {
          "base_uri": "https://localhost:8080/"
        },
        "id": "EHQqtDujV1nO",
        "outputId": "6c17a641-aa1f-4bdc-d0d5-5a0b3b41f01c"
      },
      "source": [
        "knn_model.fit(x_train, y_train)"
      ],
      "execution_count": 193,
      "outputs": [
        {
          "output_type": "execute_result",
          "data": {
            "text/plain": [
              "KNeighborsClassifier(algorithm='ball_tree', leaf_size=30, metric='minkowski',\n",
              "                     metric_params=None, n_jobs=None, n_neighbors=2, p=1,\n",
              "                     weights='uniform')"
            ]
          },
          "metadata": {
            "tags": []
          },
          "execution_count": 193
        }
      ]
    },
    {
      "cell_type": "code",
      "metadata": {
        "id": "auMRplnVV7in"
      },
      "source": [
        "y_preds = knn_model.predict(x_train)"
      ],
      "execution_count": 194,
      "outputs": []
    },
    {
      "cell_type": "code",
      "metadata": {
        "colab": {
          "base_uri": "https://localhost:8080/"
        },
        "id": "UbO3Gd7XWA3Y",
        "outputId": "288fbe0b-0391-48e3-d80c-f4dd931fcd11"
      },
      "source": [
        "print(\"Accuracy:\", accuracy_score(y_train, y_preds))"
      ],
      "execution_count": 195,
      "outputs": [
        {
          "output_type": "stream",
          "text": [
            "Accuracy: 0.9967753815934853\n"
          ],
          "name": "stdout"
        }
      ]
    },
    {
      "cell_type": "markdown",
      "metadata": {
        "id": "mW1QKwqnWDP3"
      },
      "source": [
        "#KNN Testing"
      ]
    },
    {
      "cell_type": "code",
      "metadata": {
        "colab": {
          "base_uri": "https://localhost:8080/"
        },
        "id": "d08EmZO2WIAo",
        "outputId": "c59c7725-f10f-4a34-a11d-74f55052bc5a"
      },
      "source": [
        "knn_model.fit(x_test, y_test)"
      ],
      "execution_count": 196,
      "outputs": [
        {
          "output_type": "execute_result",
          "data": {
            "text/plain": [
              "KNeighborsClassifier(algorithm='ball_tree', leaf_size=30, metric='minkowski',\n",
              "                     metric_params=None, n_jobs=None, n_neighbors=2, p=1,\n",
              "                     weights='uniform')"
            ]
          },
          "metadata": {
            "tags": []
          },
          "execution_count": 196
        }
      ]
    },
    {
      "cell_type": "code",
      "metadata": {
        "id": "V9AEs_6qWHu5"
      },
      "source": [
        "y_preds = knn_model.predict(x_test)"
      ],
      "execution_count": 197,
      "outputs": []
    },
    {
      "cell_type": "code",
      "metadata": {
        "colab": {
          "base_uri": "https://localhost:8080/"
        },
        "id": "2bS7Ufn-WGZd",
        "outputId": "585ced51-f4d1-4151-8c02-03ecccf083ac"
      },
      "source": [
        "print(\"Accuracy:\", accuracy_score(y_test, y_preds))"
      ],
      "execution_count": 198,
      "outputs": [
        {
          "output_type": "stream",
          "text": [
            "Accuracy: 0.9923231165855055\n"
          ],
          "name": "stdout"
        }
      ]
    }
  ]
}